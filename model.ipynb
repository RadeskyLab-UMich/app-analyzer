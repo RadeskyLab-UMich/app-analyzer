{
 "cells": [
  {
   "cell_type": "code",
   "execution_count": 1,
   "metadata": {},
   "outputs": [],
   "source": [
    "import numpy as np\n",
    "import pandas as pd\n",
    "import seaborn as sns\n",
    "import matplotlib.pyplot as plt"
   ]
  },
  {
   "attachments": {},
   "cell_type": "markdown",
   "metadata": {},
   "source": [
    "## Merging Datasets"
   ]
  },
  {
   "attachments": {},
   "cell_type": "markdown",
   "metadata": {},
   "source": [
    "### Play Store"
   ]
  },
  {
   "cell_type": "code",
   "execution_count": 2,
   "metadata": {},
   "outputs": [],
   "source": [
    "play_features = pd.read_csv(\"data/play_features_0317.csv\")\n",
    "play_features_new = pd.read_csv(\"data/play_features_0422.csv\")\n",
    "play_features_full = pd.concat([play_features_new[play_features.columns], play_features]).drop_duplicates(subset=['appId'])\n",
    "\n",
    "# merging labeled apps\n",
    "play_labeled = pd.read_csv(\"data/p01_apps_play_0202.csv\")[['app_fullname', 'Educational', 'Violent', 'Manipulative_3plus', 'Manipulative_2plus']].dropna(subset=['app_fullname'])\n",
    "play_labeled_new = pd.read_csv(\"data/p01_apps_play_0421.csv\")[['app_fullname', 'Educational', 'Violent', 'Manipulative_3plus', 'Manipulative_2plus']].dropna(subset=['app_fullname'])\n",
    "play_labeled_p01 = play_labeled_new.merge(play_labeled, on=['app_fullname', 'Educational', 'Violent', 'Manipulative_3plus', 'Manipulative_2plus'], how='outer')"
   ]
  },
  {
   "cell_type": "code",
   "execution_count": 3,
   "metadata": {},
   "outputs": [
    {
     "data": {
      "text/html": [
       "<div>\n",
       "<style scoped>\n",
       "    .dataframe tbody tr th:only-of-type {\n",
       "        vertical-align: middle;\n",
       "    }\n",
       "\n",
       "    .dataframe tbody tr th {\n",
       "        vertical-align: top;\n",
       "    }\n",
       "\n",
       "    .dataframe thead th {\n",
       "        text-align: right;\n",
       "    }\n",
       "</style>\n",
       "<table border=\"1\" class=\"dataframe\">\n",
       "  <thead>\n",
       "    <tr style=\"text-align: right;\">\n",
       "      <th></th>\n",
       "      <th>reviews</th>\n",
       "      <th>offersIAP</th>\n",
       "      <th>ratings</th>\n",
       "      <th>containsAds</th>\n",
       "      <th>realInstalls</th>\n",
       "      <th>contentRating</th>\n",
       "      <th>adSupported</th>\n",
       "      <th>title</th>\n",
       "      <th>sale</th>\n",
       "      <th>score</th>\n",
       "      <th>...</th>\n",
       "      <th>ratingsStd</th>\n",
       "      <th>ratingsSkew</th>\n",
       "      <th>descriptionSentiment</th>\n",
       "      <th>reviewsSentiment</th>\n",
       "      <th>descriptionReadability</th>\n",
       "      <th>descriptionGrammar</th>\n",
       "      <th>developerNApps</th>\n",
       "      <th>developerAppAgeMedian</th>\n",
       "      <th>developerCountry</th>\n",
       "      <th>releasedYear</th>\n",
       "    </tr>\n",
       "  </thead>\n",
       "  <tbody>\n",
       "    <tr>\n",
       "      <th>0</th>\n",
       "      <td>201</td>\n",
       "      <td>False</td>\n",
       "      <td>15651</td>\n",
       "      <td>True</td>\n",
       "      <td>11887057</td>\n",
       "      <td>Teen</td>\n",
       "      <td>True</td>\n",
       "      <td>Gossip Girls Divas Highschool</td>\n",
       "      <td>False</td>\n",
       "      <td>3.790000</td>\n",
       "      <td>...</td>\n",
       "      <td>1.6568</td>\n",
       "      <td>-0.8693</td>\n",
       "      <td>0.9975</td>\n",
       "      <td>0.1402</td>\n",
       "      <td>10.5</td>\n",
       "      <td>99.64</td>\n",
       "      <td>20</td>\n",
       "      <td>6.1</td>\n",
       "      <td>RO</td>\n",
       "      <td>2018.0</td>\n",
       "    </tr>\n",
       "    <tr>\n",
       "      <th>1</th>\n",
       "      <td>38</td>\n",
       "      <td>False</td>\n",
       "      <td>969</td>\n",
       "      <td>True</td>\n",
       "      <td>1313098</td>\n",
       "      <td>Teen</td>\n",
       "      <td>True</td>\n",
       "      <td>Injured Dolphin Care</td>\n",
       "      <td>False</td>\n",
       "      <td>4.287234</td>\n",
       "      <td>...</td>\n",
       "      <td>1.3722</td>\n",
       "      <td>-1.6661</td>\n",
       "      <td>0.9972</td>\n",
       "      <td>0.3987</td>\n",
       "      <td>10.9</td>\n",
       "      <td>99.52</td>\n",
       "      <td>20</td>\n",
       "      <td>6.1</td>\n",
       "      <td>RO</td>\n",
       "      <td>2016.0</td>\n",
       "    </tr>\n",
       "    <tr>\n",
       "      <th>2</th>\n",
       "      <td>0</td>\n",
       "      <td>False</td>\n",
       "      <td>0</td>\n",
       "      <td>False</td>\n",
       "      <td>1469</td>\n",
       "      <td>Everyone</td>\n",
       "      <td>False</td>\n",
       "      <td>Tongo Music - for kids</td>\n",
       "      <td>False</td>\n",
       "      <td>0.000000</td>\n",
       "      <td>...</td>\n",
       "      <td>NaN</td>\n",
       "      <td>NaN</td>\n",
       "      <td>0.9955</td>\n",
       "      <td>0.2498</td>\n",
       "      <td>9.2</td>\n",
       "      <td>99.95</td>\n",
       "      <td>2</td>\n",
       "      <td>4.4</td>\n",
       "      <td>DE</td>\n",
       "      <td>2016.0</td>\n",
       "    </tr>\n",
       "    <tr>\n",
       "      <th>3</th>\n",
       "      <td>830</td>\n",
       "      <td>True</td>\n",
       "      <td>12836</td>\n",
       "      <td>False</td>\n",
       "      <td>4756511</td>\n",
       "      <td>Everyone</td>\n",
       "      <td>False</td>\n",
       "      <td>CHOMP by Christoph Niemann</td>\n",
       "      <td>False</td>\n",
       "      <td>4.455555</td>\n",
       "      <td>...</td>\n",
       "      <td>1.1704</td>\n",
       "      <td>-2.0864</td>\n",
       "      <td>0.9988</td>\n",
       "      <td>0.7547</td>\n",
       "      <td>7.8</td>\n",
       "      <td>99.79</td>\n",
       "      <td>10</td>\n",
       "      <td>5.1</td>\n",
       "      <td>DE</td>\n",
       "      <td>2016.0</td>\n",
       "    </tr>\n",
       "    <tr>\n",
       "      <th>4</th>\n",
       "      <td>312627</td>\n",
       "      <td>True</td>\n",
       "      <td>6720849</td>\n",
       "      <td>True</td>\n",
       "      <td>541822129</td>\n",
       "      <td>Everyone</td>\n",
       "      <td>True</td>\n",
       "      <td>slither.io</td>\n",
       "      <td>False</td>\n",
       "      <td>3.953574</td>\n",
       "      <td>...</td>\n",
       "      <td>1.5299</td>\n",
       "      <td>-1.1132</td>\n",
       "      <td>0.8807</td>\n",
       "      <td>0.5517</td>\n",
       "      <td>4.2</td>\n",
       "      <td>99.77</td>\n",
       "      <td>1</td>\n",
       "      <td>7.1</td>\n",
       "      <td>US</td>\n",
       "      <td>2016.0</td>\n",
       "    </tr>\n",
       "  </tbody>\n",
       "</table>\n",
       "<p>5 rows × 24 columns</p>\n",
       "</div>"
      ],
      "text/plain": [
       "   reviews  offersIAP  ratings  containsAds  realInstalls contentRating  \\\n",
       "0      201      False    15651         True      11887057          Teen   \n",
       "1       38      False      969         True       1313098          Teen   \n",
       "2        0      False        0        False          1469      Everyone   \n",
       "3      830       True    12836        False       4756511      Everyone   \n",
       "4   312627       True  6720849         True     541822129      Everyone   \n",
       "\n",
       "   adSupported                          title   sale     score  ...  \\\n",
       "0         True  Gossip Girls Divas Highschool  False  3.790000  ...   \n",
       "1         True           Injured Dolphin Care  False  4.287234  ...   \n",
       "2        False         Tongo Music - for kids  False  0.000000  ...   \n",
       "3        False     CHOMP by Christoph Niemann  False  4.455555  ...   \n",
       "4         True                     slither.io  False  3.953574  ...   \n",
       "\n",
       "   ratingsStd ratingsSkew  descriptionSentiment reviewsSentiment  \\\n",
       "0      1.6568     -0.8693                0.9975           0.1402   \n",
       "1      1.3722     -1.6661                0.9972           0.3987   \n",
       "2         NaN         NaN                0.9955           0.2498   \n",
       "3      1.1704     -2.0864                0.9988           0.7547   \n",
       "4      1.5299     -1.1132                0.8807           0.5517   \n",
       "\n",
       "   descriptionReadability  descriptionGrammar  developerNApps  \\\n",
       "0                    10.5               99.64              20   \n",
       "1                    10.9               99.52              20   \n",
       "2                     9.2               99.95               2   \n",
       "3                     7.8               99.79              10   \n",
       "4                     4.2               99.77               1   \n",
       "\n",
       "   developerAppAgeMedian  developerCountry  releasedYear  \n",
       "0                    6.1                RO        2018.0  \n",
       "1                    6.1                RO        2016.0  \n",
       "2                    4.4                DE        2016.0  \n",
       "3                    5.1                DE        2016.0  \n",
       "4                    7.1                US        2016.0  \n",
       "\n",
       "[5 rows x 24 columns]"
      ]
     },
     "execution_count": 3,
     "metadata": {},
     "output_type": "execute_result"
    }
   ],
   "source": [
    "play_features_full.head()"
   ]
  },
  {
   "cell_type": "code",
   "execution_count": 4,
   "metadata": {},
   "outputs": [
    {
     "data": {
      "text/html": [
       "<div>\n",
       "<style scoped>\n",
       "    .dataframe tbody tr th:only-of-type {\n",
       "        vertical-align: middle;\n",
       "    }\n",
       "\n",
       "    .dataframe tbody tr th {\n",
       "        vertical-align: top;\n",
       "    }\n",
       "\n",
       "    .dataframe thead th {\n",
       "        text-align: right;\n",
       "    }\n",
       "</style>\n",
       "<table border=\"1\" class=\"dataframe\">\n",
       "  <thead>\n",
       "    <tr style=\"text-align: right;\">\n",
       "      <th></th>\n",
       "      <th>app_fullname</th>\n",
       "      <th>Educational</th>\n",
       "      <th>Violent</th>\n",
       "      <th>Manipulative_3plus</th>\n",
       "      <th>Manipulative_2plus</th>\n",
       "    </tr>\n",
       "  </thead>\n",
       "  <tbody>\n",
       "    <tr>\n",
       "      <th>0</th>\n",
       "      <td>air.com.bmapps.gossipgirlsdivasinhighschool</td>\n",
       "      <td>0.0</td>\n",
       "      <td>0.0</td>\n",
       "      <td>NaN</td>\n",
       "      <td>NaN</td>\n",
       "    </tr>\n",
       "    <tr>\n",
       "      <th>1</th>\n",
       "      <td>air.com.bmapps.injureddolphincare</td>\n",
       "      <td>0.0</td>\n",
       "      <td>0.0</td>\n",
       "      <td>NaN</td>\n",
       "      <td>NaN</td>\n",
       "    </tr>\n",
       "    <tr>\n",
       "      <th>2</th>\n",
       "      <td>air.com.CaringForPuppySalon</td>\n",
       "      <td>NaN</td>\n",
       "      <td>NaN</td>\n",
       "      <td>NaN</td>\n",
       "      <td>NaN</td>\n",
       "    </tr>\n",
       "    <tr>\n",
       "      <th>3</th>\n",
       "      <td>air.com.cloudkid.peep.hideandpeep</td>\n",
       "      <td>1.0</td>\n",
       "      <td>0.0</td>\n",
       "      <td>NaN</td>\n",
       "      <td>NaN</td>\n",
       "    </tr>\n",
       "    <tr>\n",
       "      <th>4</th>\n",
       "      <td>air.com.cloudkid.peep.paintsplat</td>\n",
       "      <td>1.0</td>\n",
       "      <td>0.0</td>\n",
       "      <td>NaN</td>\n",
       "      <td>NaN</td>\n",
       "    </tr>\n",
       "  </tbody>\n",
       "</table>\n",
       "</div>"
      ],
      "text/plain": [
       "                                  app_fullname  Educational  Violent  \\\n",
       "0  air.com.bmapps.gossipgirlsdivasinhighschool          0.0      0.0   \n",
       "1            air.com.bmapps.injureddolphincare          0.0      0.0   \n",
       "2                  air.com.CaringForPuppySalon          NaN      NaN   \n",
       "3            air.com.cloudkid.peep.hideandpeep          1.0      0.0   \n",
       "4             air.com.cloudkid.peep.paintsplat          1.0      0.0   \n",
       "\n",
       "   Manipulative_3plus  Manipulative_2plus  \n",
       "0                 NaN                 NaN  \n",
       "1                 NaN                 NaN  \n",
       "2                 NaN                 NaN  \n",
       "3                 NaN                 NaN  \n",
       "4                 NaN                 NaN  "
      ]
     },
     "execution_count": 4,
     "metadata": {},
     "output_type": "execute_result"
    }
   ],
   "source": [
    "play_labeled_p01.head()"
   ]
  },
  {
   "cell_type": "code",
   "execution_count": 5,
   "metadata": {},
   "outputs": [
    {
     "data": {
      "text/plain": [
       "0.0    313\n",
       "1.0     93\n",
       "Name: Educational, dtype: int64"
      ]
     },
     "execution_count": 5,
     "metadata": {},
     "output_type": "execute_result"
    }
   ],
   "source": [
    "play_labeled_p01['Educational'].value_counts()"
   ]
  },
  {
   "cell_type": "code",
   "execution_count": 6,
   "metadata": {},
   "outputs": [],
   "source": [
    "play_full = play_labeled_p01.merge(play_features_full, left_on=\"app_fullname\", right_on=\"appId\", how=\"inner\")"
   ]
  },
  {
   "cell_type": "code",
   "execution_count": 7,
   "metadata": {},
   "outputs": [
    {
     "data": {
      "text/plain": [
       "(437, 29)"
      ]
     },
     "execution_count": 7,
     "metadata": {},
     "output_type": "execute_result"
    }
   ],
   "source": [
    "play_full.shape"
   ]
  },
  {
   "cell_type": "code",
   "execution_count": 8,
   "metadata": {},
   "outputs": [],
   "source": [
    "play_full['releasedYears'] = 2023 - play_full['releasedYear']"
   ]
  },
  {
   "cell_type": "code",
   "execution_count": 9,
   "metadata": {},
   "outputs": [
    {
     "data": {
      "text/html": [
       "<div>\n",
       "<style scoped>\n",
       "    .dataframe tbody tr th:only-of-type {\n",
       "        vertical-align: middle;\n",
       "    }\n",
       "\n",
       "    .dataframe tbody tr th {\n",
       "        vertical-align: top;\n",
       "    }\n",
       "\n",
       "    .dataframe thead th {\n",
       "        text-align: right;\n",
       "    }\n",
       "</style>\n",
       "<table border=\"1\" class=\"dataframe\">\n",
       "  <thead>\n",
       "    <tr style=\"text-align: right;\">\n",
       "      <th></th>\n",
       "      <th>app_fullname</th>\n",
       "      <th>Educational</th>\n",
       "      <th>Violent</th>\n",
       "      <th>Manipulative_3plus</th>\n",
       "      <th>Manipulative_2plus</th>\n",
       "      <th>reviews</th>\n",
       "      <th>offersIAP</th>\n",
       "      <th>ratings</th>\n",
       "      <th>containsAds</th>\n",
       "      <th>realInstalls</th>\n",
       "      <th>...</th>\n",
       "      <th>ratingsSkew</th>\n",
       "      <th>descriptionSentiment</th>\n",
       "      <th>reviewsSentiment</th>\n",
       "      <th>descriptionReadability</th>\n",
       "      <th>descriptionGrammar</th>\n",
       "      <th>developerNApps</th>\n",
       "      <th>developerAppAgeMedian</th>\n",
       "      <th>developerCountry</th>\n",
       "      <th>releasedYear</th>\n",
       "      <th>releasedYears</th>\n",
       "    </tr>\n",
       "  </thead>\n",
       "  <tbody>\n",
       "    <tr>\n",
       "      <th>0</th>\n",
       "      <td>air.com.bmapps.gossipgirlsdivasinhighschool</td>\n",
       "      <td>0.0</td>\n",
       "      <td>0.0</td>\n",
       "      <td>NaN</td>\n",
       "      <td>NaN</td>\n",
       "      <td>201</td>\n",
       "      <td>False</td>\n",
       "      <td>15651</td>\n",
       "      <td>True</td>\n",
       "      <td>11887057</td>\n",
       "      <td>...</td>\n",
       "      <td>-0.8693</td>\n",
       "      <td>0.9975</td>\n",
       "      <td>0.1402</td>\n",
       "      <td>10.5</td>\n",
       "      <td>99.64</td>\n",
       "      <td>20</td>\n",
       "      <td>6.1</td>\n",
       "      <td>RO</td>\n",
       "      <td>2018.0</td>\n",
       "      <td>5.0</td>\n",
       "    </tr>\n",
       "    <tr>\n",
       "      <th>1</th>\n",
       "      <td>air.com.bmapps.injureddolphincare</td>\n",
       "      <td>0.0</td>\n",
       "      <td>0.0</td>\n",
       "      <td>NaN</td>\n",
       "      <td>NaN</td>\n",
       "      <td>38</td>\n",
       "      <td>False</td>\n",
       "      <td>969</td>\n",
       "      <td>True</td>\n",
       "      <td>1313098</td>\n",
       "      <td>...</td>\n",
       "      <td>-1.6661</td>\n",
       "      <td>0.9972</td>\n",
       "      <td>0.3987</td>\n",
       "      <td>10.9</td>\n",
       "      <td>99.52</td>\n",
       "      <td>20</td>\n",
       "      <td>6.1</td>\n",
       "      <td>RO</td>\n",
       "      <td>2016.0</td>\n",
       "      <td>7.0</td>\n",
       "    </tr>\n",
       "    <tr>\n",
       "      <th>2</th>\n",
       "      <td>air.com.firstconcert.DMA</td>\n",
       "      <td>1.0</td>\n",
       "      <td>NaN</td>\n",
       "      <td>NaN</td>\n",
       "      <td>NaN</td>\n",
       "      <td>0</td>\n",
       "      <td>False</td>\n",
       "      <td>0</td>\n",
       "      <td>False</td>\n",
       "      <td>1469</td>\n",
       "      <td>...</td>\n",
       "      <td>NaN</td>\n",
       "      <td>0.9955</td>\n",
       "      <td>0.2498</td>\n",
       "      <td>9.2</td>\n",
       "      <td>99.95</td>\n",
       "      <td>2</td>\n",
       "      <td>4.4</td>\n",
       "      <td>DE</td>\n",
       "      <td>2016.0</td>\n",
       "      <td>7.0</td>\n",
       "    </tr>\n",
       "    <tr>\n",
       "      <th>3</th>\n",
       "      <td>air.com.foxandsheep.chomp</td>\n",
       "      <td>0.0</td>\n",
       "      <td>0.0</td>\n",
       "      <td>NaN</td>\n",
       "      <td>NaN</td>\n",
       "      <td>830</td>\n",
       "      <td>True</td>\n",
       "      <td>12836</td>\n",
       "      <td>False</td>\n",
       "      <td>4756511</td>\n",
       "      <td>...</td>\n",
       "      <td>-2.0864</td>\n",
       "      <td>0.9988</td>\n",
       "      <td>0.7547</td>\n",
       "      <td>7.8</td>\n",
       "      <td>99.79</td>\n",
       "      <td>10</td>\n",
       "      <td>5.1</td>\n",
       "      <td>DE</td>\n",
       "      <td>2016.0</td>\n",
       "      <td>7.0</td>\n",
       "    </tr>\n",
       "    <tr>\n",
       "      <th>4</th>\n",
       "      <td>air.com.hypah.io.slither</td>\n",
       "      <td>0.0</td>\n",
       "      <td>1.0</td>\n",
       "      <td>0.0</td>\n",
       "      <td>1.0</td>\n",
       "      <td>312627</td>\n",
       "      <td>True</td>\n",
       "      <td>6720849</td>\n",
       "      <td>True</td>\n",
       "      <td>541822129</td>\n",
       "      <td>...</td>\n",
       "      <td>-1.1132</td>\n",
       "      <td>0.8807</td>\n",
       "      <td>0.5517</td>\n",
       "      <td>4.2</td>\n",
       "      <td>99.77</td>\n",
       "      <td>1</td>\n",
       "      <td>7.1</td>\n",
       "      <td>US</td>\n",
       "      <td>2016.0</td>\n",
       "      <td>7.0</td>\n",
       "    </tr>\n",
       "  </tbody>\n",
       "</table>\n",
       "<p>5 rows × 30 columns</p>\n",
       "</div>"
      ],
      "text/plain": [
       "                                  app_fullname  Educational  Violent  \\\n",
       "0  air.com.bmapps.gossipgirlsdivasinhighschool          0.0      0.0   \n",
       "1            air.com.bmapps.injureddolphincare          0.0      0.0   \n",
       "2                     air.com.firstconcert.DMA          1.0      NaN   \n",
       "3                    air.com.foxandsheep.chomp          0.0      0.0   \n",
       "4                     air.com.hypah.io.slither          0.0      1.0   \n",
       "\n",
       "   Manipulative_3plus  Manipulative_2plus  reviews  offersIAP  ratings  \\\n",
       "0                 NaN                 NaN      201      False    15651   \n",
       "1                 NaN                 NaN       38      False      969   \n",
       "2                 NaN                 NaN        0      False        0   \n",
       "3                 NaN                 NaN      830       True    12836   \n",
       "4                 0.0                 1.0   312627       True  6720849   \n",
       "\n",
       "   containsAds  realInstalls  ... ratingsSkew  descriptionSentiment  \\\n",
       "0         True      11887057  ...     -0.8693                0.9975   \n",
       "1         True       1313098  ...     -1.6661                0.9972   \n",
       "2        False          1469  ...         NaN                0.9955   \n",
       "3        False       4756511  ...     -2.0864                0.9988   \n",
       "4         True     541822129  ...     -1.1132                0.8807   \n",
       "\n",
       "  reviewsSentiment  descriptionReadability  descriptionGrammar  \\\n",
       "0           0.1402                    10.5               99.64   \n",
       "1           0.3987                    10.9               99.52   \n",
       "2           0.2498                     9.2               99.95   \n",
       "3           0.7547                     7.8               99.79   \n",
       "4           0.5517                     4.2               99.77   \n",
       "\n",
       "   developerNApps developerAppAgeMedian  developerCountry releasedYear  \\\n",
       "0              20                   6.1                RO       2018.0   \n",
       "1              20                   6.1                RO       2016.0   \n",
       "2               2                   4.4                DE       2016.0   \n",
       "3              10                   5.1                DE       2016.0   \n",
       "4               1                   7.1                US       2016.0   \n",
       "\n",
       "   releasedYears  \n",
       "0            5.0  \n",
       "1            7.0  \n",
       "2            7.0  \n",
       "3            7.0  \n",
       "4            7.0  \n",
       "\n",
       "[5 rows x 30 columns]"
      ]
     },
     "execution_count": 9,
     "metadata": {},
     "output_type": "execute_result"
    }
   ],
   "source": [
    "play_full.head()"
   ]
  },
  {
   "cell_type": "code",
   "execution_count": 10,
   "metadata": {},
   "outputs": [],
   "source": [
    "play_full.to_csv(\"data/p01_apps_play_merged_0422.csv\", index=False)"
   ]
  },
  {
   "cell_type": "code",
   "execution_count": 11,
   "metadata": {},
   "outputs": [
    {
     "data": {
      "text/plain": [
       "<seaborn.axisgrid.FacetGrid at 0x7fda43fcfd60>"
      ]
     },
     "execution_count": 11,
     "metadata": {},
     "output_type": "execute_result"
    },
    {
     "data": {
      "image/png": "[encoded data removed]",
      "text/plain": [
       "<Figure size 709.875x500 with 1 Axes>"
      ]
     },
     "metadata": {},
     "output_type": "display_data"
    }
   ],
   "source": [
    "sns.displot(\n",
    "    data=play_full.isna().melt(value_name=\"missing\"),\n",
    "    y=\"variable\",\n",
    "    hue=\"missing\",\n",
    "    multiple=\"fill\",\n",
    "    aspect=1.25\n",
    ")"
   ]
  },
  {
   "attachments": {},
   "cell_type": "markdown",
   "metadata": {},
   "source": [
    "## Educational"
   ]
  },
  {
   "attachments": {},
   "cell_type": "markdown",
   "metadata": {},
   "source": [
    "### Preprocessing"
   ]
  },
  {
   "cell_type": "code",
   "execution_count": 84,
   "metadata": {},
   "outputs": [],
   "source": [
    "from sklearn.model_selection import GridSearchCV, StratifiedKFold, LearningCurveDisplay, cross_validate, train_test_split\n",
    "from sklearn.utils.class_weight import compute_sample_weight\n",
    "from sklearn.preprocessing import StandardScaler\n",
    "from sklearn.metrics import roc_curve, RocCurveDisplay, auc\n",
    "from sklearn.linear_model import LogisticRegression\n",
    "from sklearn.tree import DecisionTreeClassifier\n",
    "from sklearn.ensemble import RandomForestClassifier\n",
    "from sklearn.svm import SVC\n",
    "from xgboost import XGBClassifier\n",
    "from imblearn.over_sampling import SMOTE"
   ]
  },
  {
   "cell_type": "code",
   "execution_count": 13,
   "metadata": {},
   "outputs": [],
   "source": [
    "play_educational = play_full.dropna(subset=['ratingsStd', 'ratingsSkew', 'releasedYear', 'releasedYears', 'Educational']).drop(columns=['app_fullname', 'title', 'Violent', 'Manipulative_3plus', 'Manipulative_2plus', 'releasedYear'])"
   ]
  },
  {
   "cell_type": "code",
   "execution_count": 14,
   "metadata": {},
   "outputs": [
    {
     "data": {
      "text/plain": [
       "(329, 24)"
      ]
     },
     "execution_count": 14,
     "metadata": {},
     "output_type": "execute_result"
    }
   ],
   "source": [
    "play_educational.shape"
   ]
  },
  {
   "cell_type": "code",
   "execution_count": 169,
   "metadata": {},
   "outputs": [],
   "source": [
    "X = play_educational.drop(columns=['Educational', 'appId', 'developerCountry'])\n",
    "y = play_educational['Educational']"
   ]
  },
  {
   "cell_type": "code",
   "execution_count": 170,
   "metadata": {},
   "outputs": [
    {
     "data": {
      "text/plain": [
       "0.0    269\n",
       "1.0     60\n",
       "Name: Educational, dtype: int64"
      ]
     },
     "execution_count": 170,
     "metadata": {},
     "output_type": "execute_result"
    }
   ],
   "source": [
    "y.value_counts()"
   ]
  },
  {
   "cell_type": "code",
   "execution_count": 171,
   "metadata": {},
   "outputs": [],
   "source": [
    "X_train, X_test, y_train, y_test = train_test_split(X, y, test_size=0.2, random_state=42)"
   ]
  },
  {
   "cell_type": "code",
   "execution_count": 172,
   "metadata": {},
   "outputs": [],
   "source": [
    "num_columns = ['realInstalls', 'price', 'ratings', 'reviews', 'score', 'ratingsStd', 'ratingsSkew', 'descriptionSentiment', 'reviewsSentiment', 'descriptionReadability', 'descriptionGrammar', 'developerNApps', 'developerAppAgeMedian', 'releasedYears']\n",
    "cat_columns = ['genreId', 'contentRating'] # , 'developerCountry'\n",
    "bool_columns = ['offersIAP', 'sale', 'containsAds', 'free', 'adSupported']"
   ]
  },
  {
   "attachments": {},
   "cell_type": "markdown",
   "metadata": {},
   "source": [
    "Standardizing numeric columns and dummifying categorical ones."
   ]
  },
  {
   "cell_type": "code",
   "execution_count": 173,
   "metadata": {},
   "outputs": [],
   "source": [
    "scaler = StandardScaler()\n",
    "X_train[num_columns] = scaler.fit_transform(X_train[num_columns])\n",
    "X_test[num_columns] = scaler.fit_transform(X_test[num_columns])"
   ]
  },
  {
   "cell_type": "code",
   "execution_count": 174,
   "metadata": {},
   "outputs": [],
   "source": [
    "X_train = pd.get_dummies(X_train, drop_first=True)\n",
    "X_test = pd.get_dummies(X_test, drop_first=True)"
   ]
  },
  {
   "attachments": {},
   "cell_type": "markdown",
   "metadata": {},
   "source": [
    "Not all dummified columns are in both the training and testing set, hence the need to align the columns in the two dataframes."
   ]
  },
  {
   "cell_type": "code",
   "execution_count": 175,
   "metadata": {},
   "outputs": [],
   "source": [
    "X_train, X_test = X_train.align(X_test, axis=1, fill_value=0)"
   ]
  },
  {
   "attachments": {},
   "cell_type": "markdown",
   "metadata": {},
   "source": [
    "Oversampling using SMOTE to overcome imbalanced target variable."
   ]
  },
  {
   "cell_type": "code",
   "execution_count": 22,
   "metadata": {},
   "outputs": [],
   "source": [
    "sm = SMOTE(random_state=42)"
   ]
  },
  {
   "cell_type": "code",
   "execution_count": 23,
   "metadata": {},
   "outputs": [],
   "source": [
    "X_train_res, y_train_res = sm.fit_resample(X_train, y_train)"
   ]
  },
  {
   "cell_type": "code",
   "execution_count": 24,
   "metadata": {},
   "outputs": [
    {
     "data": {
      "text/html": [
       "<div>\n",
       "<style scoped>\n",
       "    .dataframe tbody tr th:only-of-type {\n",
       "        vertical-align: middle;\n",
       "    }\n",
       "\n",
       "    .dataframe tbody tr th {\n",
       "        vertical-align: top;\n",
       "    }\n",
       "\n",
       "    .dataframe thead th {\n",
       "        text-align: right;\n",
       "    }\n",
       "</style>\n",
       "<table border=\"1\" class=\"dataframe\">\n",
       "  <thead>\n",
       "    <tr style=\"text-align: right;\">\n",
       "      <th></th>\n",
       "      <th>adSupported</th>\n",
       "      <th>containsAds</th>\n",
       "      <th>contentRating_Everyone 10+</th>\n",
       "      <th>contentRating_Mature 17+</th>\n",
       "      <th>contentRating_Teen</th>\n",
       "      <th>descriptionGrammar</th>\n",
       "      <th>descriptionReadability</th>\n",
       "      <th>descriptionSentiment</th>\n",
       "      <th>developerAppAgeMedian</th>\n",
       "      <th>developerNApps</th>\n",
       "      <th>...</th>\n",
       "      <th>price</th>\n",
       "      <th>ratings</th>\n",
       "      <th>ratingsSkew</th>\n",
       "      <th>ratingsStd</th>\n",
       "      <th>realInstalls</th>\n",
       "      <th>releasedYears</th>\n",
       "      <th>reviews</th>\n",
       "      <th>reviewsSentiment</th>\n",
       "      <th>sale</th>\n",
       "      <th>score</th>\n",
       "    </tr>\n",
       "  </thead>\n",
       "  <tbody>\n",
       "    <tr>\n",
       "      <th>0</th>\n",
       "      <td>True</td>\n",
       "      <td>True</td>\n",
       "      <td>0</td>\n",
       "      <td>0</td>\n",
       "      <td>0</td>\n",
       "      <td>-0.247201</td>\n",
       "      <td>-0.667530</td>\n",
       "      <td>0.215518</td>\n",
       "      <td>0.325715</td>\n",
       "      <td>-1.440921</td>\n",
       "      <td>...</td>\n",
       "      <td>-0.349692</td>\n",
       "      <td>0.746208</td>\n",
       "      <td>-1.129577</td>\n",
       "      <td>-1.273356</td>\n",
       "      <td>0.790549</td>\n",
       "      <td>-0.189270</td>\n",
       "      <td>0.432051</td>\n",
       "      <td>0.425525</td>\n",
       "      <td>False</td>\n",
       "      <td>1.070619</td>\n",
       "    </tr>\n",
       "    <tr>\n",
       "      <th>1</th>\n",
       "      <td>True</td>\n",
       "      <td>True</td>\n",
       "      <td>0</td>\n",
       "      <td>0</td>\n",
       "      <td>0</td>\n",
       "      <td>0.784298</td>\n",
       "      <td>-0.414717</td>\n",
       "      <td>0.231381</td>\n",
       "      <td>0.954666</td>\n",
       "      <td>0.205718</td>\n",
       "      <td>...</td>\n",
       "      <td>-0.349692</td>\n",
       "      <td>1.111925</td>\n",
       "      <td>-0.182943</td>\n",
       "      <td>-0.333814</td>\n",
       "      <td>0.617820</td>\n",
       "      <td>0.236184</td>\n",
       "      <td>1.003783</td>\n",
       "      <td>-0.869413</td>\n",
       "      <td>False</td>\n",
       "      <td>0.375492</td>\n",
       "    </tr>\n",
       "    <tr>\n",
       "      <th>2</th>\n",
       "      <td>False</td>\n",
       "      <td>False</td>\n",
       "      <td>0</td>\n",
       "      <td>0</td>\n",
       "      <td>0</td>\n",
       "      <td>0.165399</td>\n",
       "      <td>0.777114</td>\n",
       "      <td>0.211364</td>\n",
       "      <td>-0.345166</td>\n",
       "      <td>0.205718</td>\n",
       "      <td>...</td>\n",
       "      <td>-0.349692</td>\n",
       "      <td>-0.254936</td>\n",
       "      <td>1.787498</td>\n",
       "      <td>1.923744</td>\n",
       "      <td>-0.372279</td>\n",
       "      <td>-0.189270</td>\n",
       "      <td>-0.247010</td>\n",
       "      <td>-1.743432</td>\n",
       "      <td>False</td>\n",
       "      <td>-2.573707</td>\n",
       "    </tr>\n",
       "    <tr>\n",
       "      <th>3</th>\n",
       "      <td>True</td>\n",
       "      <td>True</td>\n",
       "      <td>0</td>\n",
       "      <td>0</td>\n",
       "      <td>0</td>\n",
       "      <td>-0.129316</td>\n",
       "      <td>-1.100923</td>\n",
       "      <td>0.230626</td>\n",
       "      <td>-0.345166</td>\n",
       "      <td>2.558060</td>\n",
       "      <td>...</td>\n",
       "      <td>-0.349692</td>\n",
       "      <td>-0.254042</td>\n",
       "      <td>0.043999</td>\n",
       "      <td>0.191191</td>\n",
       "      <td>-0.365967</td>\n",
       "      <td>-1.465632</td>\n",
       "      <td>-0.246626</td>\n",
       "      <td>0.685542</td>\n",
       "      <td>False</td>\n",
       "      <td>0.160494</td>\n",
       "    </tr>\n",
       "    <tr>\n",
       "      <th>4</th>\n",
       "      <td>True</td>\n",
       "      <td>True</td>\n",
       "      <td>0</td>\n",
       "      <td>0</td>\n",
       "      <td>0</td>\n",
       "      <td>0.224341</td>\n",
       "      <td>-1.100923</td>\n",
       "      <td>-0.042823</td>\n",
       "      <td>-0.219375</td>\n",
       "      <td>-1.911389</td>\n",
       "      <td>...</td>\n",
       "      <td>-0.349692</td>\n",
       "      <td>0.053320</td>\n",
       "      <td>1.344718</td>\n",
       "      <td>1.132631</td>\n",
       "      <td>0.518881</td>\n",
       "      <td>-1.040178</td>\n",
       "      <td>-0.027102</td>\n",
       "      <td>-1.133292</td>\n",
       "      <td>False</td>\n",
       "      <td>-1.704561</td>\n",
       "    </tr>\n",
       "  </tbody>\n",
       "</table>\n",
       "<p>5 rows × 40 columns</p>\n",
       "</div>"
      ],
      "text/plain": [
       "   adSupported  containsAds  contentRating_Everyone 10+  \\\n",
       "0         True         True                           0   \n",
       "1         True         True                           0   \n",
       "2        False        False                           0   \n",
       "3         True         True                           0   \n",
       "4         True         True                           0   \n",
       "\n",
       "   contentRating_Mature 17+  contentRating_Teen  descriptionGrammar  \\\n",
       "0                         0                   0           -0.247201   \n",
       "1                         0                   0            0.784298   \n",
       "2                         0                   0            0.165399   \n",
       "3                         0                   0           -0.129316   \n",
       "4                         0                   0            0.224341   \n",
       "\n",
       "   descriptionReadability  descriptionSentiment  developerAppAgeMedian  \\\n",
       "0               -0.667530              0.215518               0.325715   \n",
       "1               -0.414717              0.231381               0.954666   \n",
       "2                0.777114              0.211364              -0.345166   \n",
       "3               -1.100923              0.230626              -0.345166   \n",
       "4               -1.100923             -0.042823              -0.219375   \n",
       "\n",
       "   developerNApps  ...     price   ratings  ratingsSkew  ratingsStd  \\\n",
       "0       -1.440921  ... -0.349692  0.746208    -1.129577   -1.273356   \n",
       "1        0.205718  ... -0.349692  1.111925    -0.182943   -0.333814   \n",
       "2        0.205718  ... -0.349692 -0.254936     1.787498    1.923744   \n",
       "3        2.558060  ... -0.349692 -0.254042     0.043999    0.191191   \n",
       "4       -1.911389  ... -0.349692  0.053320     1.344718    1.132631   \n",
       "\n",
       "   realInstalls  releasedYears   reviews  reviewsSentiment   sale     score  \n",
       "0      0.790549      -0.189270  0.432051          0.425525  False  1.070619  \n",
       "1      0.617820       0.236184  1.003783         -0.869413  False  0.375492  \n",
       "2     -0.372279      -0.189270 -0.247010         -1.743432  False -2.573707  \n",
       "3     -0.365967      -1.465632 -0.246626          0.685542  False  0.160494  \n",
       "4      0.518881      -1.040178 -0.027102         -1.133292  False -1.704561  \n",
       "\n",
       "[5 rows x 40 columns]"
      ]
     },
     "execution_count": 24,
     "metadata": {},
     "output_type": "execute_result"
    }
   ],
   "source": [
    "X_train_res.head()"
   ]
  },
  {
   "attachments": {},
   "cell_type": "markdown",
   "metadata": {},
   "source": [
    "### Modeling"
   ]
  },
  {
   "attachments": {},
   "cell_type": "markdown",
   "metadata": {},
   "source": [
    "Evaluating features using logistic regression."
   ]
  },
  {
   "cell_type": "code",
   "execution_count": 163,
   "metadata": {},
   "outputs": [
    {
     "name": "stderr",
     "output_type": "stream",
     "text": [
      "/Users/dershan/opt/anaconda3/envs/dash/lib/python3.10/site-packages/statsmodels/genmod/families/links.py:187: RuntimeWarning: overflow encountered in exp\n",
      "  t = np.exp(-z)\n"
     ]
    }
   ],
   "source": [
    "import statsmodels.api as sm\n",
    "\n",
    "lr_exp = sm.GLM(y_train.values, X_train.astype(float), family=sm.families.Binomial()).fit()"
   ]
  },
  {
   "cell_type": "code",
   "execution_count": 164,
   "metadata": {},
   "outputs": [
    {
     "name": "stderr",
     "output_type": "stream",
     "text": [
      "/Users/dershan/opt/anaconda3/envs/dash/lib/python3.10/site-packages/statsmodels/genmod/families/family.py:1014: RuntimeWarning: divide by zero encountered in log\n",
      "  special.gammaln(n - y + 1) + y * np.log(mu / (1 - mu + 1e-20)) +\n",
      "/Users/dershan/opt/anaconda3/envs/dash/lib/python3.10/site-packages/statsmodels/genmod/families/family.py:1014: RuntimeWarning: invalid value encountered in multiply\n",
      "  special.gammaln(n - y + 1) + y * np.log(mu / (1 - mu + 1e-20)) +\n"
     ]
    },
    {
     "data": {
      "text/html": [
       "<table class=\"simpletable\">\n",
       "<caption>Generalized Linear Model Regression Results</caption>\n",
       "<tr>\n",
       "  <th>Dep. Variable:</th>           <td>y</td>        <th>  No. Observations:  </th>  <td>   263</td> \n",
       "</tr>\n",
       "<tr>\n",
       "  <th>Model:</th>                  <td>GLM</td>       <th>  Df Residuals:      </th>  <td>   225</td> \n",
       "</tr>\n",
       "<tr>\n",
       "  <th>Model Family:</th>        <td>Binomial</td>     <th>  Df Model:          </th>  <td>    37</td> \n",
       "</tr>\n",
       "<tr>\n",
       "  <th>Link Function:</th>         <td>Logit</td>      <th>  Scale:             </th> <td>  1.0000</td>\n",
       "</tr>\n",
       "<tr>\n",
       "  <th>Method:</th>                <td>IRLS</td>       <th>  Log-Likelihood:    </th> <td>     nan</td>\n",
       "</tr>\n",
       "<tr>\n",
       "  <th>Date:</th>            <td>Sat, 22 Apr 2023</td> <th>  Deviance:          </th> <td>  5342.0</td>\n",
       "</tr>\n",
       "<tr>\n",
       "  <th>Time:</th>                <td>14:46:30</td>     <th>  Pearson chi2:      </th> <td>2.61e+17</td>\n",
       "</tr>\n",
       "<tr>\n",
       "  <th>No. Iterations:</th>         <td>22</td>        <th>  Pseudo R-squ. (CS):</th>  <td>   nan</td> \n",
       "</tr>\n",
       "<tr>\n",
       "  <th>Covariance Type:</th>     <td>nonrobust</td>    <th>                     </th>     <td> </td>   \n",
       "</tr>\n",
       "</table>\n",
       "<table class=\"simpletable\">\n",
       "<tr>\n",
       "               <td></td>                 <th>coef</th>     <th>std err</th>      <th>z</th>      <th>P>|z|</th>  <th>[0.025</th>    <th>0.975]</th>  \n",
       "</tr>\n",
       "<tr>\n",
       "  <th>adSupported</th>                <td> -2.67e+14</td> <td> 6.08e+06</td> <td>-4.39e+07</td> <td> 0.000</td> <td>-2.67e+14</td> <td>-2.67e+14</td>\n",
       "</tr>\n",
       "<tr>\n",
       "  <th>containsAds</th>                <td> -2.67e+14</td> <td> 6.08e+06</td> <td>-4.39e+07</td> <td> 0.000</td> <td>-2.67e+14</td> <td>-2.67e+14</td>\n",
       "</tr>\n",
       "<tr>\n",
       "  <th>contentRating_Everyone 10+</th> <td> 8.369e+14</td> <td> 2.35e+07</td> <td> 3.57e+07</td> <td> 0.000</td> <td> 8.37e+14</td> <td> 8.37e+14</td>\n",
       "</tr>\n",
       "<tr>\n",
       "  <th>contentRating_Mature 17+</th>   <td>-2.769e+15</td> <td> 7.97e+07</td> <td>-3.48e+07</td> <td> 0.000</td> <td>-2.77e+15</td> <td>-2.77e+15</td>\n",
       "</tr>\n",
       "<tr>\n",
       "  <th>contentRating_Teen</th>         <td>-1.239e+15</td> <td> 1.97e+07</td> <td>-6.29e+07</td> <td> 0.000</td> <td>-1.24e+15</td> <td>-1.24e+15</td>\n",
       "</tr>\n",
       "<tr>\n",
       "  <th>descriptionGrammar</th>         <td>-1.763e+14</td> <td> 4.69e+06</td> <td>-3.76e+07</td> <td> 0.000</td> <td>-1.76e+14</td> <td>-1.76e+14</td>\n",
       "</tr>\n",
       "<tr>\n",
       "  <th>descriptionReadability</th>     <td> 1.434e+14</td> <td> 4.99e+06</td> <td> 2.87e+07</td> <td> 0.000</td> <td> 1.43e+14</td> <td> 1.43e+14</td>\n",
       "</tr>\n",
       "<tr>\n",
       "  <th>descriptionSentiment</th>       <td> 1.277e+14</td> <td>  4.8e+06</td> <td> 2.66e+07</td> <td> 0.000</td> <td> 1.28e+14</td> <td> 1.28e+14</td>\n",
       "</tr>\n",
       "<tr>\n",
       "  <th>developerAppAgeMedian</th>      <td> 1.157e+14</td> <td> 5.85e+06</td> <td> 1.98e+07</td> <td> 0.000</td> <td> 1.16e+14</td> <td> 1.16e+14</td>\n",
       "</tr>\n",
       "<tr>\n",
       "  <th>developerNApps</th>             <td>-2.023e+14</td> <td>    5e+06</td> <td>-4.05e+07</td> <td> 0.000</td> <td>-2.02e+14</td> <td>-2.02e+14</td>\n",
       "</tr>\n",
       "<tr>\n",
       "  <th>free</th>                       <td> -2.46e+15</td> <td> 4.24e+07</td> <td>-5.81e+07</td> <td> 0.000</td> <td>-2.46e+15</td> <td>-2.46e+15</td>\n",
       "</tr>\n",
       "<tr>\n",
       "  <th>genreId_EDUCATION</th>          <td>  2.44e+15</td> <td> 3.69e+07</td> <td> 6.62e+07</td> <td> 0.000</td> <td> 2.44e+15</td> <td> 2.44e+15</td>\n",
       "</tr>\n",
       "<tr>\n",
       "  <th>genreId_ENTERTAINMENT</th>      <td> 8.772e+14</td> <td> 4.36e+07</td> <td> 2.01e+07</td> <td> 0.000</td> <td> 8.77e+14</td> <td> 8.77e+14</td>\n",
       "</tr>\n",
       "<tr>\n",
       "  <th>genreId_GAME_ACTION</th>        <td> 1.135e+15</td> <td> 4.48e+07</td> <td> 2.53e+07</td> <td> 0.000</td> <td> 1.13e+15</td> <td> 1.13e+15</td>\n",
       "</tr>\n",
       "<tr>\n",
       "  <th>genreId_GAME_ADVENTURE</th>     <td> 1.693e+15</td> <td> 4.27e+07</td> <td> 3.97e+07</td> <td> 0.000</td> <td> 1.69e+15</td> <td> 1.69e+15</td>\n",
       "</tr>\n",
       "<tr>\n",
       "  <th>genreId_GAME_ARCADE</th>        <td> 3.914e+14</td> <td> 3.96e+07</td> <td> 9.88e+06</td> <td> 0.000</td> <td> 3.91e+14</td> <td> 3.91e+14</td>\n",
       "</tr>\n",
       "<tr>\n",
       "  <th>genreId_GAME_BOARD</th>         <td>-1.832e+15</td> <td> 7.98e+07</td> <td> -2.3e+07</td> <td> 0.000</td> <td>-1.83e+15</td> <td>-1.83e+15</td>\n",
       "</tr>\n",
       "<tr>\n",
       "  <th>genreId_GAME_CARD</th>          <td>-1.648e+15</td> <td> 7.71e+07</td> <td>-2.14e+07</td> <td> 0.000</td> <td>-1.65e+15</td> <td>-1.65e+15</td>\n",
       "</tr>\n",
       "<tr>\n",
       "  <th>genreId_GAME_CASUAL</th>        <td> 1.294e+15</td> <td> 4.02e+07</td> <td> 3.22e+07</td> <td> 0.000</td> <td> 1.29e+15</td> <td> 1.29e+15</td>\n",
       "</tr>\n",
       "<tr>\n",
       "  <th>genreId_GAME_EDUCATIONAL</th>   <td> 1.185e+15</td> <td> 3.88e+07</td> <td> 3.05e+07</td> <td> 0.000</td> <td> 1.18e+15</td> <td> 1.18e+15</td>\n",
       "</tr>\n",
       "<tr>\n",
       "  <th>genreId_GAME_MUSIC</th>         <td> 1.437e+15</td> <td> 5.53e+07</td> <td>  2.6e+07</td> <td> 0.000</td> <td> 1.44e+15</td> <td> 1.44e+15</td>\n",
       "</tr>\n",
       "<tr>\n",
       "  <th>genreId_GAME_PUZZLE</th>        <td> 2.283e+15</td> <td> 4.04e+07</td> <td> 5.66e+07</td> <td> 0.000</td> <td> 2.28e+15</td> <td> 2.28e+15</td>\n",
       "</tr>\n",
       "<tr>\n",
       "  <th>genreId_GAME_RACING</th>        <td> 2.122e+15</td> <td> 4.27e+07</td> <td> 4.97e+07</td> <td> 0.000</td> <td> 2.12e+15</td> <td> 2.12e+15</td>\n",
       "</tr>\n",
       "<tr>\n",
       "  <th>genreId_GAME_ROLE_PLAYING</th>  <td>-1.173e+15</td> <td> 5.07e+07</td> <td>-2.31e+07</td> <td> 0.000</td> <td>-1.17e+15</td> <td>-1.17e+15</td>\n",
       "</tr>\n",
       "<tr>\n",
       "  <th>genreId_GAME_SIMULATION</th>    <td> 1.479e+15</td> <td> 4.35e+07</td> <td>  3.4e+07</td> <td> 0.000</td> <td> 1.48e+15</td> <td> 1.48e+15</td>\n",
       "</tr>\n",
       "<tr>\n",
       "  <th>genreId_GAME_SPORTS</th>        <td> 6.012e+14</td> <td> 4.43e+07</td> <td> 1.36e+07</td> <td> 0.000</td> <td> 6.01e+14</td> <td> 6.01e+14</td>\n",
       "</tr>\n",
       "<tr>\n",
       "  <th>genreId_GAME_STRATEGY</th>      <td>  9.29e+14</td> <td> 5.64e+07</td> <td> 1.65e+07</td> <td> 0.000</td> <td> 9.29e+14</td> <td> 9.29e+14</td>\n",
       "</tr>\n",
       "<tr>\n",
       "  <th>genreId_MUSIC_AND_AUDIO</th>    <td> 4.518e+15</td> <td> 5.47e+07</td> <td> 8.26e+07</td> <td> 0.000</td> <td> 4.52e+15</td> <td> 4.52e+15</td>\n",
       "</tr>\n",
       "<tr>\n",
       "  <th>genreId_PARENTING</th>          <td>-2.589e+15</td> <td> 7.76e+07</td> <td>-3.33e+07</td> <td> 0.000</td> <td>-2.59e+15</td> <td>-2.59e+15</td>\n",
       "</tr>\n",
       "<tr>\n",
       "  <th>offersIAP</th>                  <td>-2.252e+14</td> <td> 1.26e+07</td> <td>-1.78e+07</td> <td> 0.000</td> <td>-2.25e+14</td> <td>-2.25e+14</td>\n",
       "</tr>\n",
       "<tr>\n",
       "  <th>price</th>                      <td>-9.424e+14</td> <td> 1.35e+07</td> <td>-6.98e+07</td> <td> 0.000</td> <td>-9.42e+14</td> <td>-9.42e+14</td>\n",
       "</tr>\n",
       "<tr>\n",
       "  <th>ratings</th>                    <td> 1.022e+15</td> <td> 2.93e+07</td> <td> 3.49e+07</td> <td> 0.000</td> <td> 1.02e+15</td> <td> 1.02e+15</td>\n",
       "</tr>\n",
       "<tr>\n",
       "  <th>ratingsSkew</th>                <td> 5.253e+14</td> <td> 1.62e+07</td> <td> 3.25e+07</td> <td> 0.000</td> <td> 5.25e+14</td> <td> 5.25e+14</td>\n",
       "</tr>\n",
       "<tr>\n",
       "  <th>ratingsStd</th>                 <td>-1.194e+14</td> <td> 1.33e+07</td> <td>-8.95e+06</td> <td> 0.000</td> <td>-1.19e+14</td> <td>-1.19e+14</td>\n",
       "</tr>\n",
       "<tr>\n",
       "  <th>realInstalls</th>               <td>-6.405e+14</td> <td>  1.8e+07</td> <td>-3.56e+07</td> <td> 0.000</td> <td>-6.41e+14</td> <td>-6.41e+14</td>\n",
       "</tr>\n",
       "<tr>\n",
       "  <th>releasedYears</th>              <td>-1.966e+14</td> <td> 5.91e+06</td> <td>-3.33e+07</td> <td> 0.000</td> <td>-1.97e+14</td> <td>-1.97e+14</td>\n",
       "</tr>\n",
       "<tr>\n",
       "  <th>reviews</th>                    <td>-6.016e+14</td> <td> 1.94e+07</td> <td>-3.11e+07</td> <td> 0.000</td> <td>-6.02e+14</td> <td>-6.02e+14</td>\n",
       "</tr>\n",
       "<tr>\n",
       "  <th>reviewsSentiment</th>           <td> 1.025e+14</td> <td>  5.3e+06</td> <td> 1.93e+07</td> <td> 0.000</td> <td> 1.02e+14</td> <td> 1.02e+14</td>\n",
       "</tr>\n",
       "<tr>\n",
       "  <th>sale</th>                       <td>         0</td> <td>        0</td> <td>      nan</td> <td>   nan</td> <td>        0</td> <td>        0</td>\n",
       "</tr>\n",
       "<tr>\n",
       "  <th>score</th>                      <td> 4.646e+14</td> <td> 1.51e+07</td> <td> 3.08e+07</td> <td> 0.000</td> <td> 4.65e+14</td> <td> 4.65e+14</td>\n",
       "</tr>\n",
       "</table>"
      ],
      "text/plain": [
       "<class 'statsmodels.iolib.summary.Summary'>\n",
       "\"\"\"\n",
       "                 Generalized Linear Model Regression Results                  \n",
       "==============================================================================\n",
       "Dep. Variable:                      y   No. Observations:                  263\n",
       "Model:                            GLM   Df Residuals:                      225\n",
       "Model Family:                Binomial   Df Model:                           37\n",
       "Link Function:                  Logit   Scale:                          1.0000\n",
       "Method:                          IRLS   Log-Likelihood:                    nan\n",
       "Date:                Sat, 22 Apr 2023   Deviance:                       5342.0\n",
       "Time:                        14:46:30   Pearson chi2:                 2.61e+17\n",
       "No. Iterations:                    22   Pseudo R-squ. (CS):                nan\n",
       "Covariance Type:            nonrobust                                         \n",
       "==============================================================================================\n",
       "                                 coef    std err          z      P>|z|      [0.025      0.975]\n",
       "----------------------------------------------------------------------------------------------\n",
       "adSupported                 -2.67e+14   6.08e+06  -4.39e+07      0.000   -2.67e+14   -2.67e+14\n",
       "containsAds                 -2.67e+14   6.08e+06  -4.39e+07      0.000   -2.67e+14   -2.67e+14\n",
       "contentRating_Everyone 10+  8.369e+14   2.35e+07   3.57e+07      0.000    8.37e+14    8.37e+14\n",
       "contentRating_Mature 17+   -2.769e+15   7.97e+07  -3.48e+07      0.000   -2.77e+15   -2.77e+15\n",
       "contentRating_Teen         -1.239e+15   1.97e+07  -6.29e+07      0.000   -1.24e+15   -1.24e+15\n",
       "descriptionGrammar         -1.763e+14   4.69e+06  -3.76e+07      0.000   -1.76e+14   -1.76e+14\n",
       "descriptionReadability      1.434e+14   4.99e+06   2.87e+07      0.000    1.43e+14    1.43e+14\n",
       "descriptionSentiment        1.277e+14    4.8e+06   2.66e+07      0.000    1.28e+14    1.28e+14\n",
       "developerAppAgeMedian       1.157e+14   5.85e+06   1.98e+07      0.000    1.16e+14    1.16e+14\n",
       "developerNApps             -2.023e+14      5e+06  -4.05e+07      0.000   -2.02e+14   -2.02e+14\n",
       "free                        -2.46e+15   4.24e+07  -5.81e+07      0.000   -2.46e+15   -2.46e+15\n",
       "genreId_EDUCATION            2.44e+15   3.69e+07   6.62e+07      0.000    2.44e+15    2.44e+15\n",
       "genreId_ENTERTAINMENT       8.772e+14   4.36e+07   2.01e+07      0.000    8.77e+14    8.77e+14\n",
       "genreId_GAME_ACTION         1.135e+15   4.48e+07   2.53e+07      0.000    1.13e+15    1.13e+15\n",
       "genreId_GAME_ADVENTURE      1.693e+15   4.27e+07   3.97e+07      0.000    1.69e+15    1.69e+15\n",
       "genreId_GAME_ARCADE         3.914e+14   3.96e+07   9.88e+06      0.000    3.91e+14    3.91e+14\n",
       "genreId_GAME_BOARD         -1.832e+15   7.98e+07   -2.3e+07      0.000   -1.83e+15   -1.83e+15\n",
       "genreId_GAME_CARD          -1.648e+15   7.71e+07  -2.14e+07      0.000   -1.65e+15   -1.65e+15\n",
       "genreId_GAME_CASUAL         1.294e+15   4.02e+07   3.22e+07      0.000    1.29e+15    1.29e+15\n",
       "genreId_GAME_EDUCATIONAL    1.185e+15   3.88e+07   3.05e+07      0.000    1.18e+15    1.18e+15\n",
       "genreId_GAME_MUSIC          1.437e+15   5.53e+07    2.6e+07      0.000    1.44e+15    1.44e+15\n",
       "genreId_GAME_PUZZLE         2.283e+15   4.04e+07   5.66e+07      0.000    2.28e+15    2.28e+15\n",
       "genreId_GAME_RACING         2.122e+15   4.27e+07   4.97e+07      0.000    2.12e+15    2.12e+15\n",
       "genreId_GAME_ROLE_PLAYING  -1.173e+15   5.07e+07  -2.31e+07      0.000   -1.17e+15   -1.17e+15\n",
       "genreId_GAME_SIMULATION     1.479e+15   4.35e+07    3.4e+07      0.000    1.48e+15    1.48e+15\n",
       "genreId_GAME_SPORTS         6.012e+14   4.43e+07   1.36e+07      0.000    6.01e+14    6.01e+14\n",
       "genreId_GAME_STRATEGY        9.29e+14   5.64e+07   1.65e+07      0.000    9.29e+14    9.29e+14\n",
       "genreId_MUSIC_AND_AUDIO     4.518e+15   5.47e+07   8.26e+07      0.000    4.52e+15    4.52e+15\n",
       "genreId_PARENTING          -2.589e+15   7.76e+07  -3.33e+07      0.000   -2.59e+15   -2.59e+15\n",
       "offersIAP                  -2.252e+14   1.26e+07  -1.78e+07      0.000   -2.25e+14   -2.25e+14\n",
       "price                      -9.424e+14   1.35e+07  -6.98e+07      0.000   -9.42e+14   -9.42e+14\n",
       "ratings                     1.022e+15   2.93e+07   3.49e+07      0.000    1.02e+15    1.02e+15\n",
       "ratingsSkew                 5.253e+14   1.62e+07   3.25e+07      0.000    5.25e+14    5.25e+14\n",
       "ratingsStd                 -1.194e+14   1.33e+07  -8.95e+06      0.000   -1.19e+14   -1.19e+14\n",
       "realInstalls               -6.405e+14    1.8e+07  -3.56e+07      0.000   -6.41e+14   -6.41e+14\n",
       "releasedYears              -1.966e+14   5.91e+06  -3.33e+07      0.000   -1.97e+14   -1.97e+14\n",
       "reviews                    -6.016e+14   1.94e+07  -3.11e+07      0.000   -6.02e+14   -6.02e+14\n",
       "reviewsSentiment            1.025e+14    5.3e+06   1.93e+07      0.000    1.02e+14    1.02e+14\n",
       "sale                                0          0        nan        nan           0           0\n",
       "score                       4.646e+14   1.51e+07   3.08e+07      0.000    4.65e+14    4.65e+14\n",
       "==============================================================================================\n",
       "\"\"\""
      ]
     },
     "execution_count": 164,
     "metadata": {},
     "output_type": "execute_result"
    }
   ],
   "source": [
    "lr_exp.summary()"
   ]
  },
  {
   "attachments": {},
   "cell_type": "markdown",
   "metadata": {},
   "source": [
    "Testing different algorithms while implementing k-fold and cross validation."
   ]
  },
  {
   "cell_type": "code",
   "execution_count": 25,
   "metadata": {},
   "outputs": [],
   "source": [
    "lr_e = LogisticRegression(class_weight=\"balanced\")\n",
    "dt_e = DecisionTreeClassifier(class_weight=\"balanced\")\n",
    "rf_e = RandomForestClassifier(class_weight=\"balanced\", random_state=123)\n",
    "xgb_e = XGBClassifier(scale_pos_weight=y.value_counts()[0]/y.value_counts()[1])\n",
    "svm_e = SVC(class_weight=\"balanced\")"
   ]
  },
  {
   "cell_type": "code",
   "execution_count": 26,
   "metadata": {},
   "outputs": [],
   "source": [
    "skf = StratifiedKFold(n_splits=4, shuffle=True, random_state=42)"
   ]
  },
  {
   "cell_type": "code",
   "execution_count": 27,
   "metadata": {},
   "outputs": [],
   "source": [
    "import warnings\n",
    "import sklearn.exceptions\n",
    "warnings.filterwarnings(\"ignore\", category=sklearn.exceptions.UndefinedMetricWarning)"
   ]
  },
  {
   "cell_type": "code",
   "execution_count": 28,
   "metadata": {},
   "outputs": [],
   "source": [
    "lr_e_score = cross_validate(lr_e, X_train_res, y_train_res, cv=skf, scoring=[\"accuracy\", \"recall\", \"precision\", \"f1\"], return_train_score=True, return_estimator=True)\n",
    "dt_e_score = cross_validate(dt_e, X_train_res, y_train_res, cv=skf, scoring=[\"accuracy\", \"recall\", \"precision\", \"f1\"], return_train_score=True, return_estimator=True)\n",
    "rf_e_score = cross_validate(rf_e, X_train_res, y_train_res, cv=skf, scoring=[\"accuracy\", \"recall\", \"precision\", \"f1\"], return_train_score=True, return_estimator=True)\n",
    "xgb_e_score = cross_validate(xgb_e, X_train_res, y_train_res, cv=skf, scoring=[\"accuracy\", \"recall\", \"precision\", \"f1\"], return_train_score=True, return_estimator=True)\n",
    "svm_e_score = cross_validate(svm_e, X_train_res, y_train_res, cv=skf, scoring=[\"accuracy\", \"recall\", \"precision\", \"f1\"], return_train_score=True, return_estimator=True)"
   ]
  },
  {
   "cell_type": "code",
   "execution_count": 29,
   "metadata": {},
   "outputs": [
    {
     "name": "stdout",
     "output_type": "stream",
     "text": [
      "Model Scores (train_behavior)\n"
     ]
    },
    {
     "data": {
      "text/html": [
       "<div>\n",
       "<style scoped>\n",
       "    .dataframe tbody tr th:only-of-type {\n",
       "        vertical-align: middle;\n",
       "    }\n",
       "\n",
       "    .dataframe tbody tr th {\n",
       "        vertical-align: top;\n",
       "    }\n",
       "\n",
       "    .dataframe thead th {\n",
       "        text-align: right;\n",
       "    }\n",
       "</style>\n",
       "<table border=\"1\" class=\"dataframe\">\n",
       "  <thead>\n",
       "    <tr style=\"text-align: right;\">\n",
       "      <th></th>\n",
       "      <th>Model</th>\n",
       "      <th>Accuracy</th>\n",
       "      <th>Recall</th>\n",
       "      <th>Precision</th>\n",
       "      <th>F1</th>\n",
       "    </tr>\n",
       "  </thead>\n",
       "  <tbody>\n",
       "    <tr>\n",
       "      <th>2</th>\n",
       "      <td>RF</td>\n",
       "      <td>0.900943</td>\n",
       "      <td>0.924528</td>\n",
       "      <td>0.887020</td>\n",
       "      <td>0.904183</td>\n",
       "    </tr>\n",
       "    <tr>\n",
       "      <th>3</th>\n",
       "      <td>XGB</td>\n",
       "      <td>0.867925</td>\n",
       "      <td>0.957547</td>\n",
       "      <td>0.814388</td>\n",
       "      <td>0.879624</td>\n",
       "    </tr>\n",
       "    <tr>\n",
       "      <th>4</th>\n",
       "      <td>SVM</td>\n",
       "      <td>0.808962</td>\n",
       "      <td>0.825472</td>\n",
       "      <td>0.799554</td>\n",
       "      <td>0.811851</td>\n",
       "    </tr>\n",
       "    <tr>\n",
       "      <th>0</th>\n",
       "      <td>LR</td>\n",
       "      <td>0.764151</td>\n",
       "      <td>0.797170</td>\n",
       "      <td>0.750497</td>\n",
       "      <td>0.772069</td>\n",
       "    </tr>\n",
       "    <tr>\n",
       "      <th>1</th>\n",
       "      <td>DT</td>\n",
       "      <td>0.745283</td>\n",
       "      <td>0.787736</td>\n",
       "      <td>0.727335</td>\n",
       "      <td>0.755452</td>\n",
       "    </tr>\n",
       "  </tbody>\n",
       "</table>\n",
       "</div>"
      ],
      "text/plain": [
       "  Model  Accuracy    Recall  Precision        F1\n",
       "2    RF  0.900943  0.924528   0.887020  0.904183\n",
       "3   XGB  0.867925  0.957547   0.814388  0.879624\n",
       "4   SVM  0.808962  0.825472   0.799554  0.811851\n",
       "0    LR  0.764151  0.797170   0.750497  0.772069\n",
       "1    DT  0.745283  0.787736   0.727335  0.755452"
      ]
     },
     "execution_count": 29,
     "metadata": {},
     "output_type": "execute_result"
    }
   ],
   "source": [
    "print('Model Scores (train_behavior)')\n",
    "pd.DataFrame({'Model': ['LR', 'DT', 'RF', 'XGB', 'SVM'], 'Accuracy': [lr_e_score['test_accuracy'].mean(), dt_e_score['test_accuracy'].mean(), rf_e_score['test_accuracy'].mean(), xgb_e_score['test_accuracy'].mean(), svm_e_score['test_accuracy'].mean()], 'Recall': [lr_e_score['test_recall'].mean(), dt_e_score['test_recall'].mean(), rf_e_score['test_recall'].mean(), xgb_e_score['test_recall'].mean(), svm_e_score['test_recall'].mean()], 'Precision': [lr_e_score['test_precision'].mean(), dt_e_score['test_precision'].mean(), rf_e_score['test_precision'].mean(), xgb_e_score['test_precision'].mean(), svm_e_score['test_precision'].mean()], 'F1': [lr_e_score['test_f1'].mean(), dt_e_score['test_f1'].mean(), rf_e_score['test_f1'].mean(), xgb_e_score['test_f1'].mean(), svm_e_score['test_f1'].mean(), ]}).sort_values('F1', ascending=False)"
   ]
  },
  {
   "cell_type": "code",
   "execution_count": 30,
   "metadata": {},
   "outputs": [
    {
     "data": {
      "text/plain": [
       "{'bootstrap': True,\n",
       " 'ccp_alpha': 0.0,\n",
       " 'class_weight': 'balanced',\n",
       " 'criterion': 'gini',\n",
       " 'max_depth': None,\n",
       " 'max_features': 'sqrt',\n",
       " 'max_leaf_nodes': None,\n",
       " 'max_samples': None,\n",
       " 'min_impurity_decrease': 0.0,\n",
       " 'min_samples_leaf': 1,\n",
       " 'min_samples_split': 2,\n",
       " 'min_weight_fraction_leaf': 0.0,\n",
       " 'n_estimators': 100,\n",
       " 'n_jobs': None,\n",
       " 'oob_score': False,\n",
       " 'random_state': 123,\n",
       " 'verbose': 0,\n",
       " 'warm_start': False}"
      ]
     },
     "execution_count": 30,
     "metadata": {},
     "output_type": "execute_result"
    }
   ],
   "source": [
    "rf_e.get_params()"
   ]
  },
  {
   "attachments": {},
   "cell_type": "markdown",
   "metadata": {},
   "source": [
    "Observing feature importance for the resulting random forest model."
   ]
  },
  {
   "cell_type": "code",
   "execution_count": 39,
   "metadata": {},
   "outputs": [
    {
     "name": "stdout",
     "output_type": "stream",
     "text": [
      "Features sorted by their score for estimator 0:\n",
      "                            importance\n",
      "reviews                       0.085184\n",
      "descriptionGrammar            0.078914\n",
      "developerAppAgeMedian         0.073608\n",
      "reviewsSentiment              0.071094\n",
      "releasedYears                 0.069543\n",
      "realInstalls                  0.060496\n",
      "descriptionSentiment          0.059994\n",
      "descriptionReadability        0.055172\n",
      "score                         0.053232\n",
      "ratingsStd                    0.052837\n",
      "ratings                       0.052835\n",
      "developerNApps                0.044069\n",
      "ratingsSkew                   0.042592\n",
      "price                         0.035557\n",
      "genreId_EDUCATION             0.029537\n",
      "genreId_GAME_EDUCATIONAL      0.021621\n",
      "adSupported                   0.020436\n",
      "containsAds                   0.018493\n",
      "genreId_GAME_CASUAL           0.015092\n",
      "genreId_GAME_ARCADE           0.009221\n",
      "genreId_GAME_RACING           0.008146\n",
      "genreId_GAME_PUZZLE           0.006805\n",
      "offersIAP                     0.006633\n",
      "free                          0.006116\n",
      "genreId_GAME_SPORTS           0.004989\n",
      "contentRating_Teen            0.003471\n",
      "genreId_ENTERTAINMENT         0.003232\n",
      "genreId_GAME_SIMULATION       0.002118\n",
      "genreId_GAME_STRATEGY         0.002017\n",
      "genreId_MUSIC_AND_AUDIO       0.001770\n",
      "genreId_PARENTING             0.001283\n",
      "contentRating_Everyone 10+    0.001199\n",
      "genreId_GAME_ACTION           0.001107\n",
      "genreId_GAME_ROLE_PLAYING     0.000604\n",
      "genreId_GAME_ADVENTURE        0.000556\n",
      "genreId_GAME_MUSIC            0.000429\n",
      "contentRating_Mature 17+      0.000000\n",
      "genreId_GAME_BOARD            0.000000\n",
      "sale                          0.000000\n",
      "genreId_GAME_CARD             0.000000\n",
      "Features sorted by their score for estimator 1:\n",
      "                            importance\n",
      "descriptionGrammar            0.095407\n",
      "reviews                       0.092909\n",
      "developerAppAgeMedian         0.084549\n",
      "releasedYears                 0.065558\n",
      "descriptionReadability        0.065299\n",
      "realInstalls                  0.064972\n",
      "reviewsSentiment              0.063928\n",
      "ratings                       0.058193\n",
      "descriptionSentiment          0.053297\n",
      "score                         0.051001\n",
      "ratingsStd                    0.047136\n",
      "ratingsSkew                   0.043219\n",
      "price                         0.038742\n",
      "developerNApps                0.032945\n",
      "genreId_GAME_CASUAL           0.022500\n",
      "genreId_EDUCATION             0.015969\n",
      "containsAds                   0.012670\n",
      "genreId_GAME_EDUCATIONAL      0.012607\n",
      "adSupported                   0.012074\n",
      "genreId_GAME_ARCADE           0.010208\n",
      "contentRating_Teen            0.009536\n",
      "offersIAP                     0.007654\n",
      "genreId_GAME_PUZZLE           0.006990\n",
      "free                          0.006400\n",
      "genreId_GAME_RACING           0.006101\n",
      "genreId_GAME_SPORTS           0.004027\n",
      "genreId_ENTERTAINMENT         0.003881\n",
      "genreId_MUSIC_AND_AUDIO       0.003283\n",
      "genreId_GAME_ADVENTURE        0.001844\n",
      "genreId_GAME_STRATEGY         0.001430\n",
      "genreId_GAME_ROLE_PLAYING     0.001402\n",
      "genreId_GAME_MUSIC            0.001365\n",
      "genreId_GAME_ACTION           0.000953\n",
      "contentRating_Everyone 10+    0.000688\n",
      "genreId_GAME_SIMULATION       0.000642\n",
      "contentRating_Mature 17+      0.000268\n",
      "genreId_PARENTING             0.000163\n",
      "genreId_GAME_CARD             0.000156\n",
      "genreId_GAME_BOARD            0.000033\n",
      "sale                          0.000000\n",
      "Features sorted by their score for estimator 2:\n",
      "                            importance\n",
      "realInstalls                  0.086050\n",
      "reviews                       0.077819\n",
      "descriptionGrammar            0.071950\n",
      "releasedYears                 0.071201\n",
      "descriptionReadability        0.068122\n",
      "developerAppAgeMedian         0.064874\n",
      "reviewsSentiment              0.059677\n",
      "ratings                       0.059285\n",
      "score                         0.048891\n",
      "ratingsStd                    0.048613\n",
      "descriptionSentiment          0.048599\n",
      "price                         0.047888\n",
      "ratingsSkew                   0.044493\n",
      "developerNApps                0.043203\n",
      "genreId_EDUCATION             0.025564\n",
      "adSupported                   0.022726\n",
      "genreId_GAME_CASUAL           0.019868\n",
      "containsAds                   0.017527\n",
      "genreId_GAME_EDUCATIONAL      0.016097\n",
      "genreId_GAME_PUZZLE           0.010994\n",
      "genreId_GAME_ARCADE           0.010991\n",
      "free                          0.010159\n",
      "offersIAP                     0.005248\n",
      "genreId_GAME_RACING           0.003299\n",
      "genreId_GAME_SPORTS           0.003156\n",
      "genreId_ENTERTAINMENT         0.002920\n",
      "contentRating_Teen            0.002200\n",
      "genreId_GAME_SIMULATION       0.002198\n",
      "genreId_MUSIC_AND_AUDIO       0.001587\n",
      "genreId_GAME_ACTION           0.001412\n",
      "genreId_GAME_ADVENTURE        0.001163\n",
      "contentRating_Everyone 10+    0.000773\n",
      "genreId_GAME_MUSIC            0.000710\n",
      "genreId_GAME_STRATEGY         0.000452\n",
      "genreId_GAME_ROLE_PLAYING     0.000198\n",
      "genreId_GAME_BOARD            0.000094\n",
      "contentRating_Mature 17+      0.000000\n",
      "genreId_GAME_CARD             0.000000\n",
      "sale                          0.000000\n",
      "genreId_PARENTING             0.000000\n",
      "Features sorted by their score for estimator 3:\n",
      "                            importance\n",
      "realInstalls                  0.090055\n",
      "reviews                       0.080761\n",
      "developerAppAgeMedian         0.064792\n",
      "score                         0.064765\n",
      "reviewsSentiment              0.063175\n",
      "descriptionGrammar            0.063133\n",
      "ratings                       0.062468\n",
      "releasedYears                 0.058385\n",
      "descriptionReadability        0.056972\n",
      "ratingsSkew                   0.055768\n",
      "descriptionSentiment          0.052740\n",
      "developerNApps                0.043055\n",
      "ratingsStd                    0.041924\n",
      "price                         0.037335\n",
      "genreId_EDUCATION             0.027142\n",
      "adSupported                   0.025302\n",
      "containsAds                   0.022018\n",
      "genreId_GAME_CASUAL           0.016718\n",
      "offersIAP                     0.011730\n",
      "genreId_GAME_ARCADE           0.011318\n",
      "genreId_GAME_EDUCATIONAL      0.010340\n",
      "free                          0.009636\n",
      "genreId_GAME_SPORTS           0.004982\n",
      "contentRating_Teen            0.004830\n",
      "genreId_GAME_RACING           0.004476\n",
      "genreId_ENTERTAINMENT         0.004027\n",
      "genreId_GAME_SIMULATION       0.002732\n",
      "genreId_GAME_PUZZLE           0.002460\n",
      "genreId_GAME_ADVENTURE        0.001987\n",
      "genreId_GAME_STRATEGY         0.001182\n",
      "genreId_GAME_MUSIC            0.001104\n",
      "genreId_GAME_ACTION           0.000952\n",
      "genreId_GAME_ROLE_PLAYING     0.000781\n",
      "contentRating_Everyone 10+    0.000732\n",
      "genreId_PARENTING             0.000223\n",
      "genreId_GAME_CARD             0.000000\n",
      "contentRating_Mature 17+      0.000000\n",
      "genreId_MUSIC_AND_AUDIO       0.000000\n",
      "sale                          0.000000\n",
      "genreId_GAME_BOARD            0.000000\n"
     ]
    }
   ],
   "source": [
    "for idx,estimator in enumerate(rf_e_score['estimator']):\n",
    "    print(\"Features sorted by their score for estimator {}:\".format(idx))\n",
    "    feature_importances = pd.DataFrame(estimator.feature_importances_,\n",
    "                                       index = X_train.columns,\n",
    "                                       columns=['importance']).sort_values('importance', ascending=False)\n",
    "    print(feature_importances)"
   ]
  },
  {
   "attachments": {},
   "cell_type": "markdown",
   "metadata": {},
   "source": [
    "Using grid search to optimize hyperparameters."
   ]
  },
  {
   "cell_type": "code",
   "execution_count": 40,
   "metadata": {},
   "outputs": [],
   "source": [
    "param_rf = { \n",
    "    'n_estimators': [100, 150, 200, 250, 300],\n",
    "    'max_features': ['sqrt', 'log2'],\n",
    "    'max_depth': [5, 10, 20, 30],\n",
    "    'min_samples_leaf': [1, 2, 3],\n",
    "    'min_samples_split': [2, 3, 5]\n",
    "}"
   ]
  },
  {
   "cell_type": "code",
   "execution_count": 71,
   "metadata": {},
   "outputs": [
    {
     "name": "stdout",
     "output_type": "stream",
     "text": [
      "Fitting 4 folds for each of 360 candidates, totalling 1440 fits\n"
     ]
    }
   ],
   "source": [
    "grid_rf = GridSearchCV(estimator=rf_e, \n",
    "                        param_grid=param_rf,\n",
    "                        cv=skf,\n",
    "                        scoring='f1', \n",
    "                        verbose=1).fit(X_train_res, y_train_res)\n",
    "\n",
    "# maximizing recall\n",
    "# grid_rf = GridSearchCV(estimator=rf_e, \n",
    "#                         param_grid=param_rf,\n",
    "#                         cv=skf,\n",
    "#                         scoring='recall', \n",
    "#                         verbose=1).fit(X_train_res, y_train_res)"
   ]
  },
  {
   "cell_type": "code",
   "execution_count": 72,
   "metadata": {},
   "outputs": [
    {
     "name": "stdout",
     "output_type": "stream",
     "text": [
      "rf: {'max_depth': 30, 'max_features': 'log2', 'min_samples_leaf': 1, 'min_samples_split': 2, 'n_estimators': 300}\n"
     ]
    }
   ],
   "source": [
    "print(f'rf: {grid_rf.best_params_}')"
   ]
  },
  {
   "cell_type": "code",
   "execution_count": 73,
   "metadata": {},
   "outputs": [],
   "source": [
    "rf_e_2 = RandomForestClassifier(**grid_rf.best_params_, class_weight=\"balanced\", random_state=123)"
   ]
  },
  {
   "cell_type": "code",
   "execution_count": 74,
   "metadata": {},
   "outputs": [],
   "source": [
    "rf_e_score_2 = cross_validate(rf_e_2, X_train_res, y_train_res, cv=skf, scoring=[\"accuracy\", \"recall\", \"precision\", \"f1\"], return_train_score=True)"
   ]
  },
  {
   "cell_type": "code",
   "execution_count": 75,
   "metadata": {},
   "outputs": [
    {
     "name": "stdout",
     "output_type": "stream",
     "text": [
      "Accuracy: 0.9056603773584906\n",
      "Recall: 0.9386792452830188\n",
      "Precision: 0.8845183286143694\n",
      "F1: 0.9096358361256288\n"
     ]
    }
   ],
   "source": [
    "print(f\"Accuracy: {rf_e_score_2['test_accuracy'].mean()}\")\n",
    "print(f\"Recall: {rf_e_score_2['test_recall'].mean()}\")\n",
    "print(f\"Precision: {rf_e_score_2['test_precision'].mean()}\")\n",
    "print(f\"F1: {rf_e_score_2['test_f1'].mean()}\")"
   ]
  },
  {
   "cell_type": "code",
   "execution_count": 76,
   "metadata": {},
   "outputs": [
    {
     "data": {
      "text/html": [
       "<style>#sk-container-id-6 {color: black;background-color: white;}#sk-container-id-6 pre{padding: 0;}#sk-container-id-6 div.sk-toggleable {background-color: white;}#sk-container-id-6 label.sk-toggleable__label {cursor: pointer;display: block;width: 100%;margin-bottom: 0;padding: 0.3em;box-sizing: border-box;text-align: center;}#sk-container-id-6 label.sk-toggleable__label-arrow:before {content: \"▸\";float: left;margin-right: 0.25em;color: #696969;}#sk-container-id-6 label.sk-toggleable__label-arrow:hover:before {color: black;}#sk-container-id-6 div.sk-estimator:hover label.sk-toggleable__label-arrow:before {color: black;}#sk-container-id-6 div.sk-toggleable__content {max-height: 0;max-width: 0;overflow: hidden;text-align: left;background-color: #f0f8ff;}#sk-container-id-6 div.sk-toggleable__content pre {margin: 0.2em;color: black;border-radius: 0.25em;background-color: #f0f8ff;}#sk-container-id-6 input.sk-toggleable__control:checked~div.sk-toggleable__content {max-height: 200px;max-width: 100%;overflow: auto;}#sk-container-id-6 input.sk-toggleable__control:checked~label.sk-toggleable__label-arrow:before {content: \"▾\";}#sk-container-id-6 div.sk-estimator input.sk-toggleable__control:checked~label.sk-toggleable__label {background-color: #d4ebff;}#sk-container-id-6 div.sk-label input.sk-toggleable__control:checked~label.sk-toggleable__label {background-color: #d4ebff;}#sk-container-id-6 input.sk-hidden--visually {border: 0;clip: rect(1px 1px 1px 1px);clip: rect(1px, 1px, 1px, 1px);height: 1px;margin: -1px;overflow: hidden;padding: 0;position: absolute;width: 1px;}#sk-container-id-6 div.sk-estimator {font-family: monospace;background-color: #f0f8ff;border: 1px dotted black;border-radius: 0.25em;box-sizing: border-box;margin-bottom: 0.5em;}#sk-container-id-6 div.sk-estimator:hover {background-color: #d4ebff;}#sk-container-id-6 div.sk-parallel-item::after {content: \"\";width: 100%;border-bottom: 1px solid gray;flex-grow: 1;}#sk-container-id-6 div.sk-label:hover label.sk-toggleable__label {background-color: #d4ebff;}#sk-container-id-6 div.sk-serial::before {content: \"\";position: absolute;border-left: 1px solid gray;box-sizing: border-box;top: 0;bottom: 0;left: 50%;z-index: 0;}#sk-container-id-6 div.sk-serial {display: flex;flex-direction: column;align-items: center;background-color: white;padding-right: 0.2em;padding-left: 0.2em;position: relative;}#sk-container-id-6 div.sk-item {position: relative;z-index: 1;}#sk-container-id-6 div.sk-parallel {display: flex;align-items: stretch;justify-content: center;background-color: white;position: relative;}#sk-container-id-6 div.sk-item::before, #sk-container-id-6 div.sk-parallel-item::before {content: \"\";position: absolute;border-left: 1px solid gray;box-sizing: border-box;top: 0;bottom: 0;left: 50%;z-index: -1;}#sk-container-id-6 div.sk-parallel-item {display: flex;flex-direction: column;z-index: 1;position: relative;background-color: white;}#sk-container-id-6 div.sk-parallel-item:first-child::after {align-self: flex-end;width: 50%;}#sk-container-id-6 div.sk-parallel-item:last-child::after {align-self: flex-start;width: 50%;}#sk-container-id-6 div.sk-parallel-item:only-child::after {width: 0;}#sk-container-id-6 div.sk-dashed-wrapped {border: 1px dashed gray;margin: 0 0.4em 0.5em 0.4em;box-sizing: border-box;padding-bottom: 0.4em;background-color: white;}#sk-container-id-6 div.sk-label label {font-family: monospace;font-weight: bold;display: inline-block;line-height: 1.2em;}#sk-container-id-6 div.sk-label-container {text-align: center;}#sk-container-id-6 div.sk-container {/* jupyter's `normalize.less` sets `[hidden] { display: none; }` but bootstrap.min.css set `[hidden] { display: none !important; }` so we also need the `!important` here to be able to override the default hidden behavior on the sphinx rendered scikit-learn.org. See: https://github.com/scikit-learn/scikit-learn/issues/21755 */display: inline-block !important;position: relative;}#sk-container-id-6 div.sk-text-repr-fallback {display: none;}</style><div id=\"sk-container-id-6\" class=\"sk-top-container\"><div class=\"sk-text-repr-fallback\"><pre>RandomForestClassifier(class_weight=&#x27;balanced&#x27;, max_depth=30,\n",
       "                       max_features=&#x27;log2&#x27;, n_estimators=300, random_state=123)</pre><b>In a Jupyter environment, please rerun this cell to show the HTML representation or trust the notebook. <br />On GitHub, the HTML representation is unable to render, please try loading this page with nbviewer.org.</b></div><div class=\"sk-container\" hidden><div class=\"sk-item\"><div class=\"sk-estimator sk-toggleable\"><input class=\"sk-toggleable__control sk-hidden--visually\" id=\"sk-estimator-id-6\" type=\"checkbox\" checked><label for=\"sk-estimator-id-6\" class=\"sk-toggleable__label sk-toggleable__label-arrow\">RandomForestClassifier</label><div class=\"sk-toggleable__content\"><pre>RandomForestClassifier(class_weight=&#x27;balanced&#x27;, max_depth=30,\n",
       "                       max_features=&#x27;log2&#x27;, n_estimators=300, random_state=123)</pre></div></div></div></div></div>"
      ],
      "text/plain": [
       "RandomForestClassifier(class_weight='balanced', max_depth=30,\n",
       "                       max_features='log2', n_estimators=300, random_state=123)"
      ]
     },
     "execution_count": 76,
     "metadata": {},
     "output_type": "execute_result"
    }
   ],
   "source": [
    "rf_e_2"
   ]
  },
  {
   "cell_type": "code",
   "execution_count": 77,
   "metadata": {},
   "outputs": [
    {
     "data": {
      "text/plain": [
       "<sklearn.model_selection._plot.LearningCurveDisplay at 0x7fda47297430>"
      ]
     },
     "execution_count": 77,
     "metadata": {},
     "output_type": "execute_result"
    },
    {
     "data": {
      "image/png": "[encoded data removed]",
      "text/plain": [
       "<Figure size 640x480 with 1 Axes>"
      ]
     },
     "metadata": {},
     "output_type": "display_data"
    }
   ],
   "source": [
    "LearningCurveDisplay.from_estimator(rf_e_2, X_train_res, y_train_res, scoring=\"f1\")"
   ]
  },
  {
   "attachments": {},
   "cell_type": "markdown",
   "metadata": {},
   "source": [
    "### Testing"
   ]
  },
  {
   "cell_type": "code",
   "execution_count": 78,
   "metadata": {},
   "outputs": [],
   "source": [
    "from sklearn.metrics import confusion_matrix, accuracy_score, f1_score"
   ]
  },
  {
   "cell_type": "code",
   "execution_count": 90,
   "metadata": {},
   "outputs": [
    {
     "data": {
      "text/html": [
       "<style>#sk-container-id-9 {color: black;background-color: white;}#sk-container-id-9 pre{padding: 0;}#sk-container-id-9 div.sk-toggleable {background-color: white;}#sk-container-id-9 label.sk-toggleable__label {cursor: pointer;display: block;width: 100%;margin-bottom: 0;padding: 0.3em;box-sizing: border-box;text-align: center;}#sk-container-id-9 label.sk-toggleable__label-arrow:before {content: \"▸\";float: left;margin-right: 0.25em;color: #696969;}#sk-container-id-9 label.sk-toggleable__label-arrow:hover:before {color: black;}#sk-container-id-9 div.sk-estimator:hover label.sk-toggleable__label-arrow:before {color: black;}#sk-container-id-9 div.sk-toggleable__content {max-height: 0;max-width: 0;overflow: hidden;text-align: left;background-color: #f0f8ff;}#sk-container-id-9 div.sk-toggleable__content pre {margin: 0.2em;color: black;border-radius: 0.25em;background-color: #f0f8ff;}#sk-container-id-9 input.sk-toggleable__control:checked~div.sk-toggleable__content {max-height: 200px;max-width: 100%;overflow: auto;}#sk-container-id-9 input.sk-toggleable__control:checked~label.sk-toggleable__label-arrow:before {content: \"▾\";}#sk-container-id-9 div.sk-estimator input.sk-toggleable__control:checked~label.sk-toggleable__label {background-color: #d4ebff;}#sk-container-id-9 div.sk-label input.sk-toggleable__control:checked~label.sk-toggleable__label {background-color: #d4ebff;}#sk-container-id-9 input.sk-hidden--visually {border: 0;clip: rect(1px 1px 1px 1px);clip: rect(1px, 1px, 1px, 1px);height: 1px;margin: -1px;overflow: hidden;padding: 0;position: absolute;width: 1px;}#sk-container-id-9 div.sk-estimator {font-family: monospace;background-color: #f0f8ff;border: 1px dotted black;border-radius: 0.25em;box-sizing: border-box;margin-bottom: 0.5em;}#sk-container-id-9 div.sk-estimator:hover {background-color: #d4ebff;}#sk-container-id-9 div.sk-parallel-item::after {content: \"\";width: 100%;border-bottom: 1px solid gray;flex-grow: 1;}#sk-container-id-9 div.sk-label:hover label.sk-toggleable__label {background-color: #d4ebff;}#sk-container-id-9 div.sk-serial::before {content: \"\";position: absolute;border-left: 1px solid gray;box-sizing: border-box;top: 0;bottom: 0;left: 50%;z-index: 0;}#sk-container-id-9 div.sk-serial {display: flex;flex-direction: column;align-items: center;background-color: white;padding-right: 0.2em;padding-left: 0.2em;position: relative;}#sk-container-id-9 div.sk-item {position: relative;z-index: 1;}#sk-container-id-9 div.sk-parallel {display: flex;align-items: stretch;justify-content: center;background-color: white;position: relative;}#sk-container-id-9 div.sk-item::before, #sk-container-id-9 div.sk-parallel-item::before {content: \"\";position: absolute;border-left: 1px solid gray;box-sizing: border-box;top: 0;bottom: 0;left: 50%;z-index: -1;}#sk-container-id-9 div.sk-parallel-item {display: flex;flex-direction: column;z-index: 1;position: relative;background-color: white;}#sk-container-id-9 div.sk-parallel-item:first-child::after {align-self: flex-end;width: 50%;}#sk-container-id-9 div.sk-parallel-item:last-child::after {align-self: flex-start;width: 50%;}#sk-container-id-9 div.sk-parallel-item:only-child::after {width: 0;}#sk-container-id-9 div.sk-dashed-wrapped {border: 1px dashed gray;margin: 0 0.4em 0.5em 0.4em;box-sizing: border-box;padding-bottom: 0.4em;background-color: white;}#sk-container-id-9 div.sk-label label {font-family: monospace;font-weight: bold;display: inline-block;line-height: 1.2em;}#sk-container-id-9 div.sk-label-container {text-align: center;}#sk-container-id-9 div.sk-container {/* jupyter's `normalize.less` sets `[hidden] { display: none; }` but bootstrap.min.css set `[hidden] { display: none !important; }` so we also need the `!important` here to be able to override the default hidden behavior on the sphinx rendered scikit-learn.org. See: https://github.com/scikit-learn/scikit-learn/issues/21755 */display: inline-block !important;position: relative;}#sk-container-id-9 div.sk-text-repr-fallback {display: none;}</style><div id=\"sk-container-id-9\" class=\"sk-top-container\"><div class=\"sk-text-repr-fallback\"><pre>RandomForestClassifier(class_weight=&#x27;balanced&#x27;, max_depth=30,\n",
       "                       max_features=&#x27;log2&#x27;, n_estimators=300, random_state=123)</pre><b>In a Jupyter environment, please rerun this cell to show the HTML representation or trust the notebook. <br />On GitHub, the HTML representation is unable to render, please try loading this page with nbviewer.org.</b></div><div class=\"sk-container\" hidden><div class=\"sk-item\"><div class=\"sk-estimator sk-toggleable\"><input class=\"sk-toggleable__control sk-hidden--visually\" id=\"sk-estimator-id-9\" type=\"checkbox\" checked><label for=\"sk-estimator-id-9\" class=\"sk-toggleable__label sk-toggleable__label-arrow\">RandomForestClassifier</label><div class=\"sk-toggleable__content\"><pre>RandomForestClassifier(class_weight=&#x27;balanced&#x27;, max_depth=30,\n",
       "                       max_features=&#x27;log2&#x27;, n_estimators=300, random_state=123)</pre></div></div></div></div></div>"
      ],
      "text/plain": [
       "RandomForestClassifier(class_weight='balanced', max_depth=30,\n",
       "                       max_features='log2', n_estimators=300, random_state=123)"
      ]
     },
     "execution_count": 90,
     "metadata": {},
     "output_type": "execute_result"
    }
   ],
   "source": [
    "rf_e_2.fit(X_train_res, y_train_res)"
   ]
  },
  {
   "cell_type": "code",
   "execution_count": 91,
   "metadata": {},
   "outputs": [],
   "source": [
    "y_pred = rf_e_2.predict(X_test)"
   ]
  },
  {
   "cell_type": "code",
   "execution_count": 92,
   "metadata": {},
   "outputs": [
    {
     "data": {
      "text/plain": [
       "<sklearn.metrics._plot.roc_curve.RocCurveDisplay at 0x7fda2cd66e30>"
      ]
     },
     "execution_count": 92,
     "metadata": {},
     "output_type": "execute_result"
    },
    {
     "data": {
      "image/png": "[encoded data removed]",
      "text/plain": [
       "<Figure size 640x480 with 1 Axes>"
      ]
     },
     "metadata": {},
     "output_type": "display_data"
    }
   ],
   "source": [
    "fpr, tpr, thresholds = roc_curve(y_test, y_pred)\n",
    "roc_auc = auc(fpr, tpr)\n",
    "RocCurveDisplay(fpr=fpr, tpr=tpr, roc_auc=roc_auc).plot()"
   ]
  },
  {
   "cell_type": "code",
   "execution_count": 93,
   "metadata": {},
   "outputs": [
    {
     "data": {
      "image/png": "[encoded data removed]",
      "text/plain": [
       "<Figure size 400x400 with 1 Axes>"
      ]
     },
     "metadata": {},
     "output_type": "display_data"
    }
   ],
   "source": [
    "cm = confusion_matrix(y_test, y_pred)\n",
    "plt.figure(figsize=(4,4))\n",
    "ax = sns.heatmap(cm, annot=True, fmt='g', cmap=sns.cubehelix_palette(start=.7, rot=-.5, light=0.95, dark=0.2, as_cmap=True), cbar=False)\n",
    "ax.set_xlabel('Predicted'); ax.set_ylabel('True');\n",
    "ax.xaxis.set_ticklabels(['non-educational', 'educational']); ax.yaxis.set_ticklabels(['non-educational', 'educational']);"
   ]
  },
  {
   "attachments": {},
   "cell_type": "markdown",
   "metadata": {},
   "source": [
    "Testing out the results using a 0.40 threshold (labeled as 1 if pred >= 0.40)."
   ]
  },
  {
   "cell_type": "code",
   "execution_count": 177,
   "metadata": {},
   "outputs": [],
   "source": [
    "y_pred_40 = (rf_e_2.predict_proba(X_test)[:,1] >= 0.40).astype(bool)"
   ]
  },
  {
   "cell_type": "code",
   "execution_count": 178,
   "metadata": {},
   "outputs": [
    {
     "data": {
      "image/png": "[encoded data removed]",
      "text/plain": [
       "<Figure size 400x400 with 1 Axes>"
      ]
     },
     "metadata": {},
     "output_type": "display_data"
    }
   ],
   "source": [
    "cm = confusion_matrix(y_test, y_pred_40)\n",
    "plt.figure(figsize=(4,4))\n",
    "ax = sns.heatmap(cm, annot=True, fmt='g', cmap=sns.cubehelix_palette(start=.7, rot=-.5, light=0.95, dark=0.2, as_cmap=True), cbar=False)\n",
    "ax.set_xlabel('Predicted'); ax.set_ylabel('True');\n",
    "ax.xaxis.set_ticklabels(['non-educational', 'educational']); ax.yaxis.set_ticklabels(['non-educational', 'educational']);"
   ]
  },
  {
   "cell_type": "code",
   "execution_count": 82,
   "metadata": {},
   "outputs": [
    {
     "name": "stdout",
     "output_type": "stream",
     "text": [
      "Accuracy: 0.7878787878787878\n",
      "F1: 0.2222222222222222\n"
     ]
    }
   ],
   "source": [
    "print(\"Accuracy: \" + str(accuracy_score(y_test, y_pred)))\n",
    "print(\"F1: \" + str(f1_score(y_test, y_pred)))"
   ]
  },
  {
   "attachments": {},
   "cell_type": "markdown",
   "metadata": {},
   "source": [
    "Saving the final model as a joblib file and model features for future alignment."
   ]
  },
  {
   "cell_type": "code",
   "execution_count": 51,
   "metadata": {},
   "outputs": [
    {
     "data": {
      "text/plain": [
       "['models/rf_e_0607.joblib']"
      ]
     },
     "execution_count": 51,
     "metadata": {},
     "output_type": "execute_result"
    }
   ],
   "source": [
    "from joblib import dump\n",
    "dump(rf_e_2, 'models/rf_e_0607.joblib')"
   ]
  },
  {
   "cell_type": "code",
   "execution_count": 176,
   "metadata": {},
   "outputs": [],
   "source": [
    "X_test.head(0).to_csv('models/features_educational.csv', index=False)"
   ]
  },
  {
   "attachments": {},
   "cell_type": "markdown",
   "metadata": {},
   "source": [
    "## Violent"
   ]
  },
  {
   "attachments": {},
   "cell_type": "markdown",
   "metadata": {},
   "source": [
    "### Preprocessing"
   ]
  },
  {
   "cell_type": "code",
   "execution_count": 103,
   "metadata": {},
   "outputs": [],
   "source": [
    "play_violent = play_full.dropna(subset=['ratingsStd', 'ratingsSkew', 'releasedYear', 'releasedYears', 'Violent']).drop(columns=['app_fullname', 'title', 'Educational', 'Manipulative_3plus', 'Manipulative_2plus', 'releasedYear'])"
   ]
  },
  {
   "cell_type": "code",
   "execution_count": 104,
   "metadata": {},
   "outputs": [
    {
     "data": {
      "text/plain": [
       "(300, 24)"
      ]
     },
     "execution_count": 104,
     "metadata": {},
     "output_type": "execute_result"
    }
   ],
   "source": [
    "play_violent.shape"
   ]
  },
  {
   "cell_type": "code",
   "execution_count": 105,
   "metadata": {},
   "outputs": [],
   "source": [
    "X = play_violent.drop(columns=['Violent', 'appId', 'developerCountry'])\n",
    "y = play_violent['Violent']"
   ]
  },
  {
   "cell_type": "code",
   "execution_count": 106,
   "metadata": {},
   "outputs": [
    {
     "data": {
      "text/plain": [
       "0.0    205\n",
       "1.0     95\n",
       "Name: Violent, dtype: int64"
      ]
     },
     "execution_count": 106,
     "metadata": {},
     "output_type": "execute_result"
    }
   ],
   "source": [
    "y.value_counts()"
   ]
  },
  {
   "cell_type": "code",
   "execution_count": 142,
   "metadata": {},
   "outputs": [],
   "source": [
    "X_train, X_test, y_train, y_test = train_test_split(X, y, test_size=0.2, random_state=42)"
   ]
  },
  {
   "cell_type": "code",
   "execution_count": 143,
   "metadata": {},
   "outputs": [],
   "source": [
    "scaler = StandardScaler()\n",
    "X_train[num_columns] = scaler.fit_transform(X_train[num_columns])\n",
    "X_test[num_columns] = scaler.fit_transform(X_test[num_columns])"
   ]
  },
  {
   "cell_type": "code",
   "execution_count": 144,
   "metadata": {},
   "outputs": [],
   "source": [
    "X_train = pd.get_dummies(X_train, drop_first=True)\n",
    "X_test = pd.get_dummies(X_test, drop_first=True)"
   ]
  },
  {
   "cell_type": "code",
   "execution_count": 145,
   "metadata": {},
   "outputs": [],
   "source": [
    "X_train, X_test = X_train.align(X_test, axis=1, fill_value=0)"
   ]
  },
  {
   "cell_type": "code",
   "execution_count": 151,
   "metadata": {},
   "outputs": [],
   "source": [
    "sm = SMOTE(random_state=42)\n",
    "X_train_res, y_train_res = sm.fit_resample(X_train, y_train)"
   ]
  },
  {
   "attachments": {},
   "cell_type": "markdown",
   "metadata": {},
   "source": [
    "### Modeling"
   ]
  },
  {
   "cell_type": "code",
   "execution_count": 128,
   "metadata": {},
   "outputs": [],
   "source": [
    "lr_v = LogisticRegression(class_weight=\"balanced\")\n",
    "dt_v = DecisionTreeClassifier(class_weight=\"balanced\")\n",
    "rf_v = RandomForestClassifier(class_weight=\"balanced\", random_state=123)\n",
    "xgb_v = XGBClassifier(scale_pos_weight=y.value_counts()[0]/y.value_counts()[1])\n",
    "svm_v = SVC(class_weight=\"balanced\")"
   ]
  },
  {
   "cell_type": "code",
   "execution_count": 129,
   "metadata": {},
   "outputs": [],
   "source": [
    "lr_v_score = cross_validate(lr_v, X_train_res, y_train_res, cv=skf, scoring=[\"accuracy\", \"recall\", \"precision\", \"f1\"], return_train_score=True, return_estimator=True)\n",
    "dt_v_score = cross_validate(dt_v, X_train_res, y_train_res, cv=skf, scoring=[\"accuracy\", \"recall\", \"precision\", \"f1\"], return_train_score=True, return_estimator=True)\n",
    "rf_v_score = cross_validate(rf_v, X_train_res, y_train_res, cv=skf, scoring=[\"accuracy\", \"recall\", \"precision\", \"f1\"], return_train_score=True, return_estimator=True)\n",
    "xgb_v_score = cross_validate(xgb_v, X_train_res, y_train_res, cv=skf, scoring=[\"accuracy\", \"recall\", \"precision\", \"f1\"], return_train_score=True, return_estimator=True)\n",
    "svm_v_score = cross_validate(svm_v, X_train_res, y_train_res, cv=skf, scoring=[\"accuracy\", \"recall\", \"precision\", \"f1\"], return_train_score=True, return_estimator=True)"
   ]
  },
  {
   "cell_type": "code",
   "execution_count": 130,
   "metadata": {},
   "outputs": [
    {
     "name": "stdout",
     "output_type": "stream",
     "text": [
      "Model Scores (train_behavior)\n"
     ]
    },
    {
     "data": {
      "text/html": [
       "<div>\n",
       "<style scoped>\n",
       "    .dataframe tbody tr th:only-of-type {\n",
       "        vertical-align: middle;\n",
       "    }\n",
       "\n",
       "    .dataframe tbody tr th {\n",
       "        vertical-align: top;\n",
       "    }\n",
       "\n",
       "    .dataframe thead th {\n",
       "        text-align: right;\n",
       "    }\n",
       "</style>\n",
       "<table border=\"1\" class=\"dataframe\">\n",
       "  <thead>\n",
       "    <tr style=\"text-align: right;\">\n",
       "      <th></th>\n",
       "      <th>Model</th>\n",
       "      <th>Accuracy</th>\n",
       "      <th>Recall</th>\n",
       "      <th>Precision</th>\n",
       "      <th>F1</th>\n",
       "    </tr>\n",
       "  </thead>\n",
       "  <tbody>\n",
       "    <tr>\n",
       "      <th>3</th>\n",
       "      <td>XGB</td>\n",
       "      <td>0.824273</td>\n",
       "      <td>0.879065</td>\n",
       "      <td>0.792785</td>\n",
       "      <td>0.833423</td>\n",
       "    </tr>\n",
       "    <tr>\n",
       "      <th>2</th>\n",
       "      <td>RF</td>\n",
       "      <td>0.830187</td>\n",
       "      <td>0.830720</td>\n",
       "      <td>0.833737</td>\n",
       "      <td>0.830591</td>\n",
       "    </tr>\n",
       "    <tr>\n",
       "      <th>0</th>\n",
       "      <td>LR</td>\n",
       "      <td>0.824126</td>\n",
       "      <td>0.817944</td>\n",
       "      <td>0.829539</td>\n",
       "      <td>0.820925</td>\n",
       "    </tr>\n",
       "    <tr>\n",
       "      <th>4</th>\n",
       "      <td>SVM</td>\n",
       "      <td>0.803005</td>\n",
       "      <td>0.836818</td>\n",
       "      <td>0.784640</td>\n",
       "      <td>0.808448</td>\n",
       "    </tr>\n",
       "    <tr>\n",
       "      <th>1</th>\n",
       "      <td>DT</td>\n",
       "      <td>0.787651</td>\n",
       "      <td>0.787747</td>\n",
       "      <td>0.792568</td>\n",
       "      <td>0.788977</td>\n",
       "    </tr>\n",
       "  </tbody>\n",
       "</table>\n",
       "</div>"
      ],
      "text/plain": [
       "  Model  Accuracy    Recall  Precision        F1\n",
       "3   XGB  0.824273  0.879065   0.792785  0.833423\n",
       "2    RF  0.830187  0.830720   0.833737  0.830591\n",
       "0    LR  0.824126  0.817944   0.829539  0.820925\n",
       "4   SVM  0.803005  0.836818   0.784640  0.808448\n",
       "1    DT  0.787651  0.787747   0.792568  0.788977"
      ]
     },
     "execution_count": 130,
     "metadata": {},
     "output_type": "execute_result"
    }
   ],
   "source": [
    "print('Model Scores (train_behavior)')\n",
    "pd.DataFrame({'Model': ['LR', 'DT', 'RF', 'XGB', 'SVM'], 'Accuracy': [lr_v_score['test_accuracy'].mean(), dt_v_score['test_accuracy'].mean(), rf_v_score['test_accuracy'].mean(), xgb_v_score['test_accuracy'].mean(), svm_v_score['test_accuracy'].mean()], 'Recall': [lr_v_score['test_recall'].mean(), dt_v_score['test_recall'].mean(), rf_v_score['test_recall'].mean(), xgb_v_score['test_recall'].mean(), svm_v_score['test_recall'].mean()], 'Precision': [lr_v_score['test_precision'].mean(), dt_v_score['test_precision'].mean(), rf_v_score['test_precision'].mean(), xgb_v_score['test_precision'].mean(), svm_v_score['test_precision'].mean()], 'F1': [lr_v_score['test_f1'].mean(), dt_v_score['test_f1'].mean(), rf_v_score['test_f1'].mean(), xgb_v_score['test_f1'].mean(), svm_v_score['test_f1'].mean(), ]}).sort_values('F1', ascending=False)"
   ]
  },
  {
   "cell_type": "code",
   "execution_count": 131,
   "metadata": {},
   "outputs": [],
   "source": [
    "param_rf_v = { \n",
    "    'n_estimators': [50, 100, 150, 200],\n",
    "    'max_features': ['sqrt', 'log2'],\n",
    "    'max_depth': [6, 8, 10, 20],\n",
    "    'min_samples_leaf': [1, 2, 3],\n",
    "    'min_samples_split': [2, 3, 5, 10]\n",
    "}"
   ]
  },
  {
   "cell_type": "code",
   "execution_count": 132,
   "metadata": {},
   "outputs": [
    {
     "name": "stdout",
     "output_type": "stream",
     "text": [
      "Fitting 4 folds for each of 384 candidates, totalling 1536 fits\n"
     ]
    }
   ],
   "source": [
    "grid_rf_v = GridSearchCV(estimator=rf_v, \n",
    "                        param_grid=param_rf_v,\n",
    "                        cv=skf,\n",
    "                        scoring='f1', \n",
    "                        verbose=1).fit(X_train_res, y_train_res)"
   ]
  },
  {
   "cell_type": "code",
   "execution_count": 133,
   "metadata": {},
   "outputs": [
    {
     "name": "stdout",
     "output_type": "stream",
     "text": [
      "rf: {'max_depth': 10, 'max_features': 'sqrt', 'min_samples_leaf': 1, 'min_samples_split': 5, 'n_estimators': 150}\n"
     ]
    }
   ],
   "source": [
    "print(f'rf: {grid_rf_v.best_params_}')"
   ]
  },
  {
   "cell_type": "code",
   "execution_count": 134,
   "metadata": {},
   "outputs": [],
   "source": [
    "rf_v_2 = RandomForestClassifier(**grid_rf_v.best_params_, class_weight=\"balanced\", random_state=123)"
   ]
  },
  {
   "cell_type": "code",
   "execution_count": 135,
   "metadata": {},
   "outputs": [],
   "source": [
    "rf_v_score_2 = cross_validate(rf_v_2, X_train_res, y_train_res, cv=skf, scoring=[\"accuracy\", \"recall\", \"precision\", \"f1\"], return_train_score=True)"
   ]
  },
  {
   "cell_type": "code",
   "execution_count": 136,
   "metadata": {},
   "outputs": [
    {
     "name": "stdout",
     "output_type": "stream",
     "text": [
      "Accuracy: 0.854319717895974\n",
      "Recall: 0.8607723577235773\n",
      "Precision: 0.8533362470862471\n",
      "F1: 0.8562091503267975\n"
     ]
    }
   ],
   "source": [
    "print(f\"Accuracy: {rf_v_score_2['test_accuracy'].mean()}\")\n",
    "print(f\"Recall: {rf_v_score_2['test_recall'].mean()}\")\n",
    "print(f\"Precision: {rf_v_score_2['test_precision'].mean()}\")\n",
    "print(f\"F1: {rf_v_score_2['test_f1'].mean()}\")"
   ]
  },
  {
   "cell_type": "code",
   "execution_count": 152,
   "metadata": {},
   "outputs": [
    {
     "data": {
      "text/html": [
       "<style>#sk-container-id-12 {color: black;background-color: white;}#sk-container-id-12 pre{padding: 0;}#sk-container-id-12 div.sk-toggleable {background-color: white;}#sk-container-id-12 label.sk-toggleable__label {cursor: pointer;display: block;width: 100%;margin-bottom: 0;padding: 0.3em;box-sizing: border-box;text-align: center;}#sk-container-id-12 label.sk-toggleable__label-arrow:before {content: \"▸\";float: left;margin-right: 0.25em;color: #696969;}#sk-container-id-12 label.sk-toggleable__label-arrow:hover:before {color: black;}#sk-container-id-12 div.sk-estimator:hover label.sk-toggleable__label-arrow:before {color: black;}#sk-container-id-12 div.sk-toggleable__content {max-height: 0;max-width: 0;overflow: hidden;text-align: left;background-color: #f0f8ff;}#sk-container-id-12 div.sk-toggleable__content pre {margin: 0.2em;color: black;border-radius: 0.25em;background-color: #f0f8ff;}#sk-container-id-12 input.sk-toggleable__control:checked~div.sk-toggleable__content {max-height: 200px;max-width: 100%;overflow: auto;}#sk-container-id-12 input.sk-toggleable__control:checked~label.sk-toggleable__label-arrow:before {content: \"▾\";}#sk-container-id-12 div.sk-estimator input.sk-toggleable__control:checked~label.sk-toggleable__label {background-color: #d4ebff;}#sk-container-id-12 div.sk-label input.sk-toggleable__control:checked~label.sk-toggleable__label {background-color: #d4ebff;}#sk-container-id-12 input.sk-hidden--visually {border: 0;clip: rect(1px 1px 1px 1px);clip: rect(1px, 1px, 1px, 1px);height: 1px;margin: -1px;overflow: hidden;padding: 0;position: absolute;width: 1px;}#sk-container-id-12 div.sk-estimator {font-family: monospace;background-color: #f0f8ff;border: 1px dotted black;border-radius: 0.25em;box-sizing: border-box;margin-bottom: 0.5em;}#sk-container-id-12 div.sk-estimator:hover {background-color: #d4ebff;}#sk-container-id-12 div.sk-parallel-item::after {content: \"\";width: 100%;border-bottom: 1px solid gray;flex-grow: 1;}#sk-container-id-12 div.sk-label:hover label.sk-toggleable__label {background-color: #d4ebff;}#sk-container-id-12 div.sk-serial::before {content: \"\";position: absolute;border-left: 1px solid gray;box-sizing: border-box;top: 0;bottom: 0;left: 50%;z-index: 0;}#sk-container-id-12 div.sk-serial {display: flex;flex-direction: column;align-items: center;background-color: white;padding-right: 0.2em;padding-left: 0.2em;position: relative;}#sk-container-id-12 div.sk-item {position: relative;z-index: 1;}#sk-container-id-12 div.sk-parallel {display: flex;align-items: stretch;justify-content: center;background-color: white;position: relative;}#sk-container-id-12 div.sk-item::before, #sk-container-id-12 div.sk-parallel-item::before {content: \"\";position: absolute;border-left: 1px solid gray;box-sizing: border-box;top: 0;bottom: 0;left: 50%;z-index: -1;}#sk-container-id-12 div.sk-parallel-item {display: flex;flex-direction: column;z-index: 1;position: relative;background-color: white;}#sk-container-id-12 div.sk-parallel-item:first-child::after {align-self: flex-end;width: 50%;}#sk-container-id-12 div.sk-parallel-item:last-child::after {align-self: flex-start;width: 50%;}#sk-container-id-12 div.sk-parallel-item:only-child::after {width: 0;}#sk-container-id-12 div.sk-dashed-wrapped {border: 1px dashed gray;margin: 0 0.4em 0.5em 0.4em;box-sizing: border-box;padding-bottom: 0.4em;background-color: white;}#sk-container-id-12 div.sk-label label {font-family: monospace;font-weight: bold;display: inline-block;line-height: 1.2em;}#sk-container-id-12 div.sk-label-container {text-align: center;}#sk-container-id-12 div.sk-container {/* jupyter's `normalize.less` sets `[hidden] { display: none; }` but bootstrap.min.css set `[hidden] { display: none !important; }` so we also need the `!important` here to be able to override the default hidden behavior on the sphinx rendered scikit-learn.org. See: https://github.com/scikit-learn/scikit-learn/issues/21755 */display: inline-block !important;position: relative;}#sk-container-id-12 div.sk-text-repr-fallback {display: none;}</style><div id=\"sk-container-id-12\" class=\"sk-top-container\"><div class=\"sk-text-repr-fallback\"><pre>RandomForestClassifier(class_weight=&#x27;balanced&#x27;, max_depth=10,\n",
       "                       min_samples_split=5, n_estimators=150, random_state=123)</pre><b>In a Jupyter environment, please rerun this cell to show the HTML representation or trust the notebook. <br />On GitHub, the HTML representation is unable to render, please try loading this page with nbviewer.org.</b></div><div class=\"sk-container\" hidden><div class=\"sk-item\"><div class=\"sk-estimator sk-toggleable\"><input class=\"sk-toggleable__control sk-hidden--visually\" id=\"sk-estimator-id-12\" type=\"checkbox\" checked><label for=\"sk-estimator-id-12\" class=\"sk-toggleable__label sk-toggleable__label-arrow\">RandomForestClassifier</label><div class=\"sk-toggleable__content\"><pre>RandomForestClassifier(class_weight=&#x27;balanced&#x27;, max_depth=10,\n",
       "                       min_samples_split=5, n_estimators=150, random_state=123)</pre></div></div></div></div></div>"
      ],
      "text/plain": [
       "RandomForestClassifier(class_weight='balanced', max_depth=10,\n",
       "                       min_samples_split=5, n_estimators=150, random_state=123)"
      ]
     },
     "execution_count": 152,
     "metadata": {},
     "output_type": "execute_result"
    }
   ],
   "source": [
    "rf_v_2.fit(X_train_res, y_train_res)"
   ]
  },
  {
   "cell_type": "code",
   "execution_count": 153,
   "metadata": {},
   "outputs": [],
   "source": [
    "y_pred = rf_v_2.predict(X_test)"
   ]
  },
  {
   "cell_type": "code",
   "execution_count": 154,
   "metadata": {},
   "outputs": [
    {
     "data": {
      "image/png": "[encoded data removed]",
      "text/plain": [
       "<Figure size 400x400 with 1 Axes>"
      ]
     },
     "metadata": {},
     "output_type": "display_data"
    }
   ],
   "source": [
    "cm = confusion_matrix(y_test, y_pred)\n",
    "plt.figure(figsize=(4,4))\n",
    "ax = sns.heatmap(cm, annot=True, fmt='g', cmap=sns.cubehelix_palette(start=.7, rot=-.5, light=0.95, dark=0.2, as_cmap=True), cbar=False)\n",
    "ax.set_xlabel('Predicted'); ax.set_ylabel('True');\n",
    "ax.xaxis.set_ticklabels(['non-violent', 'violent']); ax.yaxis.set_ticklabels(['non-violent', 'violent']);"
   ]
  },
  {
   "cell_type": "code",
   "execution_count": 165,
   "metadata": {},
   "outputs": [],
   "source": [
    "y_pred_25 = (rf_v_2.predict_proba(X_test)[:,1] >= 0.25).astype(bool)"
   ]
  },
  {
   "cell_type": "code",
   "execution_count": 166,
   "metadata": {},
   "outputs": [
    {
     "data": {
      "image/png": "[encoded data removed]",
      "text/plain": [
       "<Figure size 400x400 with 1 Axes>"
      ]
     },
     "metadata": {},
     "output_type": "display_data"
    }
   ],
   "source": [
    "cm = confusion_matrix(y_test, y_pred_25)\n",
    "plt.figure(figsize=(4,4))\n",
    "ax = sns.heatmap(cm, annot=True, fmt='g', cmap=sns.cubehelix_palette(start=.7, rot=-.5, light=0.95, dark=0.2, as_cmap=True), cbar=False)\n",
    "ax.set_xlabel('Predicted'); ax.set_ylabel('True');\n",
    "ax.xaxis.set_ticklabels(['non-violent', 'violent']); ax.yaxis.set_ticklabels(['non-violent', 'violent']);"
   ]
  },
  {
   "cell_type": "code",
   "execution_count": 167,
   "metadata": {},
   "outputs": [
    {
     "data": {
      "text/plain": [
       "['models/rf_v_0607.joblib']"
      ]
     },
     "execution_count": 167,
     "metadata": {},
     "output_type": "execute_result"
    }
   ],
   "source": [
    "from joblib import dump\n",
    "dump(rf_v_2, 'models/rf_v_0607.joblib')"
   ]
  },
  {
   "cell_type": "code",
   "execution_count": 168,
   "metadata": {},
   "outputs": [],
   "source": [
    "X_test.head(0).to_csv('models/features_violent.csv', index=False)"
   ]
  }
 ],
 "metadata": {
  "kernelspec": {
   "display_name": "dash",
   "language": "python",
   "name": "python3"
  },
  "language_info": {
   "codemirror_mode": {
    "name": "ipython",
    "version": 3
   },
   "file_extension": ".py",
   "mimetype": "text/x-python",
   "name": "python",
   "nbconvert_exporter": "python",
   "pygments_lexer": "ipython3",
   "version": "3.10.8"
  },
  "orig_nbformat": 4,
  "vscode": {
   "interpreter": {
    "hash": "36416931e888e9406b519e825774851dd86cc51c84c6f44d17eb2a9e07c8509e"
   }
  }
 },
 "nbformat": 4,
 "nbformat_minor": 2
}
