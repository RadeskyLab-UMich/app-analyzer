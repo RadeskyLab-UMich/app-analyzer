{
 "cells": [
  {
   "cell_type": "code",
   "execution_count": 1,
   "metadata": {},
   "outputs": [],
   "source": [
    "import numpy as np\n",
    "import pandas as pd\n",
    "import seaborn as sns\n",
    "import matplotlib.pyplot as plt"
   ]
  },
  {
   "attachments": {},
   "cell_type": "markdown",
   "metadata": {},
   "source": [
    "## Merging Datasets"
   ]
  },
  {
   "attachments": {},
   "cell_type": "markdown",
   "metadata": {},
   "source": [
    "### Play Store"
   ]
  },
  {
   "cell_type": "code",
   "execution_count": 141,
   "metadata": {},
   "outputs": [],
   "source": [
    "play_features = pd.read_csv(\"data/play_features_0317.csv\")\n",
    "play_features_new = pd.read_csv(\"data/play_features_0422.csv\")\n",
    "play_features_full = pd.concat([play_features_new[play_features.columns], play_features]).drop_duplicates(subset=['appId'])\n",
    "play_labeled = pd.read_csv(\"data/p01_apps_play_0202.csv\")[['app_fullname', 'Educational', 'Violent', 'Manipulative_3plus', 'Manipulative_2plus']].dropna(subset=['app_fullname'])\n",
    "play_labeled_new = pd.read_csv(\"data/p01_apps_play_0421.csv\")[['app_fullname', 'Educational', 'Violent', 'Manipulative_3plus', 'Manipulative_2plus']].dropna(subset=['app_fullname'])\n",
    "play_labeled_p01 = play_labeled_new.merge(play_labeled, on=['app_fullname', 'Educational', 'Violent', 'Manipulative_3plus', 'Manipulative_2plus'], how='outer')"
   ]
  },
  {
   "cell_type": "code",
   "execution_count": 143,
   "metadata": {},
   "outputs": [
    {
     "data": {
      "text/html": [
       "<div>\n",
       "<style scoped>\n",
       "    .dataframe tbody tr th:only-of-type {\n",
       "        vertical-align: middle;\n",
       "    }\n",
       "\n",
       "    .dataframe tbody tr th {\n",
       "        vertical-align: top;\n",
       "    }\n",
       "\n",
       "    .dataframe thead th {\n",
       "        text-align: right;\n",
       "    }\n",
       "</style>\n",
       "<table border=\"1\" class=\"dataframe\">\n",
       "  <thead>\n",
       "    <tr style=\"text-align: right;\">\n",
       "      <th></th>\n",
       "      <th>reviews</th>\n",
       "      <th>offersIAP</th>\n",
       "      <th>ratings</th>\n",
       "      <th>containsAds</th>\n",
       "      <th>realInstalls</th>\n",
       "      <th>contentRating</th>\n",
       "      <th>adSupported</th>\n",
       "      <th>title</th>\n",
       "      <th>sale</th>\n",
       "      <th>score</th>\n",
       "      <th>...</th>\n",
       "      <th>ratingsStd</th>\n",
       "      <th>ratingsSkew</th>\n",
       "      <th>descriptionSentiment</th>\n",
       "      <th>reviewsSentiment</th>\n",
       "      <th>descriptionReadability</th>\n",
       "      <th>descriptionGrammar</th>\n",
       "      <th>developerNApps</th>\n",
       "      <th>developerAppAgeMedian</th>\n",
       "      <th>developerCountry</th>\n",
       "      <th>releasedYear</th>\n",
       "    </tr>\n",
       "  </thead>\n",
       "  <tbody>\n",
       "    <tr>\n",
       "      <th>0</th>\n",
       "      <td>201</td>\n",
       "      <td>False</td>\n",
       "      <td>15651</td>\n",
       "      <td>True</td>\n",
       "      <td>11887057</td>\n",
       "      <td>Teen</td>\n",
       "      <td>True</td>\n",
       "      <td>Gossip Girls Divas Highschool</td>\n",
       "      <td>False</td>\n",
       "      <td>3.790000</td>\n",
       "      <td>...</td>\n",
       "      <td>1.6568</td>\n",
       "      <td>-0.8693</td>\n",
       "      <td>0.9975</td>\n",
       "      <td>0.1402</td>\n",
       "      <td>10.5</td>\n",
       "      <td>99.64</td>\n",
       "      <td>20</td>\n",
       "      <td>6.1</td>\n",
       "      <td>RO</td>\n",
       "      <td>2018.0</td>\n",
       "    </tr>\n",
       "    <tr>\n",
       "      <th>1</th>\n",
       "      <td>38</td>\n",
       "      <td>False</td>\n",
       "      <td>969</td>\n",
       "      <td>True</td>\n",
       "      <td>1313098</td>\n",
       "      <td>Teen</td>\n",
       "      <td>True</td>\n",
       "      <td>Injured Dolphin Care</td>\n",
       "      <td>False</td>\n",
       "      <td>4.287234</td>\n",
       "      <td>...</td>\n",
       "      <td>1.3722</td>\n",
       "      <td>-1.6661</td>\n",
       "      <td>0.9972</td>\n",
       "      <td>0.3987</td>\n",
       "      <td>10.9</td>\n",
       "      <td>99.52</td>\n",
       "      <td>20</td>\n",
       "      <td>6.1</td>\n",
       "      <td>RO</td>\n",
       "      <td>2016.0</td>\n",
       "    </tr>\n",
       "    <tr>\n",
       "      <th>2</th>\n",
       "      <td>0</td>\n",
       "      <td>False</td>\n",
       "      <td>0</td>\n",
       "      <td>False</td>\n",
       "      <td>1469</td>\n",
       "      <td>Everyone</td>\n",
       "      <td>False</td>\n",
       "      <td>Tongo Music - for kids</td>\n",
       "      <td>False</td>\n",
       "      <td>0.000000</td>\n",
       "      <td>...</td>\n",
       "      <td>NaN</td>\n",
       "      <td>NaN</td>\n",
       "      <td>0.9955</td>\n",
       "      <td>0.2498</td>\n",
       "      <td>9.2</td>\n",
       "      <td>99.95</td>\n",
       "      <td>2</td>\n",
       "      <td>4.4</td>\n",
       "      <td>DE</td>\n",
       "      <td>2016.0</td>\n",
       "    </tr>\n",
       "    <tr>\n",
       "      <th>3</th>\n",
       "      <td>830</td>\n",
       "      <td>True</td>\n",
       "      <td>12836</td>\n",
       "      <td>False</td>\n",
       "      <td>4756511</td>\n",
       "      <td>Everyone</td>\n",
       "      <td>False</td>\n",
       "      <td>CHOMP by Christoph Niemann</td>\n",
       "      <td>False</td>\n",
       "      <td>4.455555</td>\n",
       "      <td>...</td>\n",
       "      <td>1.1704</td>\n",
       "      <td>-2.0864</td>\n",
       "      <td>0.9988</td>\n",
       "      <td>0.7547</td>\n",
       "      <td>7.8</td>\n",
       "      <td>99.79</td>\n",
       "      <td>10</td>\n",
       "      <td>5.1</td>\n",
       "      <td>DE</td>\n",
       "      <td>2016.0</td>\n",
       "    </tr>\n",
       "    <tr>\n",
       "      <th>4</th>\n",
       "      <td>312627</td>\n",
       "      <td>True</td>\n",
       "      <td>6720849</td>\n",
       "      <td>True</td>\n",
       "      <td>541822129</td>\n",
       "      <td>Everyone</td>\n",
       "      <td>True</td>\n",
       "      <td>slither.io</td>\n",
       "      <td>False</td>\n",
       "      <td>3.953574</td>\n",
       "      <td>...</td>\n",
       "      <td>1.5299</td>\n",
       "      <td>-1.1132</td>\n",
       "      <td>0.8807</td>\n",
       "      <td>0.5517</td>\n",
       "      <td>4.2</td>\n",
       "      <td>99.77</td>\n",
       "      <td>1</td>\n",
       "      <td>7.1</td>\n",
       "      <td>US</td>\n",
       "      <td>2016.0</td>\n",
       "    </tr>\n",
       "  </tbody>\n",
       "</table>\n",
       "<p>5 rows × 24 columns</p>\n",
       "</div>"
      ],
      "text/plain": [
       "   reviews  offersIAP  ratings  containsAds  realInstalls contentRating  \\\n",
       "0      201      False    15651         True      11887057          Teen   \n",
       "1       38      False      969         True       1313098          Teen   \n",
       "2        0      False        0        False          1469      Everyone   \n",
       "3      830       True    12836        False       4756511      Everyone   \n",
       "4   312627       True  6720849         True     541822129      Everyone   \n",
       "\n",
       "   adSupported                          title   sale     score  ...  \\\n",
       "0         True  Gossip Girls Divas Highschool  False  3.790000  ...   \n",
       "1         True           Injured Dolphin Care  False  4.287234  ...   \n",
       "2        False         Tongo Music - for kids  False  0.000000  ...   \n",
       "3        False     CHOMP by Christoph Niemann  False  4.455555  ...   \n",
       "4         True                     slither.io  False  3.953574  ...   \n",
       "\n",
       "   ratingsStd ratingsSkew  descriptionSentiment reviewsSentiment  \\\n",
       "0      1.6568     -0.8693                0.9975           0.1402   \n",
       "1      1.3722     -1.6661                0.9972           0.3987   \n",
       "2         NaN         NaN                0.9955           0.2498   \n",
       "3      1.1704     -2.0864                0.9988           0.7547   \n",
       "4      1.5299     -1.1132                0.8807           0.5517   \n",
       "\n",
       "   descriptionReadability  descriptionGrammar  developerNApps  \\\n",
       "0                    10.5               99.64              20   \n",
       "1                    10.9               99.52              20   \n",
       "2                     9.2               99.95               2   \n",
       "3                     7.8               99.79              10   \n",
       "4                     4.2               99.77               1   \n",
       "\n",
       "   developerAppAgeMedian  developerCountry  releasedYear  \n",
       "0                    6.1                RO        2018.0  \n",
       "1                    6.1                RO        2016.0  \n",
       "2                    4.4                DE        2016.0  \n",
       "3                    5.1                DE        2016.0  \n",
       "4                    7.1                US        2016.0  \n",
       "\n",
       "[5 rows x 24 columns]"
      ]
     },
     "execution_count": 143,
     "metadata": {},
     "output_type": "execute_result"
    }
   ],
   "source": [
    "play_features_full.head()"
   ]
  },
  {
   "cell_type": "code",
   "execution_count": 142,
   "metadata": {},
   "outputs": [
    {
     "data": {
      "text/html": [
       "<div>\n",
       "<style scoped>\n",
       "    .dataframe tbody tr th:only-of-type {\n",
       "        vertical-align: middle;\n",
       "    }\n",
       "\n",
       "    .dataframe tbody tr th {\n",
       "        vertical-align: top;\n",
       "    }\n",
       "\n",
       "    .dataframe thead th {\n",
       "        text-align: right;\n",
       "    }\n",
       "</style>\n",
       "<table border=\"1\" class=\"dataframe\">\n",
       "  <thead>\n",
       "    <tr style=\"text-align: right;\">\n",
       "      <th></th>\n",
       "      <th>app_fullname</th>\n",
       "      <th>Educational</th>\n",
       "      <th>Violent</th>\n",
       "      <th>Manipulative_3plus</th>\n",
       "      <th>Manipulative_2plus</th>\n",
       "    </tr>\n",
       "  </thead>\n",
       "  <tbody>\n",
       "    <tr>\n",
       "      <th>0</th>\n",
       "      <td>air.com.bmapps.gossipgirlsdivasinhighschool</td>\n",
       "      <td>0.0</td>\n",
       "      <td>0.0</td>\n",
       "      <td>NaN</td>\n",
       "      <td>NaN</td>\n",
       "    </tr>\n",
       "    <tr>\n",
       "      <th>1</th>\n",
       "      <td>air.com.bmapps.injureddolphincare</td>\n",
       "      <td>0.0</td>\n",
       "      <td>0.0</td>\n",
       "      <td>NaN</td>\n",
       "      <td>NaN</td>\n",
       "    </tr>\n",
       "    <tr>\n",
       "      <th>2</th>\n",
       "      <td>air.com.CaringForPuppySalon</td>\n",
       "      <td>NaN</td>\n",
       "      <td>NaN</td>\n",
       "      <td>NaN</td>\n",
       "      <td>NaN</td>\n",
       "    </tr>\n",
       "    <tr>\n",
       "      <th>3</th>\n",
       "      <td>air.com.cloudkid.peep.hideandpeep</td>\n",
       "      <td>1.0</td>\n",
       "      <td>0.0</td>\n",
       "      <td>NaN</td>\n",
       "      <td>NaN</td>\n",
       "    </tr>\n",
       "    <tr>\n",
       "      <th>4</th>\n",
       "      <td>air.com.cloudkid.peep.paintsplat</td>\n",
       "      <td>1.0</td>\n",
       "      <td>0.0</td>\n",
       "      <td>NaN</td>\n",
       "      <td>NaN</td>\n",
       "    </tr>\n",
       "  </tbody>\n",
       "</table>\n",
       "</div>"
      ],
      "text/plain": [
       "                                  app_fullname  Educational  Violent  \\\n",
       "0  air.com.bmapps.gossipgirlsdivasinhighschool          0.0      0.0   \n",
       "1            air.com.bmapps.injureddolphincare          0.0      0.0   \n",
       "2                  air.com.CaringForPuppySalon          NaN      NaN   \n",
       "3            air.com.cloudkid.peep.hideandpeep          1.0      0.0   \n",
       "4             air.com.cloudkid.peep.paintsplat          1.0      0.0   \n",
       "\n",
       "   Manipulative_3plus  Manipulative_2plus  \n",
       "0                 NaN                 NaN  \n",
       "1                 NaN                 NaN  \n",
       "2                 NaN                 NaN  \n",
       "3                 NaN                 NaN  \n",
       "4                 NaN                 NaN  "
      ]
     },
     "execution_count": 142,
     "metadata": {},
     "output_type": "execute_result"
    }
   ],
   "source": [
    "play_labeled_p01.head()"
   ]
  },
  {
   "cell_type": "code",
   "execution_count": 144,
   "metadata": {},
   "outputs": [
    {
     "data": {
      "text/plain": [
       "0.0    313\n",
       "1.0     93\n",
       "Name: Educational, dtype: int64"
      ]
     },
     "execution_count": 144,
     "metadata": {},
     "output_type": "execute_result"
    }
   ],
   "source": [
    "play_labeled_p01['Educational'].value_counts()"
   ]
  },
  {
   "cell_type": "code",
   "execution_count": 145,
   "metadata": {},
   "outputs": [],
   "source": [
    "play_full = play_labeled_p01.merge(play_features_full, left_on=\"app_fullname\", right_on=\"appId\", how=\"inner\")"
   ]
  },
  {
   "cell_type": "code",
   "execution_count": 147,
   "metadata": {},
   "outputs": [
    {
     "data": {
      "text/plain": [
       "(437, 29)"
      ]
     },
     "execution_count": 147,
     "metadata": {},
     "output_type": "execute_result"
    }
   ],
   "source": [
    "play_full.shape"
   ]
  },
  {
   "cell_type": "code",
   "execution_count": 148,
   "metadata": {},
   "outputs": [],
   "source": [
    "play_full['releasedYears'] = 2023 - play_full['releasedYear']"
   ]
  },
  {
   "cell_type": "code",
   "execution_count": 185,
   "metadata": {},
   "outputs": [
    {
     "data": {
      "text/html": [
       "<div>\n",
       "<style scoped>\n",
       "    .dataframe tbody tr th:only-of-type {\n",
       "        vertical-align: middle;\n",
       "    }\n",
       "\n",
       "    .dataframe tbody tr th {\n",
       "        vertical-align: top;\n",
       "    }\n",
       "\n",
       "    .dataframe thead th {\n",
       "        text-align: right;\n",
       "    }\n",
       "</style>\n",
       "<table border=\"1\" class=\"dataframe\">\n",
       "  <thead>\n",
       "    <tr style=\"text-align: right;\">\n",
       "      <th></th>\n",
       "      <th>app_fullname</th>\n",
       "      <th>Educational</th>\n",
       "      <th>Violent</th>\n",
       "      <th>Manipulative_3plus</th>\n",
       "      <th>Manipulative_2plus</th>\n",
       "      <th>reviews</th>\n",
       "      <th>offersIAP</th>\n",
       "      <th>ratings</th>\n",
       "      <th>containsAds</th>\n",
       "      <th>realInstalls</th>\n",
       "      <th>...</th>\n",
       "      <th>ratingsSkew</th>\n",
       "      <th>descriptionSentiment</th>\n",
       "      <th>reviewsSentiment</th>\n",
       "      <th>descriptionReadability</th>\n",
       "      <th>descriptionGrammar</th>\n",
       "      <th>developerNApps</th>\n",
       "      <th>developerAppAgeMedian</th>\n",
       "      <th>developerCountry</th>\n",
       "      <th>releasedYear</th>\n",
       "      <th>releasedYears</th>\n",
       "    </tr>\n",
       "  </thead>\n",
       "  <tbody>\n",
       "    <tr>\n",
       "      <th>0</th>\n",
       "      <td>air.com.bmapps.gossipgirlsdivasinhighschool</td>\n",
       "      <td>0.0</td>\n",
       "      <td>0.0</td>\n",
       "      <td>NaN</td>\n",
       "      <td>NaN</td>\n",
       "      <td>201</td>\n",
       "      <td>False</td>\n",
       "      <td>15651</td>\n",
       "      <td>True</td>\n",
       "      <td>11887057</td>\n",
       "      <td>...</td>\n",
       "      <td>-0.8693</td>\n",
       "      <td>0.9975</td>\n",
       "      <td>0.1402</td>\n",
       "      <td>10.5</td>\n",
       "      <td>99.64</td>\n",
       "      <td>20</td>\n",
       "      <td>6.1</td>\n",
       "      <td>RO</td>\n",
       "      <td>2018.0</td>\n",
       "      <td>5.0</td>\n",
       "    </tr>\n",
       "    <tr>\n",
       "      <th>1</th>\n",
       "      <td>air.com.bmapps.injureddolphincare</td>\n",
       "      <td>0.0</td>\n",
       "      <td>0.0</td>\n",
       "      <td>NaN</td>\n",
       "      <td>NaN</td>\n",
       "      <td>38</td>\n",
       "      <td>False</td>\n",
       "      <td>969</td>\n",
       "      <td>True</td>\n",
       "      <td>1313098</td>\n",
       "      <td>...</td>\n",
       "      <td>-1.6661</td>\n",
       "      <td>0.9972</td>\n",
       "      <td>0.3987</td>\n",
       "      <td>10.9</td>\n",
       "      <td>99.52</td>\n",
       "      <td>20</td>\n",
       "      <td>6.1</td>\n",
       "      <td>RO</td>\n",
       "      <td>2016.0</td>\n",
       "      <td>7.0</td>\n",
       "    </tr>\n",
       "    <tr>\n",
       "      <th>2</th>\n",
       "      <td>air.com.firstconcert.DMA</td>\n",
       "      <td>1.0</td>\n",
       "      <td>NaN</td>\n",
       "      <td>NaN</td>\n",
       "      <td>NaN</td>\n",
       "      <td>0</td>\n",
       "      <td>False</td>\n",
       "      <td>0</td>\n",
       "      <td>False</td>\n",
       "      <td>1469</td>\n",
       "      <td>...</td>\n",
       "      <td>NaN</td>\n",
       "      <td>0.9955</td>\n",
       "      <td>0.2498</td>\n",
       "      <td>9.2</td>\n",
       "      <td>99.95</td>\n",
       "      <td>2</td>\n",
       "      <td>4.4</td>\n",
       "      <td>DE</td>\n",
       "      <td>2016.0</td>\n",
       "      <td>7.0</td>\n",
       "    </tr>\n",
       "    <tr>\n",
       "      <th>3</th>\n",
       "      <td>air.com.foxandsheep.chomp</td>\n",
       "      <td>0.0</td>\n",
       "      <td>0.0</td>\n",
       "      <td>NaN</td>\n",
       "      <td>NaN</td>\n",
       "      <td>830</td>\n",
       "      <td>True</td>\n",
       "      <td>12836</td>\n",
       "      <td>False</td>\n",
       "      <td>4756511</td>\n",
       "      <td>...</td>\n",
       "      <td>-2.0864</td>\n",
       "      <td>0.9988</td>\n",
       "      <td>0.7547</td>\n",
       "      <td>7.8</td>\n",
       "      <td>99.79</td>\n",
       "      <td>10</td>\n",
       "      <td>5.1</td>\n",
       "      <td>DE</td>\n",
       "      <td>2016.0</td>\n",
       "      <td>7.0</td>\n",
       "    </tr>\n",
       "    <tr>\n",
       "      <th>4</th>\n",
       "      <td>air.com.hypah.io.slither</td>\n",
       "      <td>0.0</td>\n",
       "      <td>1.0</td>\n",
       "      <td>0.0</td>\n",
       "      <td>1.0</td>\n",
       "      <td>312627</td>\n",
       "      <td>True</td>\n",
       "      <td>6720849</td>\n",
       "      <td>True</td>\n",
       "      <td>541822129</td>\n",
       "      <td>...</td>\n",
       "      <td>-1.1132</td>\n",
       "      <td>0.8807</td>\n",
       "      <td>0.5517</td>\n",
       "      <td>4.2</td>\n",
       "      <td>99.77</td>\n",
       "      <td>1</td>\n",
       "      <td>7.1</td>\n",
       "      <td>US</td>\n",
       "      <td>2016.0</td>\n",
       "      <td>7.0</td>\n",
       "    </tr>\n",
       "  </tbody>\n",
       "</table>\n",
       "<p>5 rows × 30 columns</p>\n",
       "</div>"
      ],
      "text/plain": [
       "                                  app_fullname  Educational  Violent  \\\n",
       "0  air.com.bmapps.gossipgirlsdivasinhighschool          0.0      0.0   \n",
       "1            air.com.bmapps.injureddolphincare          0.0      0.0   \n",
       "2                     air.com.firstconcert.DMA          1.0      NaN   \n",
       "3                    air.com.foxandsheep.chomp          0.0      0.0   \n",
       "4                     air.com.hypah.io.slither          0.0      1.0   \n",
       "\n",
       "   Manipulative_3plus  Manipulative_2plus  reviews  offersIAP  ratings  \\\n",
       "0                 NaN                 NaN      201      False    15651   \n",
       "1                 NaN                 NaN       38      False      969   \n",
       "2                 NaN                 NaN        0      False        0   \n",
       "3                 NaN                 NaN      830       True    12836   \n",
       "4                 0.0                 1.0   312627       True  6720849   \n",
       "\n",
       "   containsAds  realInstalls  ... ratingsSkew  descriptionSentiment  \\\n",
       "0         True      11887057  ...     -0.8693                0.9975   \n",
       "1         True       1313098  ...     -1.6661                0.9972   \n",
       "2        False          1469  ...         NaN                0.9955   \n",
       "3        False       4756511  ...     -2.0864                0.9988   \n",
       "4         True     541822129  ...     -1.1132                0.8807   \n",
       "\n",
       "  reviewsSentiment  descriptionReadability  descriptionGrammar  \\\n",
       "0           0.1402                    10.5               99.64   \n",
       "1           0.3987                    10.9               99.52   \n",
       "2           0.2498                     9.2               99.95   \n",
       "3           0.7547                     7.8               99.79   \n",
       "4           0.5517                     4.2               99.77   \n",
       "\n",
       "   developerNApps developerAppAgeMedian  developerCountry releasedYear  \\\n",
       "0              20                   6.1                RO       2018.0   \n",
       "1              20                   6.1                RO       2016.0   \n",
       "2               2                   4.4                DE       2016.0   \n",
       "3              10                   5.1                DE       2016.0   \n",
       "4               1                   7.1                US       2016.0   \n",
       "\n",
       "   releasedYears  \n",
       "0            5.0  \n",
       "1            7.0  \n",
       "2            7.0  \n",
       "3            7.0  \n",
       "4            7.0  \n",
       "\n",
       "[5 rows x 30 columns]"
      ]
     },
     "execution_count": 185,
     "metadata": {},
     "output_type": "execute_result"
    }
   ],
   "source": [
    "play_full.head()"
   ]
  },
  {
   "cell_type": "code",
   "execution_count": 184,
   "metadata": {},
   "outputs": [],
   "source": [
    "play_full.to_csv(\"data/p01_apps_play_merged_0422.csv\", index=False)"
   ]
  },
  {
   "cell_type": "code",
   "execution_count": 149,
   "metadata": {},
   "outputs": [
    {
     "data": {
      "text/plain": [
       "<seaborn.axisgrid.FacetGrid at 0x7fe8c104f250>"
      ]
     },
     "execution_count": 149,
     "metadata": {},
     "output_type": "execute_result"
    },
    {
     "data": {
      "image/png": "[encoded data removed]",
      "text/plain": [
       "<Figure size 709.875x500 with 1 Axes>"
      ]
     },
     "metadata": {},
     "output_type": "display_data"
    }
   ],
   "source": [
    "sns.displot(\n",
    "    data=play_full.isna().melt(value_name=\"missing\"),\n",
    "    y=\"variable\",\n",
    "    hue=\"missing\",\n",
    "    multiple=\"fill\",\n",
    "    aspect=1.25\n",
    ")"
   ]
  },
  {
   "attachments": {},
   "cell_type": "markdown",
   "metadata": {},
   "source": [
    "## Educational"
   ]
  },
  {
   "attachments": {},
   "cell_type": "markdown",
   "metadata": {},
   "source": [
    "### Preprocessing"
   ]
  },
  {
   "cell_type": "code",
   "execution_count": 150,
   "metadata": {},
   "outputs": [],
   "source": [
    "from sklearn.model_selection import GridSearchCV, StratifiedKFold, cross_validate, train_test_split\n",
    "from sklearn.utils.class_weight import compute_sample_weight\n",
    "from sklearn.preprocessing import StandardScaler\n",
    "from sklearn.linear_model import LogisticRegression\n",
    "from sklearn.tree import DecisionTreeClassifier\n",
    "from sklearn.ensemble import RandomForestClassifier\n",
    "from sklearn.svm import SVC\n",
    "from xgboost import XGBClassifier\n",
    "from imblearn.over_sampling import SMOTE"
   ]
  },
  {
   "cell_type": "code",
   "execution_count": 152,
   "metadata": {},
   "outputs": [],
   "source": [
    "play_educational = play_full.dropna(subset=['ratingsStd', 'ratingsSkew', 'releasedYear', 'releasedYears', 'Educational']).drop(columns=['app_fullname', 'title', 'Violent', 'Manipulative_3plus', 'Manipulative_2plus', 'releasedYear'])"
   ]
  },
  {
   "cell_type": "code",
   "execution_count": 153,
   "metadata": {},
   "outputs": [
    {
     "data": {
      "text/plain": [
       "(329, 24)"
      ]
     },
     "execution_count": 153,
     "metadata": {},
     "output_type": "execute_result"
    }
   ],
   "source": [
    "play_educational.shape"
   ]
  },
  {
   "cell_type": "code",
   "execution_count": 154,
   "metadata": {},
   "outputs": [],
   "source": [
    "X = play_educational.drop(columns=['Educational', 'appId', 'developerCountry'])\n",
    "y = play_educational['Educational']"
   ]
  },
  {
   "cell_type": "code",
   "execution_count": 155,
   "metadata": {},
   "outputs": [
    {
     "data": {
      "text/plain": [
       "0.0    269\n",
       "1.0     60\n",
       "Name: Educational, dtype: int64"
      ]
     },
     "execution_count": 155,
     "metadata": {},
     "output_type": "execute_result"
    }
   ],
   "source": [
    "y.value_counts()"
   ]
  },
  {
   "cell_type": "code",
   "execution_count": 156,
   "metadata": {},
   "outputs": [],
   "source": [
    "X_train, X_test, y_train, y_test = train_test_split(X, y, test_size=0.2, random_state=42)"
   ]
  },
  {
   "cell_type": "code",
   "execution_count": 157,
   "metadata": {},
   "outputs": [],
   "source": [
    "num_columns = ['realInstalls', 'price', 'ratings', 'reviews', 'score', 'ratingsStd', 'ratingsSkew', 'descriptionSentiment', 'reviewsSentiment', 'descriptionReadability', 'descriptionGrammar', 'developerNApps', 'developerAppAgeMedian', 'releasedYears']\n",
    "cat_columns = ['genreId', 'contentRating'] # , 'developerCountry'\n",
    "bool_columns = ['offersIAP', 'sale', 'containsAds', 'free', 'adSupported']"
   ]
  },
  {
   "cell_type": "code",
   "execution_count": 158,
   "metadata": {},
   "outputs": [],
   "source": [
    "scaler = StandardScaler()\n",
    "X_train[num_columns] = scaler.fit_transform(X_train[num_columns])\n",
    "X_test[num_columns] = scaler.fit_transform(X_test[num_columns])"
   ]
  },
  {
   "cell_type": "code",
   "execution_count": 159,
   "metadata": {},
   "outputs": [],
   "source": [
    "X_train = pd.get_dummies(X_train, drop_first=True)\n",
    "X_test = pd.get_dummies(X_test, drop_first=True)"
   ]
  },
  {
   "cell_type": "code",
   "execution_count": 160,
   "metadata": {},
   "outputs": [],
   "source": [
    "X_train, X_test = X_train.align(X_test, axis=1, fill_value=0)"
   ]
  },
  {
   "cell_type": "code",
   "execution_count": 161,
   "metadata": {},
   "outputs": [],
   "source": [
    "sm = SMOTE(random_state=42)"
   ]
  },
  {
   "cell_type": "code",
   "execution_count": 162,
   "metadata": {},
   "outputs": [],
   "source": [
    "X_train_res, y_train_res = sm.fit_resample(X_train, y_train)"
   ]
  },
  {
   "attachments": {},
   "cell_type": "markdown",
   "metadata": {},
   "source": [
    "### Modeling"
   ]
  },
  {
   "cell_type": "code",
   "execution_count": 163,
   "metadata": {},
   "outputs": [
    {
     "name": "stderr",
     "output_type": "stream",
     "text": [
      "/Users/dershan/opt/anaconda3/envs/dash/lib/python3.10/site-packages/statsmodels/genmod/families/links.py:187: RuntimeWarning: overflow encountered in exp\n",
      "  t = np.exp(-z)\n"
     ]
    }
   ],
   "source": [
    "import statsmodels.api as sm\n",
    "\n",
    "lr_exp = sm.GLM(y_train.values, X_train.astype(float), family=sm.families.Binomial()).fit()"
   ]
  },
  {
   "cell_type": "code",
   "execution_count": 164,
   "metadata": {},
   "outputs": [
    {
     "name": "stderr",
     "output_type": "stream",
     "text": [
      "/Users/dershan/opt/anaconda3/envs/dash/lib/python3.10/site-packages/statsmodels/genmod/families/family.py:1014: RuntimeWarning: divide by zero encountered in log\n",
      "  special.gammaln(n - y + 1) + y * np.log(mu / (1 - mu + 1e-20)) +\n",
      "/Users/dershan/opt/anaconda3/envs/dash/lib/python3.10/site-packages/statsmodels/genmod/families/family.py:1014: RuntimeWarning: invalid value encountered in multiply\n",
      "  special.gammaln(n - y + 1) + y * np.log(mu / (1 - mu + 1e-20)) +\n"
     ]
    },
    {
     "data": {
      "text/html": [
       "<table class=\"simpletable\">\n",
       "<caption>Generalized Linear Model Regression Results</caption>\n",
       "<tr>\n",
       "  <th>Dep. Variable:</th>           <td>y</td>        <th>  No. Observations:  </th>  <td>   263</td> \n",
       "</tr>\n",
       "<tr>\n",
       "  <th>Model:</th>                  <td>GLM</td>       <th>  Df Residuals:      </th>  <td>   225</td> \n",
       "</tr>\n",
       "<tr>\n",
       "  <th>Model Family:</th>        <td>Binomial</td>     <th>  Df Model:          </th>  <td>    37</td> \n",
       "</tr>\n",
       "<tr>\n",
       "  <th>Link Function:</th>         <td>Logit</td>      <th>  Scale:             </th> <td>  1.0000</td>\n",
       "</tr>\n",
       "<tr>\n",
       "  <th>Method:</th>                <td>IRLS</td>       <th>  Log-Likelihood:    </th> <td>     nan</td>\n",
       "</tr>\n",
       "<tr>\n",
       "  <th>Date:</th>            <td>Sat, 22 Apr 2023</td> <th>  Deviance:          </th> <td>  5342.0</td>\n",
       "</tr>\n",
       "<tr>\n",
       "  <th>Time:</th>                <td>14:46:30</td>     <th>  Pearson chi2:      </th> <td>2.61e+17</td>\n",
       "</tr>\n",
       "<tr>\n",
       "  <th>No. Iterations:</th>         <td>22</td>        <th>  Pseudo R-squ. (CS):</th>  <td>   nan</td> \n",
       "</tr>\n",
       "<tr>\n",
       "  <th>Covariance Type:</th>     <td>nonrobust</td>    <th>                     </th>     <td> </td>   \n",
       "</tr>\n",
       "</table>\n",
       "<table class=\"simpletable\">\n",
       "<tr>\n",
       "               <td></td>                 <th>coef</th>     <th>std err</th>      <th>z</th>      <th>P>|z|</th>  <th>[0.025</th>    <th>0.975]</th>  \n",
       "</tr>\n",
       "<tr>\n",
       "  <th>adSupported</th>                <td> -2.67e+14</td> <td> 6.08e+06</td> <td>-4.39e+07</td> <td> 0.000</td> <td>-2.67e+14</td> <td>-2.67e+14</td>\n",
       "</tr>\n",
       "<tr>\n",
       "  <th>containsAds</th>                <td> -2.67e+14</td> <td> 6.08e+06</td> <td>-4.39e+07</td> <td> 0.000</td> <td>-2.67e+14</td> <td>-2.67e+14</td>\n",
       "</tr>\n",
       "<tr>\n",
       "  <th>contentRating_Everyone 10+</th> <td> 8.369e+14</td> <td> 2.35e+07</td> <td> 3.57e+07</td> <td> 0.000</td> <td> 8.37e+14</td> <td> 8.37e+14</td>\n",
       "</tr>\n",
       "<tr>\n",
       "  <th>contentRating_Mature 17+</th>   <td>-2.769e+15</td> <td> 7.97e+07</td> <td>-3.48e+07</td> <td> 0.000</td> <td>-2.77e+15</td> <td>-2.77e+15</td>\n",
       "</tr>\n",
       "<tr>\n",
       "  <th>contentRating_Teen</th>         <td>-1.239e+15</td> <td> 1.97e+07</td> <td>-6.29e+07</td> <td> 0.000</td> <td>-1.24e+15</td> <td>-1.24e+15</td>\n",
       "</tr>\n",
       "<tr>\n",
       "  <th>descriptionGrammar</th>         <td>-1.763e+14</td> <td> 4.69e+06</td> <td>-3.76e+07</td> <td> 0.000</td> <td>-1.76e+14</td> <td>-1.76e+14</td>\n",
       "</tr>\n",
       "<tr>\n",
       "  <th>descriptionReadability</th>     <td> 1.434e+14</td> <td> 4.99e+06</td> <td> 2.87e+07</td> <td> 0.000</td> <td> 1.43e+14</td> <td> 1.43e+14</td>\n",
       "</tr>\n",
       "<tr>\n",
       "  <th>descriptionSentiment</th>       <td> 1.277e+14</td> <td>  4.8e+06</td> <td> 2.66e+07</td> <td> 0.000</td> <td> 1.28e+14</td> <td> 1.28e+14</td>\n",
       "</tr>\n",
       "<tr>\n",
       "  <th>developerAppAgeMedian</th>      <td> 1.157e+14</td> <td> 5.85e+06</td> <td> 1.98e+07</td> <td> 0.000</td> <td> 1.16e+14</td> <td> 1.16e+14</td>\n",
       "</tr>\n",
       "<tr>\n",
       "  <th>developerNApps</th>             <td>-2.023e+14</td> <td>    5e+06</td> <td>-4.05e+07</td> <td> 0.000</td> <td>-2.02e+14</td> <td>-2.02e+14</td>\n",
       "</tr>\n",
       "<tr>\n",
       "  <th>free</th>                       <td> -2.46e+15</td> <td> 4.24e+07</td> <td>-5.81e+07</td> <td> 0.000</td> <td>-2.46e+15</td> <td>-2.46e+15</td>\n",
       "</tr>\n",
       "<tr>\n",
       "  <th>genreId_EDUCATION</th>          <td>  2.44e+15</td> <td> 3.69e+07</td> <td> 6.62e+07</td> <td> 0.000</td> <td> 2.44e+15</td> <td> 2.44e+15</td>\n",
       "</tr>\n",
       "<tr>\n",
       "  <th>genreId_ENTERTAINMENT</th>      <td> 8.772e+14</td> <td> 4.36e+07</td> <td> 2.01e+07</td> <td> 0.000</td> <td> 8.77e+14</td> <td> 8.77e+14</td>\n",
       "</tr>\n",
       "<tr>\n",
       "  <th>genreId_GAME_ACTION</th>        <td> 1.135e+15</td> <td> 4.48e+07</td> <td> 2.53e+07</td> <td> 0.000</td> <td> 1.13e+15</td> <td> 1.13e+15</td>\n",
       "</tr>\n",
       "<tr>\n",
       "  <th>genreId_GAME_ADVENTURE</th>     <td> 1.693e+15</td> <td> 4.27e+07</td> <td> 3.97e+07</td> <td> 0.000</td> <td> 1.69e+15</td> <td> 1.69e+15</td>\n",
       "</tr>\n",
       "<tr>\n",
       "  <th>genreId_GAME_ARCADE</th>        <td> 3.914e+14</td> <td> 3.96e+07</td> <td> 9.88e+06</td> <td> 0.000</td> <td> 3.91e+14</td> <td> 3.91e+14</td>\n",
       "</tr>\n",
       "<tr>\n",
       "  <th>genreId_GAME_BOARD</th>         <td>-1.832e+15</td> <td> 7.98e+07</td> <td> -2.3e+07</td> <td> 0.000</td> <td>-1.83e+15</td> <td>-1.83e+15</td>\n",
       "</tr>\n",
       "<tr>\n",
       "  <th>genreId_GAME_CARD</th>          <td>-1.648e+15</td> <td> 7.71e+07</td> <td>-2.14e+07</td> <td> 0.000</td> <td>-1.65e+15</td> <td>-1.65e+15</td>\n",
       "</tr>\n",
       "<tr>\n",
       "  <th>genreId_GAME_CASUAL</th>        <td> 1.294e+15</td> <td> 4.02e+07</td> <td> 3.22e+07</td> <td> 0.000</td> <td> 1.29e+15</td> <td> 1.29e+15</td>\n",
       "</tr>\n",
       "<tr>\n",
       "  <th>genreId_GAME_EDUCATIONAL</th>   <td> 1.185e+15</td> <td> 3.88e+07</td> <td> 3.05e+07</td> <td> 0.000</td> <td> 1.18e+15</td> <td> 1.18e+15</td>\n",
       "</tr>\n",
       "<tr>\n",
       "  <th>genreId_GAME_MUSIC</th>         <td> 1.437e+15</td> <td> 5.53e+07</td> <td>  2.6e+07</td> <td> 0.000</td> <td> 1.44e+15</td> <td> 1.44e+15</td>\n",
       "</tr>\n",
       "<tr>\n",
       "  <th>genreId_GAME_PUZZLE</th>        <td> 2.283e+15</td> <td> 4.04e+07</td> <td> 5.66e+07</td> <td> 0.000</td> <td> 2.28e+15</td> <td> 2.28e+15</td>\n",
       "</tr>\n",
       "<tr>\n",
       "  <th>genreId_GAME_RACING</th>        <td> 2.122e+15</td> <td> 4.27e+07</td> <td> 4.97e+07</td> <td> 0.000</td> <td> 2.12e+15</td> <td> 2.12e+15</td>\n",
       "</tr>\n",
       "<tr>\n",
       "  <th>genreId_GAME_ROLE_PLAYING</th>  <td>-1.173e+15</td> <td> 5.07e+07</td> <td>-2.31e+07</td> <td> 0.000</td> <td>-1.17e+15</td> <td>-1.17e+15</td>\n",
       "</tr>\n",
       "<tr>\n",
       "  <th>genreId_GAME_SIMULATION</th>    <td> 1.479e+15</td> <td> 4.35e+07</td> <td>  3.4e+07</td> <td> 0.000</td> <td> 1.48e+15</td> <td> 1.48e+15</td>\n",
       "</tr>\n",
       "<tr>\n",
       "  <th>genreId_GAME_SPORTS</th>        <td> 6.012e+14</td> <td> 4.43e+07</td> <td> 1.36e+07</td> <td> 0.000</td> <td> 6.01e+14</td> <td> 6.01e+14</td>\n",
       "</tr>\n",
       "<tr>\n",
       "  <th>genreId_GAME_STRATEGY</th>      <td>  9.29e+14</td> <td> 5.64e+07</td> <td> 1.65e+07</td> <td> 0.000</td> <td> 9.29e+14</td> <td> 9.29e+14</td>\n",
       "</tr>\n",
       "<tr>\n",
       "  <th>genreId_MUSIC_AND_AUDIO</th>    <td> 4.518e+15</td> <td> 5.47e+07</td> <td> 8.26e+07</td> <td> 0.000</td> <td> 4.52e+15</td> <td> 4.52e+15</td>\n",
       "</tr>\n",
       "<tr>\n",
       "  <th>genreId_PARENTING</th>          <td>-2.589e+15</td> <td> 7.76e+07</td> <td>-3.33e+07</td> <td> 0.000</td> <td>-2.59e+15</td> <td>-2.59e+15</td>\n",
       "</tr>\n",
       "<tr>\n",
       "  <th>offersIAP</th>                  <td>-2.252e+14</td> <td> 1.26e+07</td> <td>-1.78e+07</td> <td> 0.000</td> <td>-2.25e+14</td> <td>-2.25e+14</td>\n",
       "</tr>\n",
       "<tr>\n",
       "  <th>price</th>                      <td>-9.424e+14</td> <td> 1.35e+07</td> <td>-6.98e+07</td> <td> 0.000</td> <td>-9.42e+14</td> <td>-9.42e+14</td>\n",
       "</tr>\n",
       "<tr>\n",
       "  <th>ratings</th>                    <td> 1.022e+15</td> <td> 2.93e+07</td> <td> 3.49e+07</td> <td> 0.000</td> <td> 1.02e+15</td> <td> 1.02e+15</td>\n",
       "</tr>\n",
       "<tr>\n",
       "  <th>ratingsSkew</th>                <td> 5.253e+14</td> <td> 1.62e+07</td> <td> 3.25e+07</td> <td> 0.000</td> <td> 5.25e+14</td> <td> 5.25e+14</td>\n",
       "</tr>\n",
       "<tr>\n",
       "  <th>ratingsStd</th>                 <td>-1.194e+14</td> <td> 1.33e+07</td> <td>-8.95e+06</td> <td> 0.000</td> <td>-1.19e+14</td> <td>-1.19e+14</td>\n",
       "</tr>\n",
       "<tr>\n",
       "  <th>realInstalls</th>               <td>-6.405e+14</td> <td>  1.8e+07</td> <td>-3.56e+07</td> <td> 0.000</td> <td>-6.41e+14</td> <td>-6.41e+14</td>\n",
       "</tr>\n",
       "<tr>\n",
       "  <th>releasedYears</th>              <td>-1.966e+14</td> <td> 5.91e+06</td> <td>-3.33e+07</td> <td> 0.000</td> <td>-1.97e+14</td> <td>-1.97e+14</td>\n",
       "</tr>\n",
       "<tr>\n",
       "  <th>reviews</th>                    <td>-6.016e+14</td> <td> 1.94e+07</td> <td>-3.11e+07</td> <td> 0.000</td> <td>-6.02e+14</td> <td>-6.02e+14</td>\n",
       "</tr>\n",
       "<tr>\n",
       "  <th>reviewsSentiment</th>           <td> 1.025e+14</td> <td>  5.3e+06</td> <td> 1.93e+07</td> <td> 0.000</td> <td> 1.02e+14</td> <td> 1.02e+14</td>\n",
       "</tr>\n",
       "<tr>\n",
       "  <th>sale</th>                       <td>         0</td> <td>        0</td> <td>      nan</td> <td>   nan</td> <td>        0</td> <td>        0</td>\n",
       "</tr>\n",
       "<tr>\n",
       "  <th>score</th>                      <td> 4.646e+14</td> <td> 1.51e+07</td> <td> 3.08e+07</td> <td> 0.000</td> <td> 4.65e+14</td> <td> 4.65e+14</td>\n",
       "</tr>\n",
       "</table>"
      ],
      "text/plain": [
       "<class 'statsmodels.iolib.summary.Summary'>\n",
       "\"\"\"\n",
       "                 Generalized Linear Model Regression Results                  \n",
       "==============================================================================\n",
       "Dep. Variable:                      y   No. Observations:                  263\n",
       "Model:                            GLM   Df Residuals:                      225\n",
       "Model Family:                Binomial   Df Model:                           37\n",
       "Link Function:                  Logit   Scale:                          1.0000\n",
       "Method:                          IRLS   Log-Likelihood:                    nan\n",
       "Date:                Sat, 22 Apr 2023   Deviance:                       5342.0\n",
       "Time:                        14:46:30   Pearson chi2:                 2.61e+17\n",
       "No. Iterations:                    22   Pseudo R-squ. (CS):                nan\n",
       "Covariance Type:            nonrobust                                         \n",
       "==============================================================================================\n",
       "                                 coef    std err          z      P>|z|      [0.025      0.975]\n",
       "----------------------------------------------------------------------------------------------\n",
       "adSupported                 -2.67e+14   6.08e+06  -4.39e+07      0.000   -2.67e+14   -2.67e+14\n",
       "containsAds                 -2.67e+14   6.08e+06  -4.39e+07      0.000   -2.67e+14   -2.67e+14\n",
       "contentRating_Everyone 10+  8.369e+14   2.35e+07   3.57e+07      0.000    8.37e+14    8.37e+14\n",
       "contentRating_Mature 17+   -2.769e+15   7.97e+07  -3.48e+07      0.000   -2.77e+15   -2.77e+15\n",
       "contentRating_Teen         -1.239e+15   1.97e+07  -6.29e+07      0.000   -1.24e+15   -1.24e+15\n",
       "descriptionGrammar         -1.763e+14   4.69e+06  -3.76e+07      0.000   -1.76e+14   -1.76e+14\n",
       "descriptionReadability      1.434e+14   4.99e+06   2.87e+07      0.000    1.43e+14    1.43e+14\n",
       "descriptionSentiment        1.277e+14    4.8e+06   2.66e+07      0.000    1.28e+14    1.28e+14\n",
       "developerAppAgeMedian       1.157e+14   5.85e+06   1.98e+07      0.000    1.16e+14    1.16e+14\n",
       "developerNApps             -2.023e+14      5e+06  -4.05e+07      0.000   -2.02e+14   -2.02e+14\n",
       "free                        -2.46e+15   4.24e+07  -5.81e+07      0.000   -2.46e+15   -2.46e+15\n",
       "genreId_EDUCATION            2.44e+15   3.69e+07   6.62e+07      0.000    2.44e+15    2.44e+15\n",
       "genreId_ENTERTAINMENT       8.772e+14   4.36e+07   2.01e+07      0.000    8.77e+14    8.77e+14\n",
       "genreId_GAME_ACTION         1.135e+15   4.48e+07   2.53e+07      0.000    1.13e+15    1.13e+15\n",
       "genreId_GAME_ADVENTURE      1.693e+15   4.27e+07   3.97e+07      0.000    1.69e+15    1.69e+15\n",
       "genreId_GAME_ARCADE         3.914e+14   3.96e+07   9.88e+06      0.000    3.91e+14    3.91e+14\n",
       "genreId_GAME_BOARD         -1.832e+15   7.98e+07   -2.3e+07      0.000   -1.83e+15   -1.83e+15\n",
       "genreId_GAME_CARD          -1.648e+15   7.71e+07  -2.14e+07      0.000   -1.65e+15   -1.65e+15\n",
       "genreId_GAME_CASUAL         1.294e+15   4.02e+07   3.22e+07      0.000    1.29e+15    1.29e+15\n",
       "genreId_GAME_EDUCATIONAL    1.185e+15   3.88e+07   3.05e+07      0.000    1.18e+15    1.18e+15\n",
       "genreId_GAME_MUSIC          1.437e+15   5.53e+07    2.6e+07      0.000    1.44e+15    1.44e+15\n",
       "genreId_GAME_PUZZLE         2.283e+15   4.04e+07   5.66e+07      0.000    2.28e+15    2.28e+15\n",
       "genreId_GAME_RACING         2.122e+15   4.27e+07   4.97e+07      0.000    2.12e+15    2.12e+15\n",
       "genreId_GAME_ROLE_PLAYING  -1.173e+15   5.07e+07  -2.31e+07      0.000   -1.17e+15   -1.17e+15\n",
       "genreId_GAME_SIMULATION     1.479e+15   4.35e+07    3.4e+07      0.000    1.48e+15    1.48e+15\n",
       "genreId_GAME_SPORTS         6.012e+14   4.43e+07   1.36e+07      0.000    6.01e+14    6.01e+14\n",
       "genreId_GAME_STRATEGY        9.29e+14   5.64e+07   1.65e+07      0.000    9.29e+14    9.29e+14\n",
       "genreId_MUSIC_AND_AUDIO     4.518e+15   5.47e+07   8.26e+07      0.000    4.52e+15    4.52e+15\n",
       "genreId_PARENTING          -2.589e+15   7.76e+07  -3.33e+07      0.000   -2.59e+15   -2.59e+15\n",
       "offersIAP                  -2.252e+14   1.26e+07  -1.78e+07      0.000   -2.25e+14   -2.25e+14\n",
       "price                      -9.424e+14   1.35e+07  -6.98e+07      0.000   -9.42e+14   -9.42e+14\n",
       "ratings                     1.022e+15   2.93e+07   3.49e+07      0.000    1.02e+15    1.02e+15\n",
       "ratingsSkew                 5.253e+14   1.62e+07   3.25e+07      0.000    5.25e+14    5.25e+14\n",
       "ratingsStd                 -1.194e+14   1.33e+07  -8.95e+06      0.000   -1.19e+14   -1.19e+14\n",
       "realInstalls               -6.405e+14    1.8e+07  -3.56e+07      0.000   -6.41e+14   -6.41e+14\n",
       "releasedYears              -1.966e+14   5.91e+06  -3.33e+07      0.000   -1.97e+14   -1.97e+14\n",
       "reviews                    -6.016e+14   1.94e+07  -3.11e+07      0.000   -6.02e+14   -6.02e+14\n",
       "reviewsSentiment            1.025e+14    5.3e+06   1.93e+07      0.000    1.02e+14    1.02e+14\n",
       "sale                                0          0        nan        nan           0           0\n",
       "score                       4.646e+14   1.51e+07   3.08e+07      0.000    4.65e+14    4.65e+14\n",
       "==============================================================================================\n",
       "\"\"\""
      ]
     },
     "execution_count": 164,
     "metadata": {},
     "output_type": "execute_result"
    }
   ],
   "source": [
    "lr_exp.summary()"
   ]
  },
  {
   "cell_type": "code",
   "execution_count": 165,
   "metadata": {},
   "outputs": [],
   "source": [
    "lr_e = LogisticRegression(class_weight=\"balanced\")\n",
    "dt_e = DecisionTreeClassifier(class_weight=\"balanced\")\n",
    "rf_e = RandomForestClassifier(class_weight=\"balanced\", random_state=123)\n",
    "xgb_e = XGBClassifier(scale_pos_weight=y.value_counts()[0]/y.value_counts()[1])\n",
    "svm_e = SVC(class_weight=\"balanced\")"
   ]
  },
  {
   "cell_type": "code",
   "execution_count": 166,
   "metadata": {},
   "outputs": [],
   "source": [
    "skf = StratifiedKFold(n_splits=4, shuffle=True, random_state=42)"
   ]
  },
  {
   "cell_type": "code",
   "execution_count": 167,
   "metadata": {},
   "outputs": [],
   "source": [
    "import warnings\n",
    "import sklearn.exceptions\n",
    "warnings.filterwarnings(\"ignore\", category=sklearn.exceptions.UndefinedMetricWarning)"
   ]
  },
  {
   "cell_type": "code",
   "execution_count": 168,
   "metadata": {},
   "outputs": [],
   "source": [
    "lr_e_score = cross_validate(lr_e, X_train_res, y_train_res, cv=skf, scoring=[\"accuracy\", \"recall\", \"precision\", \"f1\"], return_train_score=True, return_estimator=True)\n",
    "dt_e_score = cross_validate(dt_e, X_train_res, y_train_res, cv=skf, scoring=[\"accuracy\", \"recall\", \"precision\", \"f1\"], return_train_score=True, return_estimator=True)\n",
    "rf_e_score = cross_validate(rf_e, X_train_res, y_train_res, cv=skf, scoring=[\"accuracy\", \"recall\", \"precision\", \"f1\"], return_train_score=True, return_estimator=True)\n",
    "xgb_e_score = cross_validate(xgb_e, X_train_res, y_train_res, cv=skf, scoring=[\"accuracy\", \"recall\", \"precision\", \"f1\"], return_train_score=True, return_estimator=True)\n",
    "svm_e_score = cross_validate(svm_e, X_train_res, y_train_res, cv=skf, scoring=[\"accuracy\", \"recall\", \"precision\", \"f1\"], return_train_score=True, return_estimator=True)"
   ]
  },
  {
   "cell_type": "code",
   "execution_count": 169,
   "metadata": {},
   "outputs": [
    {
     "name": "stdout",
     "output_type": "stream",
     "text": [
      "Model Scores (train_behavior)\n"
     ]
    },
    {
     "data": {
      "text/html": [
       "<div>\n",
       "<style scoped>\n",
       "    .dataframe tbody tr th:only-of-type {\n",
       "        vertical-align: middle;\n",
       "    }\n",
       "\n",
       "    .dataframe tbody tr th {\n",
       "        vertical-align: top;\n",
       "    }\n",
       "\n",
       "    .dataframe thead th {\n",
       "        text-align: right;\n",
       "    }\n",
       "</style>\n",
       "<table border=\"1\" class=\"dataframe\">\n",
       "  <thead>\n",
       "    <tr style=\"text-align: right;\">\n",
       "      <th></th>\n",
       "      <th>Model</th>\n",
       "      <th>Accuracy</th>\n",
       "      <th>Recall</th>\n",
       "      <th>Precision</th>\n",
       "      <th>F1</th>\n",
       "    </tr>\n",
       "  </thead>\n",
       "  <tbody>\n",
       "    <tr>\n",
       "      <th>2</th>\n",
       "      <td>RF</td>\n",
       "      <td>0.900943</td>\n",
       "      <td>0.924528</td>\n",
       "      <td>0.887020</td>\n",
       "      <td>0.904183</td>\n",
       "    </tr>\n",
       "    <tr>\n",
       "      <th>3</th>\n",
       "      <td>XGB</td>\n",
       "      <td>0.867925</td>\n",
       "      <td>0.957547</td>\n",
       "      <td>0.814388</td>\n",
       "      <td>0.879624</td>\n",
       "    </tr>\n",
       "    <tr>\n",
       "      <th>4</th>\n",
       "      <td>SVM</td>\n",
       "      <td>0.808962</td>\n",
       "      <td>0.825472</td>\n",
       "      <td>0.799554</td>\n",
       "      <td>0.811851</td>\n",
       "    </tr>\n",
       "    <tr>\n",
       "      <th>0</th>\n",
       "      <td>LR</td>\n",
       "      <td>0.764151</td>\n",
       "      <td>0.797170</td>\n",
       "      <td>0.750497</td>\n",
       "      <td>0.772069</td>\n",
       "    </tr>\n",
       "    <tr>\n",
       "      <th>1</th>\n",
       "      <td>DT</td>\n",
       "      <td>0.761792</td>\n",
       "      <td>0.787736</td>\n",
       "      <td>0.752251</td>\n",
       "      <td>0.767997</td>\n",
       "    </tr>\n",
       "  </tbody>\n",
       "</table>\n",
       "</div>"
      ],
      "text/plain": [
       "  Model  Accuracy    Recall  Precision        F1\n",
       "2    RF  0.900943  0.924528   0.887020  0.904183\n",
       "3   XGB  0.867925  0.957547   0.814388  0.879624\n",
       "4   SVM  0.808962  0.825472   0.799554  0.811851\n",
       "0    LR  0.764151  0.797170   0.750497  0.772069\n",
       "1    DT  0.761792  0.787736   0.752251  0.767997"
      ]
     },
     "execution_count": 169,
     "metadata": {},
     "output_type": "execute_result"
    }
   ],
   "source": [
    "print('Model Scores (train_behavior)')\n",
    "pd.DataFrame({'Model': ['LR', 'DT', 'RF', 'XGB', 'SVM'], 'Accuracy': [lr_e_score['test_accuracy'].mean(), dt_e_score['test_accuracy'].mean(), rf_e_score['test_accuracy'].mean(), xgb_e_score['test_accuracy'].mean(), svm_e_score['test_accuracy'].mean()], 'Recall': [lr_e_score['test_recall'].mean(), dt_e_score['test_recall'].mean(), rf_e_score['test_recall'].mean(), xgb_e_score['test_recall'].mean(), svm_e_score['test_recall'].mean()], 'Precision': [lr_e_score['test_precision'].mean(), dt_e_score['test_precision'].mean(), rf_e_score['test_precision'].mean(), xgb_e_score['test_precision'].mean(), svm_e_score['test_precision'].mean()], 'F1': [lr_e_score['test_f1'].mean(), dt_e_score['test_f1'].mean(), rf_e_score['test_f1'].mean(), xgb_e_score['test_f1'].mean(), svm_e_score['test_f1'].mean(), ]}).sort_values('F1', ascending=False)"
   ]
  },
  {
   "cell_type": "code",
   "execution_count": 170,
   "metadata": {},
   "outputs": [
    {
     "data": {
      "text/plain": [
       "{'bootstrap': True,\n",
       " 'ccp_alpha': 0.0,\n",
       " 'class_weight': 'balanced',\n",
       " 'criterion': 'gini',\n",
       " 'max_depth': None,\n",
       " 'max_features': 'sqrt',\n",
       " 'max_leaf_nodes': None,\n",
       " 'max_samples': None,\n",
       " 'min_impurity_decrease': 0.0,\n",
       " 'min_samples_leaf': 1,\n",
       " 'min_samples_split': 2,\n",
       " 'min_weight_fraction_leaf': 0.0,\n",
       " 'n_estimators': 100,\n",
       " 'n_jobs': None,\n",
       " 'oob_score': False,\n",
       " 'random_state': 123,\n",
       " 'verbose': 0,\n",
       " 'warm_start': False}"
      ]
     },
     "execution_count": 170,
     "metadata": {},
     "output_type": "execute_result"
    }
   ],
   "source": [
    "rf_e.get_params()"
   ]
  },
  {
   "cell_type": "code",
   "execution_count": 34,
   "metadata": {},
   "outputs": [
    {
     "name": "stdout",
     "output_type": "stream",
     "text": [
      "Features sorted by their score for estimator 0:\n",
      "                            importance\n",
      "genreId_EDUCATION             1.125177\n",
      "descriptionSentiment          1.029707\n",
      "ratingsSkew                   0.981949\n",
      "score                         0.718487\n",
      "genreId_MUSIC_AND_AUDIO       0.500214\n",
      "offersIAP                     0.360307\n",
      "reviewsSentiment              0.359299\n",
      "developerAppAgeMedian         0.351709\n",
      "realInstalls                  0.300096\n",
      "developerNApps                0.231770\n",
      "descriptionReadability        0.210340\n",
      "ratings                       0.145577\n",
      "containsAds                   0.072541\n",
      "adSupported                   0.072541\n",
      "contentRating_Mature 17+      0.000000\n",
      "sale                          0.000000\n",
      "free                         -0.033989\n",
      "price                        -0.060739\n",
      "releasedYears                -0.137461\n",
      "genreId_GAME_MUSIC           -0.160220\n",
      "genreId_GAME_CARD            -0.241682\n",
      "descriptionGrammar           -0.421970\n",
      "ratingsStd                   -0.449995\n",
      "genreId_GAME_EDUCATIONAL     -0.511347\n",
      "contentRating_Everyone 10+   -0.569625\n",
      "genreId_GAME_STRATEGY        -0.668366\n",
      "genreId_GAME_ROLE_PLAYING    -0.677480\n",
      "reviews                      -0.777086\n",
      "genreId_GAME_SPORTS          -0.852563\n",
      "contentRating_Teen           -0.956833\n",
      "genreId_GAME_PUZZLE          -1.027074\n",
      "genreId_ENTERTAINMENT        -1.144637\n",
      "genreId_GAME_ACTION          -1.154667\n",
      "genreId_GAME_ADVENTURE       -1.183655\n",
      "genreId_GAME_RACING          -1.436442\n",
      "genreId_GAME_SIMULATION      -1.562442\n",
      "genreId_GAME_CASUAL          -1.686934\n",
      "genreId_GAME_ARCADE          -1.916299\n",
      "Features sorted by their score for estimator 1:\n",
      "                            importance\n",
      "genreId_EDUCATION             1.117155\n",
      "descriptionSentiment          0.894307\n",
      "developerAppAgeMedian         0.785896\n",
      "score                         0.755168\n",
      "reviewsSentiment              0.649145\n",
      "offersIAP                     0.621912\n",
      "ratingsSkew                   0.605274\n",
      "developerNApps                0.548725\n",
      "descriptionReadability        0.509547\n",
      "ratingsStd                    0.469524\n",
      "genreId_MUSIC_AND_AUDIO       0.400625\n",
      "free                          0.137379\n",
      "price                         0.129815\n",
      "containsAds                   0.125264\n",
      "adSupported                   0.125264\n",
      "ratings                       0.103834\n",
      "realInstalls                  0.050668\n",
      "genreId_GAME_MUSIC            0.000000\n",
      "sale                          0.000000\n",
      "genreId_GAME_CARD            -0.071878\n",
      "contentRating_Everyone 10+   -0.101771\n",
      "contentRating_Mature 17+     -0.220041\n",
      "genreId_GAME_ROLE_PLAYING    -0.295468\n",
      "releasedYears                -0.319468\n",
      "reviews                      -0.342828\n",
      "descriptionGrammar           -0.408544\n",
      "genreId_GAME_EDUCATIONAL     -0.443388\n",
      "genreId_GAME_ACTION          -0.478665\n",
      "genreId_GAME_SPORTS          -0.622323\n",
      "genreId_GAME_RACING          -0.763449\n",
      "genreId_GAME_STRATEGY        -0.954078\n",
      "genreId_GAME_ADVENTURE       -1.048947\n",
      "genreId_GAME_PUZZLE          -1.107519\n",
      "genreId_ENTERTAINMENT        -1.143785\n",
      "contentRating_Teen           -1.347860\n",
      "genreId_GAME_SIMULATION      -1.684839\n",
      "genreId_GAME_ARCADE          -1.759582\n",
      "genreId_GAME_CASUAL          -1.912724\n",
      "Features sorted by their score for estimator 2:\n",
      "                            importance\n",
      "descriptionSentiment          0.994201\n",
      "genreId_EDUCATION             0.856797\n",
      "ratingsSkew                   0.785957\n",
      "developerAppAgeMedian         0.596932\n",
      "offersIAP                     0.536880\n",
      "score                         0.508182\n",
      "developerNApps                0.401185\n",
      "ratings                       0.397009\n",
      "descriptionReadability        0.392606\n",
      "genreId_MUSIC_AND_AUDIO       0.388331\n",
      "containsAds                   0.322534\n",
      "adSupported                   0.322534\n",
      "reviewsSentiment              0.291859\n",
      "realInstalls                  0.254086\n",
      "contentRating_Everyone 10+    0.081440\n",
      "sale                          0.000000\n",
      "genreId_GAME_CARD             0.000000\n",
      "price                        -0.054231\n",
      "genreId_GAME_EDUCATIONAL     -0.065551\n",
      "genreId_GAME_MUSIC           -0.125550\n",
      "releasedYears                -0.210713\n",
      "contentRating_Mature 17+     -0.238559\n",
      "free                         -0.287470\n",
      "ratingsStd                   -0.378670\n",
      "descriptionGrammar           -0.497678\n",
      "genreId_GAME_STRATEGY        -0.556010\n",
      "genreId_GAME_ROLE_PLAYING    -0.750085\n",
      "reviews                      -0.777424\n",
      "genreId_GAME_SPORTS          -0.778776\n",
      "genreId_GAME_ADVENTURE       -0.954372\n",
      "contentRating_Teen           -1.098764\n",
      "genreId_GAME_ACTION          -1.151039\n",
      "genreId_ENTERTAINMENT        -1.164341\n",
      "genreId_GAME_RACING          -1.259754\n",
      "genreId_GAME_PUZZLE          -1.315729\n",
      "genreId_GAME_SIMULATION      -1.379803\n",
      "genreId_GAME_CASUAL          -1.566550\n",
      "genreId_GAME_ARCADE          -1.963834\n",
      "Features sorted by their score for estimator 3:\n",
      "                            importance\n",
      "genreId_EDUCATION             1.171274\n",
      "developerAppAgeMedian         0.799806\n",
      "descriptionSentiment          0.747121\n",
      "ratingsSkew                   0.746297\n",
      "ratings                       0.615036\n",
      "adSupported                   0.435797\n",
      "containsAds                   0.435797\n",
      "developerNApps                0.376252\n",
      "score                         0.367785\n",
      "reviewsSentiment              0.365712\n",
      "realInstalls                  0.266240\n",
      "descriptionReadability        0.171567\n",
      "offersIAP                     0.059511\n",
      "contentRating_Everyone 10+    0.038985\n",
      "genreId_MUSIC_AND_AUDIO       0.026847\n",
      "sale                          0.000000\n",
      "price                        -0.015924\n",
      "genreId_GAME_MUSIC           -0.076177\n",
      "genreId_GAME_CARD            -0.178839\n",
      "contentRating_Mature 17+     -0.205973\n",
      "genreId_GAME_EDUCATIONAL     -0.329884\n",
      "ratingsStd                   -0.382493\n",
      "releasedYears                -0.404159\n",
      "descriptionGrammar           -0.461616\n",
      "free                         -0.472890\n",
      "genreId_GAME_STRATEGY        -0.770960\n",
      "genreId_GAME_PUZZLE          -0.772627\n",
      "genreId_GAME_SPORTS          -0.822463\n",
      "genreId_GAME_ROLE_PLAYING    -0.823272\n",
      "genreId_GAME_RACING          -0.835838\n",
      "genreId_GAME_ADVENTURE       -1.019731\n",
      "contentRating_Teen           -1.038959\n",
      "genreId_ENTERTAINMENT        -1.084760\n",
      "genreId_GAME_ACTION          -1.092359\n",
      "reviews                      -1.110891\n",
      "genreId_GAME_SIMULATION      -1.692527\n",
      "genreId_GAME_CASUAL          -2.077696\n",
      "genreId_GAME_ARCADE          -2.258570\n"
     ]
    }
   ],
   "source": [
    "# testing feature importance for logistic regression\n",
    "for idx,estimator in enumerate(lr_e_score['estimator']):\n",
    "    print(\"Features sorted by their score for estimator {}:\".format(idx))\n",
    "    feature_importances = pd.DataFrame(estimator.coef_[0],\n",
    "                                       index = X_train.columns,\n",
    "                                       columns=['importance']).sort_values('importance', ascending=False)\n",
    "    print(feature_importances)"
   ]
  },
  {
   "cell_type": "code",
   "execution_count": 171,
   "metadata": {},
   "outputs": [],
   "source": [
    "param_rf = { \n",
    "    'n_estimators': [50, 100, 150, 200],\n",
    "    'max_features': ['sqrt', 'log2'],\n",
    "    'max_depth': [6, 8, 10, 20],\n",
    "    'min_samples_leaf': [1, 2, 3],\n",
    "    'min_samples_split': [2, 3, 5, 10]\n",
    "}"
   ]
  },
  {
   "cell_type": "code",
   "execution_count": 172,
   "metadata": {},
   "outputs": [
    {
     "name": "stdout",
     "output_type": "stream",
     "text": [
      "Fitting 4 folds for each of 384 candidates, totalling 1536 fits\n"
     ]
    }
   ],
   "source": [
    "grid_rf = GridSearchCV(estimator=rf_e, \n",
    "                        param_grid=param_rf,\n",
    "                        cv=skf,\n",
    "                        scoring='f1', \n",
    "                        verbose=1).fit(X_train_res, y_train_res)"
   ]
  },
  {
   "cell_type": "code",
   "execution_count": 173,
   "metadata": {},
   "outputs": [
    {
     "name": "stdout",
     "output_type": "stream",
     "text": [
      "rf: {'max_depth': 20, 'max_features': 'log2', 'min_samples_leaf': 1, 'min_samples_split': 3, 'n_estimators': 200}\n"
     ]
    }
   ],
   "source": [
    "print(f'rf: {grid_rf.best_params_}')"
   ]
  },
  {
   "cell_type": "code",
   "execution_count": 175,
   "metadata": {},
   "outputs": [],
   "source": [
    "rf_e_2 = RandomForestClassifier(**grid_rf.best_params_, class_weight=\"balanced\", random_state=123)"
   ]
  },
  {
   "cell_type": "code",
   "execution_count": 176,
   "metadata": {},
   "outputs": [],
   "source": [
    "rf_e_score_2 = cross_validate(rf_e_2, X_train_res, y_train_res, cv=skf, scoring=[\"accuracy\", \"recall\", \"precision\", \"f1\"], return_train_score=True)"
   ]
  },
  {
   "cell_type": "code",
   "execution_count": 177,
   "metadata": {},
   "outputs": [
    {
     "name": "stdout",
     "output_type": "stream",
     "text": [
      "Accuracy: 0.9056603773584906\n",
      "Recall: 0.929245283018868\n",
      "Precision: 0.8922041834953749\n",
      "F1: 0.9090935498830236\n"
     ]
    }
   ],
   "source": [
    "print(f\"Accuracy: {rf_e_score_2['test_accuracy'].mean()}\")\n",
    "print(f\"Recall: {rf_e_score_2['test_recall'].mean()}\")\n",
    "print(f\"Precision: {rf_e_score_2['test_precision'].mean()}\")\n",
    "print(f\"F1: {rf_e_score_2['test_f1'].mean()}\")"
   ]
  },
  {
   "cell_type": "code",
   "execution_count": 178,
   "metadata": {},
   "outputs": [
    {
     "data": {
      "text/plain": [
       "['models/rf_e_0422.joblib']"
      ]
     },
     "execution_count": 178,
     "metadata": {},
     "output_type": "execute_result"
    }
   ],
   "source": [
    "from joblib import dump\n",
    "dump(rf_e_2, 'models/rf_e_0422.joblib')"
   ]
  },
  {
   "attachments": {},
   "cell_type": "markdown",
   "metadata": {},
   "source": [
    "### Testing"
   ]
  },
  {
   "cell_type": "code",
   "execution_count": 179,
   "metadata": {},
   "outputs": [],
   "source": [
    "from sklearn.metrics import confusion_matrix, accuracy_score, f1_score"
   ]
  },
  {
   "cell_type": "code",
   "execution_count": 180,
   "metadata": {},
   "outputs": [
    {
     "data": {
      "text/html": [
       "<style>#sk-container-id-1 {color: black;background-color: white;}#sk-container-id-1 pre{padding: 0;}#sk-container-id-1 div.sk-toggleable {background-color: white;}#sk-container-id-1 label.sk-toggleable__label {cursor: pointer;display: block;width: 100%;margin-bottom: 0;padding: 0.3em;box-sizing: border-box;text-align: center;}#sk-container-id-1 label.sk-toggleable__label-arrow:before {content: \"▸\";float: left;margin-right: 0.25em;color: #696969;}#sk-container-id-1 label.sk-toggleable__label-arrow:hover:before {color: black;}#sk-container-id-1 div.sk-estimator:hover label.sk-toggleable__label-arrow:before {color: black;}#sk-container-id-1 div.sk-toggleable__content {max-height: 0;max-width: 0;overflow: hidden;text-align: left;background-color: #f0f8ff;}#sk-container-id-1 div.sk-toggleable__content pre {margin: 0.2em;color: black;border-radius: 0.25em;background-color: #f0f8ff;}#sk-container-id-1 input.sk-toggleable__control:checked~div.sk-toggleable__content {max-height: 200px;max-width: 100%;overflow: auto;}#sk-container-id-1 input.sk-toggleable__control:checked~label.sk-toggleable__label-arrow:before {content: \"▾\";}#sk-container-id-1 div.sk-estimator input.sk-toggleable__control:checked~label.sk-toggleable__label {background-color: #d4ebff;}#sk-container-id-1 div.sk-label input.sk-toggleable__control:checked~label.sk-toggleable__label {background-color: #d4ebff;}#sk-container-id-1 input.sk-hidden--visually {border: 0;clip: rect(1px 1px 1px 1px);clip: rect(1px, 1px, 1px, 1px);height: 1px;margin: -1px;overflow: hidden;padding: 0;position: absolute;width: 1px;}#sk-container-id-1 div.sk-estimator {font-family: monospace;background-color: #f0f8ff;border: 1px dotted black;border-radius: 0.25em;box-sizing: border-box;margin-bottom: 0.5em;}#sk-container-id-1 div.sk-estimator:hover {background-color: #d4ebff;}#sk-container-id-1 div.sk-parallel-item::after {content: \"\";width: 100%;border-bottom: 1px solid gray;flex-grow: 1;}#sk-container-id-1 div.sk-label:hover label.sk-toggleable__label {background-color: #d4ebff;}#sk-container-id-1 div.sk-serial::before {content: \"\";position: absolute;border-left: 1px solid gray;box-sizing: border-box;top: 0;bottom: 0;left: 50%;z-index: 0;}#sk-container-id-1 div.sk-serial {display: flex;flex-direction: column;align-items: center;background-color: white;padding-right: 0.2em;padding-left: 0.2em;position: relative;}#sk-container-id-1 div.sk-item {position: relative;z-index: 1;}#sk-container-id-1 div.sk-parallel {display: flex;align-items: stretch;justify-content: center;background-color: white;position: relative;}#sk-container-id-1 div.sk-item::before, #sk-container-id-1 div.sk-parallel-item::before {content: \"\";position: absolute;border-left: 1px solid gray;box-sizing: border-box;top: 0;bottom: 0;left: 50%;z-index: -1;}#sk-container-id-1 div.sk-parallel-item {display: flex;flex-direction: column;z-index: 1;position: relative;background-color: white;}#sk-container-id-1 div.sk-parallel-item:first-child::after {align-self: flex-end;width: 50%;}#sk-container-id-1 div.sk-parallel-item:last-child::after {align-self: flex-start;width: 50%;}#sk-container-id-1 div.sk-parallel-item:only-child::after {width: 0;}#sk-container-id-1 div.sk-dashed-wrapped {border: 1px dashed gray;margin: 0 0.4em 0.5em 0.4em;box-sizing: border-box;padding-bottom: 0.4em;background-color: white;}#sk-container-id-1 div.sk-label label {font-family: monospace;font-weight: bold;display: inline-block;line-height: 1.2em;}#sk-container-id-1 div.sk-label-container {text-align: center;}#sk-container-id-1 div.sk-container {/* jupyter's `normalize.less` sets `[hidden] { display: none; }` but bootstrap.min.css set `[hidden] { display: none !important; }` so we also need the `!important` here to be able to override the default hidden behavior on the sphinx rendered scikit-learn.org. See: https://github.com/scikit-learn/scikit-learn/issues/21755 */display: inline-block !important;position: relative;}#sk-container-id-1 div.sk-text-repr-fallback {display: none;}</style><div id=\"sk-container-id-1\" class=\"sk-top-container\"><div class=\"sk-text-repr-fallback\"><pre>RandomForestClassifier(class_weight=&#x27;balanced&#x27;, max_depth=20,\n",
       "                       max_features=&#x27;log2&#x27;, min_samples_split=3,\n",
       "                       n_estimators=200, random_state=123)</pre><b>In a Jupyter environment, please rerun this cell to show the HTML representation or trust the notebook. <br />On GitHub, the HTML representation is unable to render, please try loading this page with nbviewer.org.</b></div><div class=\"sk-container\" hidden><div class=\"sk-item\"><div class=\"sk-estimator sk-toggleable\"><input class=\"sk-toggleable__control sk-hidden--visually\" id=\"sk-estimator-id-1\" type=\"checkbox\" checked><label for=\"sk-estimator-id-1\" class=\"sk-toggleable__label sk-toggleable__label-arrow\">RandomForestClassifier</label><div class=\"sk-toggleable__content\"><pre>RandomForestClassifier(class_weight=&#x27;balanced&#x27;, max_depth=20,\n",
       "                       max_features=&#x27;log2&#x27;, min_samples_split=3,\n",
       "                       n_estimators=200, random_state=123)</pre></div></div></div></div></div>"
      ],
      "text/plain": [
       "RandomForestClassifier(class_weight='balanced', max_depth=20,\n",
       "                       max_features='log2', min_samples_split=3,\n",
       "                       n_estimators=200, random_state=123)"
      ]
     },
     "execution_count": 180,
     "metadata": {},
     "output_type": "execute_result"
    }
   ],
   "source": [
    "rf_e_2.fit(X_train_res, y_train_res)"
   ]
  },
  {
   "cell_type": "code",
   "execution_count": 181,
   "metadata": {},
   "outputs": [],
   "source": [
    "y_pred = rf_e_2.predict(X_test)"
   ]
  },
  {
   "cell_type": "code",
   "execution_count": 182,
   "metadata": {},
   "outputs": [
    {
     "data": {
      "image/png": "[encoded data removed]",
      "text/plain": [
       "<Figure size 400x400 with 1 Axes>"
      ]
     },
     "metadata": {},
     "output_type": "display_data"
    }
   ],
   "source": [
    "cm = confusion_matrix(y_test, y_pred)\n",
    "plt.figure(figsize=(4,4))\n",
    "ax = sns.heatmap(cm, annot=True, fmt='g', cmap=sns.cubehelix_palette(start=.7, rot=-.5, light=0.95, dark=0.2, as_cmap=True), cbar=False)\n",
    "ax.set_xlabel('Predicted'); ax.set_ylabel('True');\n",
    "ax.xaxis.set_ticklabels(['non-educational', 'educational']); ax.yaxis.set_ticklabels(['non-educational', 'educational']);"
   ]
  },
  {
   "cell_type": "code",
   "execution_count": 183,
   "metadata": {},
   "outputs": [
    {
     "name": "stdout",
     "output_type": "stream",
     "text": [
      "Accuracy: 0.7424242424242424\n",
      "F1: 0.1904761904761905\n"
     ]
    }
   ],
   "source": [
    "print(\"Accuracy: \" + str(accuracy_score(y_test, y_pred)))\n",
    "print(\"F1: \" + str(f1_score(y_test, y_pred)))"
   ]
  },
  {
   "attachments": {},
   "cell_type": "markdown",
   "metadata": {},
   "source": [
    "## Violent"
   ]
  },
  {
   "attachments": {},
   "cell_type": "markdown",
   "metadata": {},
   "source": [
    "### Preprocessing"
   ]
  },
  {
   "cell_type": "code",
   "execution_count": 21,
   "metadata": {},
   "outputs": [],
   "source": [
    "play_violent = play_full.dropna(subset=['ratingsStd', 'ratingsSkew', 'releasedYear', 'releasedYears', 'Violent']).drop(columns=['app_fullname', 'app_title', 'title', 'Educational', 'Manipulative_3plus', 'Manipulative_2plus', 'releasedYear'])"
   ]
  },
  {
   "cell_type": "code",
   "execution_count": 22,
   "metadata": {},
   "outputs": [
    {
     "data": {
      "text/plain": [
       "(202, 24)"
      ]
     },
     "execution_count": 22,
     "metadata": {},
     "output_type": "execute_result"
    }
   ],
   "source": [
    "play_violent.shape"
   ]
  },
  {
   "cell_type": "code",
   "execution_count": 23,
   "metadata": {},
   "outputs": [],
   "source": [
    "X = play_violent.drop(columns=['Violent', 'appId', 'developerCountry'])\n",
    "y = play_violent['Violent']"
   ]
  },
  {
   "cell_type": "code",
   "execution_count": 24,
   "metadata": {},
   "outputs": [
    {
     "data": {
      "text/plain": [
       "0.0    125\n",
       "1.0     77\n",
       "Name: Violent, dtype: int64"
      ]
     },
     "execution_count": 24,
     "metadata": {},
     "output_type": "execute_result"
    }
   ],
   "source": [
    "y.value_counts()"
   ]
  },
  {
   "cell_type": "code",
   "execution_count": 25,
   "metadata": {},
   "outputs": [],
   "source": [
    "X_train, X_test, y_train, y_test = train_test_split(X, y, test_size=0.2, random_state=42)"
   ]
  },
  {
   "cell_type": "code",
   "execution_count": 26,
   "metadata": {},
   "outputs": [],
   "source": [
    "scaler = StandardScaler()\n",
    "X_train[num_columns] = scaler.fit_transform(X_train[num_columns])"
   ]
  },
  {
   "cell_type": "code",
   "execution_count": 27,
   "metadata": {},
   "outputs": [],
   "source": [
    "X_train = pd.get_dummies(X_train, drop_first=True)"
   ]
  },
  {
   "cell_type": "code",
   "execution_count": 28,
   "metadata": {},
   "outputs": [],
   "source": [
    "sm = SMOTE(random_state=42)\n",
    "X_train_res, y_train_res = sm.fit_resample(X_train, y_train)"
   ]
  },
  {
   "attachments": {},
   "cell_type": "markdown",
   "metadata": {},
   "source": [
    "### Modeling"
   ]
  },
  {
   "cell_type": "code",
   "execution_count": 30,
   "metadata": {},
   "outputs": [],
   "source": [
    "lr_v = LogisticRegression(class_weight=\"balanced\")\n",
    "dt_v = DecisionTreeClassifier(class_weight=\"balanced\")\n",
    "rf_v = RandomForestClassifier(class_weight=\"balanced\", random_state=123)\n",
    "xgb_v = XGBClassifier(scale_pos_weight=y.value_counts()[0]/y.value_counts()[1])\n",
    "svm_v = SVC(class_weight=\"balanced\")"
   ]
  },
  {
   "cell_type": "code",
   "execution_count": 34,
   "metadata": {},
   "outputs": [],
   "source": [
    "lr_v_score = cross_validate(lr_v, X_train_res, y_train_res, cv=skf, scoring=[\"accuracy\", \"recall\", \"precision\", \"f1\"], return_train_score=True, return_estimator=True)\n",
    "dt_v_score = cross_validate(dt_v, X_train_res, y_train_res, cv=skf, scoring=[\"accuracy\", \"recall\", \"precision\", \"f1\"], return_train_score=True, return_estimator=True)\n",
    "rf_v_score = cross_validate(rf_v, X_train_res, y_train_res, cv=skf, scoring=[\"accuracy\", \"recall\", \"precision\", \"f1\"], return_train_score=True, return_estimator=True)\n",
    "xgb_v_score = cross_validate(xgb_v, X_train_res, y_train_res, cv=skf, scoring=[\"accuracy\", \"recall\", \"precision\", \"f1\"], return_train_score=True, return_estimator=True)\n",
    "svm_v_score = cross_validate(svm_v, X_train_res, y_train_res, cv=skf, scoring=[\"accuracy\", \"recall\", \"precision\", \"f1\"], return_train_score=True, return_estimator=True)"
   ]
  },
  {
   "cell_type": "code",
   "execution_count": 35,
   "metadata": {},
   "outputs": [
    {
     "name": "stdout",
     "output_type": "stream",
     "text": [
      "Model Scores (train_behavior)\n"
     ]
    },
    {
     "data": {
      "text/html": [
       "<div>\n",
       "<style scoped>\n",
       "    .dataframe tbody tr th:only-of-type {\n",
       "        vertical-align: middle;\n",
       "    }\n",
       "\n",
       "    .dataframe tbody tr th {\n",
       "        vertical-align: top;\n",
       "    }\n",
       "\n",
       "    .dataframe thead th {\n",
       "        text-align: right;\n",
       "    }\n",
       "</style>\n",
       "<table border=\"1\" class=\"dataframe\">\n",
       "  <thead>\n",
       "    <tr style=\"text-align: right;\">\n",
       "      <th></th>\n",
       "      <th>Model</th>\n",
       "      <th>Accuracy</th>\n",
       "      <th>Recall</th>\n",
       "      <th>Precision</th>\n",
       "      <th>F1</th>\n",
       "    </tr>\n",
       "  </thead>\n",
       "  <tbody>\n",
       "    <tr>\n",
       "      <th>2</th>\n",
       "      <td>RF</td>\n",
       "      <td>0.821429</td>\n",
       "      <td>0.887917</td>\n",
       "      <td>0.783776</td>\n",
       "      <td>0.832168</td>\n",
       "    </tr>\n",
       "    <tr>\n",
       "      <th>0</th>\n",
       "      <td>LR</td>\n",
       "      <td>0.806122</td>\n",
       "      <td>0.805833</td>\n",
       "      <td>0.807199</td>\n",
       "      <td>0.805833</td>\n",
       "    </tr>\n",
       "    <tr>\n",
       "      <th>3</th>\n",
       "      <td>XGB</td>\n",
       "      <td>0.780612</td>\n",
       "      <td>0.827500</td>\n",
       "      <td>0.755549</td>\n",
       "      <td>0.789267</td>\n",
       "    </tr>\n",
       "    <tr>\n",
       "      <th>4</th>\n",
       "      <td>SVM</td>\n",
       "      <td>0.775510</td>\n",
       "      <td>0.765833</td>\n",
       "      <td>0.789551</td>\n",
       "      <td>0.772195</td>\n",
       "    </tr>\n",
       "    <tr>\n",
       "      <th>1</th>\n",
       "      <td>DT</td>\n",
       "      <td>0.714286</td>\n",
       "      <td>0.735417</td>\n",
       "      <td>0.711431</td>\n",
       "      <td>0.721395</td>\n",
       "    </tr>\n",
       "  </tbody>\n",
       "</table>\n",
       "</div>"
      ],
      "text/plain": [
       "  Model  Accuracy    Recall  Precision        F1\n",
       "2    RF  0.821429  0.887917   0.783776  0.832168\n",
       "0    LR  0.806122  0.805833   0.807199  0.805833\n",
       "3   XGB  0.780612  0.827500   0.755549  0.789267\n",
       "4   SVM  0.775510  0.765833   0.789551  0.772195\n",
       "1    DT  0.714286  0.735417   0.711431  0.721395"
      ]
     },
     "execution_count": 35,
     "metadata": {},
     "output_type": "execute_result"
    }
   ],
   "source": [
    "print('Model Scores (train_behavior)')\n",
    "pd.DataFrame({'Model': ['LR', 'DT', 'RF', 'XGB', 'SVM'], 'Accuracy': [lr_v_score['test_accuracy'].mean(), dt_v_score['test_accuracy'].mean(), rf_v_score['test_accuracy'].mean(), xgb_v_score['test_accuracy'].mean(), svm_v_score['test_accuracy'].mean()], 'Recall': [lr_v_score['test_recall'].mean(), dt_v_score['test_recall'].mean(), rf_v_score['test_recall'].mean(), xgb_v_score['test_recall'].mean(), svm_v_score['test_recall'].mean()], 'Precision': [lr_v_score['test_precision'].mean(), dt_v_score['test_precision'].mean(), rf_v_score['test_precision'].mean(), xgb_v_score['test_precision'].mean(), svm_v_score['test_precision'].mean()], 'F1': [lr_v_score['test_f1'].mean(), dt_v_score['test_f1'].mean(), rf_v_score['test_f1'].mean(), xgb_v_score['test_f1'].mean(), svm_v_score['test_f1'].mean(), ]}).sort_values('F1', ascending=False)"
   ]
  },
  {
   "cell_type": "code",
   "execution_count": 41,
   "metadata": {},
   "outputs": [],
   "source": [
    "param_rf_v = { \n",
    "    'n_estimators': [50, 100, 150, 200],\n",
    "    'max_features': ['sqrt', 'log2'],\n",
    "    'max_depth': [6, 8, 10, 20],\n",
    "    'min_samples_leaf': [1, 2, 3],\n",
    "    'min_samples_split': [2, 3, 5, 10]\n",
    "}"
   ]
  },
  {
   "cell_type": "code",
   "execution_count": 42,
   "metadata": {},
   "outputs": [
    {
     "name": "stdout",
     "output_type": "stream",
     "text": [
      "Fitting 4 folds for each of 384 candidates, totalling 1536 fits\n"
     ]
    }
   ],
   "source": [
    "grid_rf_v = GridSearchCV(estimator=rf_v, \n",
    "                        param_grid=param_rf_v,\n",
    "                        cv=skf,\n",
    "                        scoring='f1', \n",
    "                        verbose=1).fit(X_train_res, y_train_res)"
   ]
  },
  {
   "cell_type": "code",
   "execution_count": null,
   "metadata": {},
   "outputs": [],
   "source": [
    "print(f'rf: {grid_rf_v.best_params_}')"
   ]
  },
  {
   "cell_type": "code",
   "execution_count": null,
   "metadata": {},
   "outputs": [],
   "source": [
    "rf_v_2 = RandomForestClassifier(**grid_rf_v.best_params_, class_weight=\"balanced\", random_state=123)"
   ]
  },
  {
   "cell_type": "code",
   "execution_count": null,
   "metadata": {},
   "outputs": [],
   "source": [
    "rf_v_score_2 = cross_validate(rf_v_2, X_train_res, y_train_res, cv=skf, scoring=[\"accuracy\", \"recall\", \"precision\", \"f1\"], return_train_score=True)"
   ]
  },
  {
   "cell_type": "code",
   "execution_count": null,
   "metadata": {},
   "outputs": [],
   "source": [
    "print(f\"Accuracy: {rf_v_score_2['test_accuracy'].mean()}\")\n",
    "print(f\"Recall: {rf_v_score_2['test_recall'].mean()}\")\n",
    "print(f\"Precision: {rf_v_score_2['test_precision'].mean()}\")\n",
    "print(f\"F1: {rf_v_score_2['test_f1'].mean()}\")"
   ]
  }
 ],
 "metadata": {
  "kernelspec": {
   "display_name": "dash",
   "language": "python",
   "name": "python3"
  },
  "language_info": {
   "codemirror_mode": {
    "name": "ipython",
    "version": 3
   },
   "file_extension": ".py",
   "mimetype": "text/x-python",
   "name": "python",
   "nbconvert_exporter": "python",
   "pygments_lexer": "ipython3",
   "version": "3.10.8"
  },
  "orig_nbformat": 4,
  "vscode": {
   "interpreter": {
    "hash": "36416931e888e9406b519e825774851dd86cc51c84c6f44d17eb2a9e07c8509e"
   }
  }
 },
 "nbformat": 4,
 "nbformat_minor": 2
}
