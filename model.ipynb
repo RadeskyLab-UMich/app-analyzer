{
 "cells": [
  {
   "cell_type": "code",
   "execution_count": 1,
   "metadata": {},
   "outputs": [],
   "source": [
    "import numpy as np\n",
    "import pandas as pd\n",
    "import seaborn as sns\n",
    "import matplotlib.pyplot as plt"
   ]
  },
  {
   "attachments": {},
   "cell_type": "markdown",
   "metadata": {},
   "source": [
    "## Merging Datasets"
   ]
  },
  {
   "attachments": {},
   "cell_type": "markdown",
   "metadata": {},
   "source": [
    "### Play Store"
   ]
  },
  {
   "cell_type": "code",
   "execution_count": 2,
   "metadata": {},
   "outputs": [],
   "source": [
    "play_features = pd.read_csv(\"data/play_features_0317.csv\")\n",
    "play_labeled = pd.read_csv(\"data/p01_apps_play_0202.csv\")\n",
    "play_labeled_p01 = play_labeled.drop(columns=['Pillar1', 'Pillar2', 'Coded 4 Pillars', 'Coded_MM_Thesis', 'Sumscore_abuse', 'Coded_Abuses'])"
   ]
  },
  {
   "cell_type": "code",
   "execution_count": 3,
   "metadata": {},
   "outputs": [
    {
     "data": {
      "text/plain": [
       "0.0    202\n",
       "1.0     54\n",
       "Name: Educational, dtype: int64"
      ]
     },
     "execution_count": 3,
     "metadata": {},
     "output_type": "execute_result"
    }
   ],
   "source": [
    "play_labeled_p01['Educational'].value_counts()"
   ]
  },
  {
   "cell_type": "code",
   "execution_count": 4,
   "metadata": {},
   "outputs": [],
   "source": [
    "play_full = play_labeled_p01.merge(play_features, left_on=\"app_fullname\", right_on=\"appId\", how=\"inner\")"
   ]
  },
  {
   "cell_type": "code",
   "execution_count": 5,
   "metadata": {},
   "outputs": [
    {
     "data": {
      "text/html": [
       "<div>\n",
       "<style scoped>\n",
       "    .dataframe tbody tr th:only-of-type {\n",
       "        vertical-align: middle;\n",
       "    }\n",
       "\n",
       "    .dataframe tbody tr th {\n",
       "        vertical-align: top;\n",
       "    }\n",
       "\n",
       "    .dataframe thead th {\n",
       "        text-align: right;\n",
       "    }\n",
       "</style>\n",
       "<table border=\"1\" class=\"dataframe\">\n",
       "  <thead>\n",
       "    <tr style=\"text-align: right;\">\n",
       "      <th></th>\n",
       "      <th>app_fullname</th>\n",
       "      <th>app_title</th>\n",
       "      <th>Violent</th>\n",
       "      <th>Educational</th>\n",
       "      <th>Manipulative_3plus</th>\n",
       "      <th>Manipulative_2plus</th>\n",
       "      <th>reviews</th>\n",
       "      <th>offersIAP</th>\n",
       "      <th>ratings</th>\n",
       "      <th>containsAds</th>\n",
       "      <th>...</th>\n",
       "      <th>ratingsStd</th>\n",
       "      <th>ratingsSkew</th>\n",
       "      <th>descriptionSentiment</th>\n",
       "      <th>reviewsSentiment</th>\n",
       "      <th>descriptionReadability</th>\n",
       "      <th>descriptionGrammar</th>\n",
       "      <th>developerNApps</th>\n",
       "      <th>developerAppAgeMedian</th>\n",
       "      <th>developerCountry</th>\n",
       "      <th>releasedYear</th>\n",
       "    </tr>\n",
       "  </thead>\n",
       "  <tbody>\n",
       "    <tr>\n",
       "      <th>0</th>\n",
       "      <td>air.com.bmapps.gossipgirlsdivasinhighschool</td>\n",
       "      <td>Gossip Girl Divas in Highschool</td>\n",
       "      <td>0.0</td>\n",
       "      <td>0.0</td>\n",
       "      <td>NaN</td>\n",
       "      <td>NaN</td>\n",
       "      <td>201</td>\n",
       "      <td>True</td>\n",
       "      <td>15628</td>\n",
       "      <td>True</td>\n",
       "      <td>...</td>\n",
       "      <td>1.6567</td>\n",
       "      <td>-0.8693</td>\n",
       "      <td>0.9975</td>\n",
       "      <td>0.1468</td>\n",
       "      <td>10.5</td>\n",
       "      <td>99.64</td>\n",
       "      <td>20</td>\n",
       "      <td>5.8</td>\n",
       "      <td>RO</td>\n",
       "      <td>2018.0</td>\n",
       "    </tr>\n",
       "    <tr>\n",
       "      <th>1</th>\n",
       "      <td>air.com.bmapps.injureddolphincare</td>\n",
       "      <td>Injured Dolphin Care</td>\n",
       "      <td>0.0</td>\n",
       "      <td>0.0</td>\n",
       "      <td>NaN</td>\n",
       "      <td>NaN</td>\n",
       "      <td>38</td>\n",
       "      <td>False</td>\n",
       "      <td>970</td>\n",
       "      <td>True</td>\n",
       "      <td>...</td>\n",
       "      <td>1.3717</td>\n",
       "      <td>-1.6678</td>\n",
       "      <td>0.9972</td>\n",
       "      <td>0.3987</td>\n",
       "      <td>10.9</td>\n",
       "      <td>99.52</td>\n",
       "      <td>20</td>\n",
       "      <td>5.8</td>\n",
       "      <td>RO</td>\n",
       "      <td>2016.0</td>\n",
       "    </tr>\n",
       "    <tr>\n",
       "      <th>2</th>\n",
       "      <td>air.com.foxandsheep.chomp</td>\n",
       "      <td>CHOMP by Christoph Niemann</td>\n",
       "      <td>0.0</td>\n",
       "      <td>0.0</td>\n",
       "      <td>NaN</td>\n",
       "      <td>NaN</td>\n",
       "      <td>834</td>\n",
       "      <td>True</td>\n",
       "      <td>12805</td>\n",
       "      <td>False</td>\n",
       "      <td>...</td>\n",
       "      <td>1.1934</td>\n",
       "      <td>-2.0648</td>\n",
       "      <td>0.9988</td>\n",
       "      <td>0.7526</td>\n",
       "      <td>7.8</td>\n",
       "      <td>99.79</td>\n",
       "      <td>10</td>\n",
       "      <td>5.3</td>\n",
       "      <td>DE</td>\n",
       "      <td>2016.0</td>\n",
       "    </tr>\n",
       "    <tr>\n",
       "      <th>3</th>\n",
       "      <td>air.com.hypah.io.slither</td>\n",
       "      <td>slither.io</td>\n",
       "      <td>1.0</td>\n",
       "      <td>0.0</td>\n",
       "      <td>0.0</td>\n",
       "      <td>1.0</td>\n",
       "      <td>312663</td>\n",
       "      <td>True</td>\n",
       "      <td>6718599</td>\n",
       "      <td>True</td>\n",
       "      <td>...</td>\n",
       "      <td>1.5290</td>\n",
       "      <td>-1.1150</td>\n",
       "      <td>0.8807</td>\n",
       "      <td>0.5406</td>\n",
       "      <td>4.2</td>\n",
       "      <td>99.77</td>\n",
       "      <td>1</td>\n",
       "      <td>7.0</td>\n",
       "      <td>US</td>\n",
       "      <td>2016.0</td>\n",
       "    </tr>\n",
       "    <tr>\n",
       "      <th>4</th>\n",
       "      <td>air.com.pixelstudio8.venom.angry.crash.rush.io...</td>\n",
       "      <td>Venom Angry Crashy Rush Online</td>\n",
       "      <td>1.0</td>\n",
       "      <td>0.0</td>\n",
       "      <td>NaN</td>\n",
       "      <td>NaN</td>\n",
       "      <td>9767</td>\n",
       "      <td>False</td>\n",
       "      <td>290506</td>\n",
       "      <td>True</td>\n",
       "      <td>...</td>\n",
       "      <td>1.4253</td>\n",
       "      <td>-1.5238</td>\n",
       "      <td>-0.8942</td>\n",
       "      <td>0.4278</td>\n",
       "      <td>5.7</td>\n",
       "      <td>99.92</td>\n",
       "      <td>1</td>\n",
       "      <td>5.9</td>\n",
       "      <td>Unlisted</td>\n",
       "      <td>2017.0</td>\n",
       "    </tr>\n",
       "  </tbody>\n",
       "</table>\n",
       "<p>5 rows × 30 columns</p>\n",
       "</div>"
      ],
      "text/plain": [
       "                                        app_fullname  \\\n",
       "0        air.com.bmapps.gossipgirlsdivasinhighschool   \n",
       "1                  air.com.bmapps.injureddolphincare   \n",
       "2                          air.com.foxandsheep.chomp   \n",
       "3                           air.com.hypah.io.slither   \n",
       "4  air.com.pixelstudio8.venom.angry.crash.rush.io...   \n",
       "\n",
       "                         app_title  Violent  Educational  Manipulative_3plus  \\\n",
       "0  Gossip Girl Divas in Highschool      0.0          0.0                 NaN   \n",
       "1             Injured Dolphin Care      0.0          0.0                 NaN   \n",
       "2       CHOMP by Christoph Niemann      0.0          0.0                 NaN   \n",
       "3                       slither.io      1.0          0.0                 0.0   \n",
       "4   Venom Angry Crashy Rush Online      1.0          0.0                 NaN   \n",
       "\n",
       "   Manipulative_2plus  reviews  offersIAP  ratings  containsAds  ...  \\\n",
       "0                 NaN      201       True    15628         True  ...   \n",
       "1                 NaN       38      False      970         True  ...   \n",
       "2                 NaN      834       True    12805        False  ...   \n",
       "3                 1.0   312663       True  6718599         True  ...   \n",
       "4                 NaN     9767      False   290506         True  ...   \n",
       "\n",
       "   ratingsStd ratingsSkew  descriptionSentiment reviewsSentiment  \\\n",
       "0      1.6567     -0.8693                0.9975           0.1468   \n",
       "1      1.3717     -1.6678                0.9972           0.3987   \n",
       "2      1.1934     -2.0648                0.9988           0.7526   \n",
       "3      1.5290     -1.1150                0.8807           0.5406   \n",
       "4      1.4253     -1.5238               -0.8942           0.4278   \n",
       "\n",
       "   descriptionReadability  descriptionGrammar  developerNApps  \\\n",
       "0                    10.5               99.64              20   \n",
       "1                    10.9               99.52              20   \n",
       "2                     7.8               99.79              10   \n",
       "3                     4.2               99.77               1   \n",
       "4                     5.7               99.92               1   \n",
       "\n",
       "  developerAppAgeMedian  developerCountry releasedYear  \n",
       "0                   5.8                RO       2018.0  \n",
       "1                   5.8                RO       2016.0  \n",
       "2                   5.3                DE       2016.0  \n",
       "3                   7.0                US       2016.0  \n",
       "4                   5.9          Unlisted       2017.0  \n",
       "\n",
       "[5 rows x 30 columns]"
      ]
     },
     "execution_count": 5,
     "metadata": {},
     "output_type": "execute_result"
    }
   ],
   "source": [
    "play_full.head()"
   ]
  },
  {
   "cell_type": "code",
   "execution_count": 6,
   "metadata": {},
   "outputs": [
    {
     "data": {
      "text/plain": [
       "(283, 30)"
      ]
     },
     "execution_count": 6,
     "metadata": {},
     "output_type": "execute_result"
    }
   ],
   "source": [
    "play_full.shape"
   ]
  },
  {
   "cell_type": "code",
   "execution_count": 7,
   "metadata": {},
   "outputs": [],
   "source": [
    "play_full['releasedYears'] = 2023 - play_full['releasedYear']"
   ]
  },
  {
   "cell_type": "code",
   "execution_count": 8,
   "metadata": {},
   "outputs": [
    {
     "data": {
      "text/plain": [
       "<seaborn.axisgrid.FacetGrid at 0x7fb1d49f26b0>"
      ]
     },
     "execution_count": 8,
     "metadata": {},
     "output_type": "execute_result"
    },
    {
     "data": {
      "image/png": "[encoded data removed]",
      "text/plain": [
       "<Figure size 709.875x500 with 1 Axes>"
      ]
     },
     "metadata": {},
     "output_type": "display_data"
    }
   ],
   "source": [
    "sns.displot(\n",
    "    data=play_full.isna().melt(value_name=\"missing\"),\n",
    "    y=\"variable\",\n",
    "    hue=\"missing\",\n",
    "    multiple=\"fill\",\n",
    "    aspect=1.25\n",
    ")"
   ]
  },
  {
   "attachments": {},
   "cell_type": "markdown",
   "metadata": {},
   "source": [
    "## Educational"
   ]
  },
  {
   "attachments": {},
   "cell_type": "markdown",
   "metadata": {},
   "source": [
    "### Preprocessing"
   ]
  },
  {
   "cell_type": "code",
   "execution_count": 9,
   "metadata": {},
   "outputs": [],
   "source": [
    "from sklearn.model_selection import GridSearchCV, StratifiedKFold, cross_validate, train_test_split\n",
    "from sklearn.utils.class_weight import compute_sample_weight\n",
    "from sklearn.preprocessing import StandardScaler\n",
    "from sklearn.linear_model import LogisticRegression\n",
    "from sklearn.tree import DecisionTreeClassifier\n",
    "from sklearn.ensemble import RandomForestClassifier\n",
    "from sklearn.svm import SVC\n",
    "from xgboost import XGBClassifier\n",
    "from imblearn.over_sampling import SMOTE"
   ]
  },
  {
   "cell_type": "code",
   "execution_count": 10,
   "metadata": {},
   "outputs": [],
   "source": [
    "play_educational = play_full.dropna(subset=['ratingsStd', 'ratingsSkew', 'releasedYear', 'releasedYears', 'Educational']).drop(columns=['app_fullname', 'app_title', 'title', 'Violent', 'Manipulative_3plus', 'Manipulative_2plus', 'releasedYear'])"
   ]
  },
  {
   "cell_type": "code",
   "execution_count": 11,
   "metadata": {},
   "outputs": [
    {
     "data": {
      "text/plain": [
       "(214, 24)"
      ]
     },
     "execution_count": 11,
     "metadata": {},
     "output_type": "execute_result"
    }
   ],
   "source": [
    "play_educational.shape"
   ]
  },
  {
   "cell_type": "code",
   "execution_count": 12,
   "metadata": {},
   "outputs": [],
   "source": [
    "X = play_educational.drop(columns=['Educational', 'appId', 'developerCountry'])\n",
    "y = play_educational['Educational']"
   ]
  },
  {
   "cell_type": "code",
   "execution_count": 13,
   "metadata": {},
   "outputs": [
    {
     "data": {
      "text/plain": [
       "0.0    173\n",
       "1.0     41\n",
       "Name: Educational, dtype: int64"
      ]
     },
     "execution_count": 13,
     "metadata": {},
     "output_type": "execute_result"
    }
   ],
   "source": [
    "y.value_counts()"
   ]
  },
  {
   "cell_type": "code",
   "execution_count": 14,
   "metadata": {},
   "outputs": [],
   "source": [
    "X_train, X_test, y_train, y_test = train_test_split(X, y, test_size=0.2, random_state=42)"
   ]
  },
  {
   "cell_type": "code",
   "execution_count": 15,
   "metadata": {},
   "outputs": [],
   "source": [
    "num_columns = ['realInstalls', 'price', 'ratings', 'reviews', 'score', 'ratingsStd', 'ratingsSkew', 'descriptionSentiment', 'reviewsSentiment', 'descriptionReadability', 'descriptionGrammar', 'developerNApps', 'developerAppAgeMedian', 'releasedYears']\n",
    "cat_columns = ['genreId', 'contentRating'] # , 'developerCountry'\n",
    "bool_columns = ['offersIAP', 'sale', 'containsAds', 'free', 'adSupported']"
   ]
  },
  {
   "cell_type": "code",
   "execution_count": 16,
   "metadata": {},
   "outputs": [],
   "source": [
    "scaler = StandardScaler()\n",
    "X_train[num_columns] = scaler.fit_transform(X_train[num_columns])\n",
    "X_test[num_columns] = scaler.fit_transform(X_test[num_columns])"
   ]
  },
  {
   "cell_type": "code",
   "execution_count": 17,
   "metadata": {},
   "outputs": [],
   "source": [
    "X_train = pd.get_dummies(X_train, drop_first=True)\n",
    "X_test = pd.get_dummies(X_test, drop_first=True)"
   ]
  },
  {
   "cell_type": "code",
   "execution_count": 18,
   "metadata": {},
   "outputs": [],
   "source": [
    "X_train, X_test = X_train.align(X_test, axis=1, fill_value=0)"
   ]
  },
  {
   "cell_type": "code",
   "execution_count": 19,
   "metadata": {},
   "outputs": [],
   "source": [
    "sm = SMOTE(random_state=42)"
   ]
  },
  {
   "cell_type": "code",
   "execution_count": 20,
   "metadata": {},
   "outputs": [],
   "source": [
    "X_train_res, y_train_res = sm.fit_resample(X_train, y_train)"
   ]
  },
  {
   "attachments": {},
   "cell_type": "markdown",
   "metadata": {},
   "source": [
    "### Modeling"
   ]
  },
  {
   "cell_type": "code",
   "execution_count": 140,
   "metadata": {},
   "outputs": [],
   "source": [
    "lr_e = LogisticRegression(class_weight=\"balanced\")\n",
    "dt_e = DecisionTreeClassifier(class_weight=\"balanced\")\n",
    "rf_e = RandomForestClassifier(class_weight=\"balanced\", random_state=123)\n",
    "xgb_e = XGBClassifier(scale_pos_weight=y.value_counts()[0]/y.value_counts()[1])\n",
    "svm_e = SVC(class_weight=\"balanced\")"
   ]
  },
  {
   "cell_type": "code",
   "execution_count": 32,
   "metadata": {},
   "outputs": [],
   "source": [
    "skf = StratifiedKFold(n_splits=4, shuffle=True, random_state=42)"
   ]
  },
  {
   "cell_type": "code",
   "execution_count": 33,
   "metadata": {},
   "outputs": [],
   "source": [
    "import warnings\n",
    "import sklearn.exceptions\n",
    "warnings.filterwarnings(\"ignore\", category=sklearn.exceptions.UndefinedMetricWarning)"
   ]
  },
  {
   "cell_type": "code",
   "execution_count": 143,
   "metadata": {},
   "outputs": [],
   "source": [
    "lr_e_score = cross_validate(lr_e, X_train_res, y_train_res, cv=skf, scoring=[\"accuracy\", \"recall\", \"precision\", \"f1\"], return_train_score=True, return_estimator=True)\n",
    "dt_e_score = cross_validate(dt_e, X_train_res, y_train_res, cv=skf, scoring=[\"accuracy\", \"recall\", \"precision\", \"f1\"], return_train_score=True, return_estimator=True)\n",
    "rf_e_score = cross_validate(rf_e, X_train_res, y_train_res, cv=skf, scoring=[\"accuracy\", \"recall\", \"precision\", \"f1\"], return_train_score=True, return_estimator=True)\n",
    "xgb_e_score = cross_validate(xgb_e, X_train_res, y_train_res, cv=skf, scoring=[\"accuracy\", \"recall\", \"precision\", \"f1\"], return_train_score=True, return_estimator=True)\n",
    "svm_e_score = cross_validate(svm_e, X_train_res, y_train_res, cv=skf, scoring=[\"accuracy\", \"recall\", \"precision\", \"f1\"], return_train_score=True, return_estimator=True)"
   ]
  },
  {
   "cell_type": "code",
   "execution_count": 144,
   "metadata": {},
   "outputs": [
    {
     "name": "stdout",
     "output_type": "stream",
     "text": [
      "Model Scores (train_behavior)\n"
     ]
    },
    {
     "data": {
      "text/html": [
       "<div>\n",
       "<style scoped>\n",
       "    .dataframe tbody tr th:only-of-type {\n",
       "        vertical-align: middle;\n",
       "    }\n",
       "\n",
       "    .dataframe tbody tr th {\n",
       "        vertical-align: top;\n",
       "    }\n",
       "\n",
       "    .dataframe thead th {\n",
       "        text-align: right;\n",
       "    }\n",
       "</style>\n",
       "<table border=\"1\" class=\"dataframe\">\n",
       "  <thead>\n",
       "    <tr style=\"text-align: right;\">\n",
       "      <th></th>\n",
       "      <th>Model</th>\n",
       "      <th>Accuracy</th>\n",
       "      <th>Recall</th>\n",
       "      <th>Precision</th>\n",
       "      <th>F1</th>\n",
       "    </tr>\n",
       "  </thead>\n",
       "  <tbody>\n",
       "    <tr>\n",
       "      <th>2</th>\n",
       "      <td>RF</td>\n",
       "      <td>0.899172</td>\n",
       "      <td>0.913866</td>\n",
       "      <td>0.890711</td>\n",
       "      <td>0.901582</td>\n",
       "    </tr>\n",
       "    <tr>\n",
       "      <th>3</th>\n",
       "      <td>XGB</td>\n",
       "      <td>0.859783</td>\n",
       "      <td>0.906933</td>\n",
       "      <td>0.831533</td>\n",
       "      <td>0.866544</td>\n",
       "    </tr>\n",
       "    <tr>\n",
       "      <th>1</th>\n",
       "      <td>DT</td>\n",
       "      <td>0.801967</td>\n",
       "      <td>0.827311</td>\n",
       "      <td>0.790727</td>\n",
       "      <td>0.807908</td>\n",
       "    </tr>\n",
       "    <tr>\n",
       "      <th>4</th>\n",
       "      <td>SVM</td>\n",
       "      <td>0.798706</td>\n",
       "      <td>0.834034</td>\n",
       "      <td>0.784926</td>\n",
       "      <td>0.804447</td>\n",
       "    </tr>\n",
       "    <tr>\n",
       "      <th>0</th>\n",
       "      <td>LR</td>\n",
       "      <td>0.762681</td>\n",
       "      <td>0.791597</td>\n",
       "      <td>0.753572</td>\n",
       "      <td>0.770531</td>\n",
       "    </tr>\n",
       "  </tbody>\n",
       "</table>\n",
       "</div>"
      ],
      "text/plain": [
       "  Model  Accuracy    Recall  Precision        F1\n",
       "2    RF  0.899172  0.913866   0.890711  0.901582\n",
       "3   XGB  0.859783  0.906933   0.831533  0.866544\n",
       "1    DT  0.801967  0.827311   0.790727  0.807908\n",
       "4   SVM  0.798706  0.834034   0.784926  0.804447\n",
       "0    LR  0.762681  0.791597   0.753572  0.770531"
      ]
     },
     "execution_count": 144,
     "metadata": {},
     "output_type": "execute_result"
    }
   ],
   "source": [
    "print('Model Scores (train_behavior)')\n",
    "pd.DataFrame({'Model': ['LR', 'DT', 'RF', 'XGB', 'SVM'], 'Accuracy': [lr_e_score['test_accuracy'].mean(), dt_e_score['test_accuracy'].mean(), rf_e_score['test_accuracy'].mean(), xgb_e_score['test_accuracy'].mean(), svm_e_score['test_accuracy'].mean()], 'Recall': [lr_e_score['test_recall'].mean(), dt_e_score['test_recall'].mean(), rf_e_score['test_recall'].mean(), xgb_e_score['test_recall'].mean(), svm_e_score['test_recall'].mean()], 'Precision': [lr_e_score['test_precision'].mean(), dt_e_score['test_precision'].mean(), rf_e_score['test_precision'].mean(), xgb_e_score['test_precision'].mean(), svm_e_score['test_precision'].mean()], 'F1': [lr_e_score['test_f1'].mean(), dt_e_score['test_f1'].mean(), rf_e_score['test_f1'].mean(), xgb_e_score['test_f1'].mean(), svm_e_score['test_f1'].mean(), ]}).sort_values('F1', ascending=False)"
   ]
  },
  {
   "cell_type": "code",
   "execution_count": 145,
   "metadata": {},
   "outputs": [
    {
     "data": {
      "text/plain": [
       "{'bootstrap': True,\n",
       " 'ccp_alpha': 0.0,\n",
       " 'class_weight': 'balanced',\n",
       " 'criterion': 'gini',\n",
       " 'max_depth': None,\n",
       " 'max_features': 'sqrt',\n",
       " 'max_leaf_nodes': None,\n",
       " 'max_samples': None,\n",
       " 'min_impurity_decrease': 0.0,\n",
       " 'min_samples_leaf': 1,\n",
       " 'min_samples_split': 2,\n",
       " 'min_weight_fraction_leaf': 0.0,\n",
       " 'n_estimators': 100,\n",
       " 'n_jobs': None,\n",
       " 'oob_score': False,\n",
       " 'random_state': 123,\n",
       " 'verbose': 0,\n",
       " 'warm_start': False}"
      ]
     },
     "execution_count": 145,
     "metadata": {},
     "output_type": "execute_result"
    }
   ],
   "source": [
    "rf_e.get_params()"
   ]
  },
  {
   "cell_type": "code",
   "execution_count": 165,
   "metadata": {},
   "outputs": [
    {
     "name": "stdout",
     "output_type": "stream",
     "text": [
      "Features sorted by their score for estimator 0:\n",
      "                            importance\n",
      "adSupported                   0.004573\n",
      "price                         0.004573\n",
      "genreId_GAME_RACING           0.004573\n",
      "genreId_GAME_ROLE_PLAYING     0.004573\n",
      "genreId_GAME_SIMULATION       0.004573\n",
      "genreId_GAME_SPORTS           0.004573\n",
      "genreId_GAME_STRATEGY         0.004573\n",
      "genreId_MUSIC_AND_AUDIO       0.004573\n",
      "offersIAP                     0.004573\n",
      "ratings                       0.004573\n",
      "containsAds                   0.004573\n",
      "ratingsSkew                   0.004573\n",
      "ratingsStd                    0.004573\n",
      "realInstalls                  0.004573\n",
      "releasedYears                 0.004573\n",
      "reviews                       0.004573\n",
      "reviewsSentiment              0.004573\n",
      "sale                          0.004573\n",
      "genreId_GAME_PUZZLE           0.004573\n",
      "genreId_GAME_MUSIC            0.004573\n",
      "genreId_GAME_EDUCATIONAL      0.004573\n",
      "genreId_GAME_CASUAL           0.004573\n",
      "contentRating_Everyone 10+    0.004573\n",
      "contentRating_Mature 17+      0.004573\n",
      "contentRating_Teen            0.004573\n",
      "descriptionGrammar            0.004573\n",
      "descriptionReadability        0.004573\n",
      "descriptionSentiment          0.004573\n",
      "developerAppAgeMedian         0.004573\n",
      "developerNApps                0.004573\n",
      "free                          0.004573\n",
      "genreId_EDUCATION             0.004573\n",
      "genreId_ENTERTAINMENT         0.004573\n",
      "genreId_GAME_ACTION           0.004573\n",
      "genreId_GAME_ADVENTURE        0.004573\n",
      "genreId_GAME_ARCADE           0.004573\n",
      "genreId_GAME_CARD             0.004573\n",
      "score                         0.004573\n",
      "Features sorted by their score for estimator 1:\n",
      "                            importance\n",
      "adSupported                   0.010766\n",
      "price                         0.010766\n",
      "genreId_GAME_RACING           0.010766\n",
      "genreId_GAME_ROLE_PLAYING     0.010766\n",
      "genreId_GAME_SIMULATION       0.010766\n",
      "genreId_GAME_SPORTS           0.010766\n",
      "genreId_GAME_STRATEGY         0.010766\n",
      "genreId_MUSIC_AND_AUDIO       0.010766\n",
      "offersIAP                     0.010766\n",
      "ratings                       0.010766\n",
      "containsAds                   0.010766\n",
      "ratingsSkew                   0.010766\n",
      "ratingsStd                    0.010766\n",
      "realInstalls                  0.010766\n",
      "releasedYears                 0.010766\n",
      "reviews                       0.010766\n",
      "reviewsSentiment              0.010766\n",
      "sale                          0.010766\n",
      "genreId_GAME_PUZZLE           0.010766\n",
      "genreId_GAME_MUSIC            0.010766\n",
      "genreId_GAME_EDUCATIONAL      0.010766\n",
      "genreId_GAME_CASUAL           0.010766\n",
      "contentRating_Everyone 10+    0.010766\n",
      "contentRating_Mature 17+      0.010766\n",
      "contentRating_Teen            0.010766\n",
      "descriptionGrammar            0.010766\n",
      "descriptionReadability        0.010766\n",
      "descriptionSentiment          0.010766\n",
      "developerAppAgeMedian         0.010766\n",
      "developerNApps                0.010766\n",
      "free                          0.010766\n",
      "genreId_EDUCATION             0.010766\n",
      "genreId_ENTERTAINMENT         0.010766\n",
      "genreId_GAME_ACTION           0.010766\n",
      "genreId_GAME_ADVENTURE        0.010766\n",
      "genreId_GAME_ARCADE           0.010766\n",
      "genreId_GAME_CARD             0.010766\n",
      "score                         0.010766\n",
      "Features sorted by their score for estimator 2:\n",
      "                            importance\n",
      "adSupported                   0.000141\n",
      "price                         0.000141\n",
      "genreId_GAME_RACING           0.000141\n",
      "genreId_GAME_ROLE_PLAYING     0.000141\n",
      "genreId_GAME_SIMULATION       0.000141\n",
      "genreId_GAME_SPORTS           0.000141\n",
      "genreId_GAME_STRATEGY         0.000141\n",
      "genreId_MUSIC_AND_AUDIO       0.000141\n",
      "offersIAP                     0.000141\n",
      "ratings                       0.000141\n",
      "containsAds                   0.000141\n",
      "ratingsSkew                   0.000141\n",
      "ratingsStd                    0.000141\n",
      "realInstalls                  0.000141\n",
      "releasedYears                 0.000141\n",
      "reviews                       0.000141\n",
      "reviewsSentiment              0.000141\n",
      "sale                          0.000141\n",
      "genreId_GAME_PUZZLE           0.000141\n",
      "genreId_GAME_MUSIC            0.000141\n",
      "genreId_GAME_EDUCATIONAL      0.000141\n",
      "genreId_GAME_CASUAL           0.000141\n",
      "contentRating_Everyone 10+    0.000141\n",
      "contentRating_Mature 17+      0.000141\n",
      "contentRating_Teen            0.000141\n",
      "descriptionGrammar            0.000141\n",
      "descriptionReadability        0.000141\n",
      "descriptionSentiment          0.000141\n",
      "developerAppAgeMedian         0.000141\n",
      "developerNApps                0.000141\n",
      "free                          0.000141\n",
      "genreId_EDUCATION             0.000141\n",
      "genreId_ENTERTAINMENT         0.000141\n",
      "genreId_GAME_ACTION           0.000141\n",
      "genreId_GAME_ADVENTURE        0.000141\n",
      "genreId_GAME_ARCADE           0.000141\n",
      "genreId_GAME_CARD             0.000141\n",
      "score                         0.000141\n",
      "Features sorted by their score for estimator 3:\n",
      "                            importance\n",
      "adSupported                   0.000515\n",
      "price                         0.000515\n",
      "genreId_GAME_RACING           0.000515\n",
      "genreId_GAME_ROLE_PLAYING     0.000515\n",
      "genreId_GAME_SIMULATION       0.000515\n",
      "genreId_GAME_SPORTS           0.000515\n",
      "genreId_GAME_STRATEGY         0.000515\n",
      "genreId_MUSIC_AND_AUDIO       0.000515\n",
      "offersIAP                     0.000515\n",
      "ratings                       0.000515\n",
      "containsAds                   0.000515\n",
      "ratingsSkew                   0.000515\n",
      "ratingsStd                    0.000515\n",
      "realInstalls                  0.000515\n",
      "releasedYears                 0.000515\n",
      "reviews                       0.000515\n",
      "reviewsSentiment              0.000515\n",
      "sale                          0.000515\n",
      "genreId_GAME_PUZZLE           0.000515\n",
      "genreId_GAME_MUSIC            0.000515\n",
      "genreId_GAME_EDUCATIONAL      0.000515\n",
      "genreId_GAME_CASUAL           0.000515\n",
      "contentRating_Everyone 10+    0.000515\n",
      "contentRating_Mature 17+      0.000515\n",
      "contentRating_Teen            0.000515\n",
      "descriptionGrammar            0.000515\n",
      "descriptionReadability        0.000515\n",
      "descriptionSentiment          0.000515\n",
      "developerAppAgeMedian         0.000515\n",
      "developerNApps                0.000515\n",
      "free                          0.000515\n",
      "genreId_EDUCATION             0.000515\n",
      "genreId_ENTERTAINMENT         0.000515\n",
      "genreId_GAME_ACTION           0.000515\n",
      "genreId_GAME_ADVENTURE        0.000515\n",
      "genreId_GAME_ARCADE           0.000515\n",
      "genreId_GAME_CARD             0.000515\n",
      "score                         0.000515\n"
     ]
    }
   ],
   "source": [
    "# testing feature importance for logistic regression\n",
    "for idx,estimator in enumerate(rf_e_score['estimator']):\n",
    "    print(\"Features sorted by their score for estimator {}:\".format(idx))\n",
    "    feature_importances = pd.DataFrame(rf_e.feature_importances_[idx],\n",
    "                                       index = X_train.columns,\n",
    "                                       columns=['importance']).sort_values('importance', ascending=False)\n",
    "    print(feature_importances)"
   ]
  },
  {
   "cell_type": "code",
   "execution_count": 151,
   "metadata": {},
   "outputs": [],
   "source": [
    "param_rf = { \n",
    "    'n_estimators': [50, 100, 150, 200],\n",
    "    'max_features': ['sqrt', 'log2'],\n",
    "    'max_depth': [6, 8, 10, 20],\n",
    "    'min_samples_leaf': [1, 2, 3],\n",
    "    'min_samples_split': [2, 3, 5, 10]\n",
    "}"
   ]
  },
  {
   "cell_type": "code",
   "execution_count": 152,
   "metadata": {},
   "outputs": [
    {
     "name": "stdout",
     "output_type": "stream",
     "text": [
      "Fitting 4 folds for each of 384 candidates, totalling 1536 fits\n"
     ]
    }
   ],
   "source": [
    "grid_rf = GridSearchCV(estimator=rf_e, \n",
    "                        param_grid=param_rf,\n",
    "                        cv=skf,\n",
    "                        scoring='f1', \n",
    "                        verbose=1).fit(X_train_res, y_train_res)"
   ]
  },
  {
   "cell_type": "code",
   "execution_count": 153,
   "metadata": {},
   "outputs": [
    {
     "name": "stdout",
     "output_type": "stream",
     "text": [
      "rf: {'max_depth': 20, 'max_features': 'sqrt', 'min_samples_leaf': 1, 'min_samples_split': 2, 'n_estimators': 50}\n"
     ]
    }
   ],
   "source": [
    "print(f'rf: {grid_rf.best_params_}')"
   ]
  },
  {
   "cell_type": "code",
   "execution_count": 154,
   "metadata": {},
   "outputs": [],
   "source": [
    "rf_e_2 = RandomForestClassifier(**grid_rf.best_params_, class_weight=\"balanced\", random_state=123)"
   ]
  },
  {
   "cell_type": "code",
   "execution_count": 155,
   "metadata": {},
   "outputs": [],
   "source": [
    "rf_e_score_2 = cross_validate(rf_e_2, X_train_res, y_train_res, cv=skf, scoring=[\"accuracy\", \"recall\", \"precision\", \"f1\"], return_train_score=True)"
   ]
  },
  {
   "cell_type": "code",
   "execution_count": 166,
   "metadata": {},
   "outputs": [
    {
     "name": "stdout",
     "output_type": "stream",
     "text": [
      "Accuracy: 0.920807453416149\n",
      "Recall: 0.9285714285714285\n",
      "Precision: 0.9173927465723132\n",
      "F1: 0.9224736946595196\n"
     ]
    }
   ],
   "source": [
    "print(f\"Accuracy: {rf_e_score_2['test_accuracy'].mean()}\")\n",
    "print(f\"Recall: {rf_e_score_2['test_recall'].mean()}\")\n",
    "print(f\"Precision: {rf_e_score_2['test_precision'].mean()}\")\n",
    "print(f\"F1: {rf_e_score_2['test_f1'].mean()}\")"
   ]
  },
  {
   "cell_type": "code",
   "execution_count": 167,
   "metadata": {},
   "outputs": [
    {
     "data": {
      "text/plain": [
       "['models/rf_e_0402.joblib']"
      ]
     },
     "execution_count": 167,
     "metadata": {},
     "output_type": "execute_result"
    }
   ],
   "source": [
    "from joblib import dump\n",
    "dump(rf_e_2, 'models/rf_e_0402.joblib')"
   ]
  },
  {
   "attachments": {},
   "cell_type": "markdown",
   "metadata": {},
   "source": [
    "### Testing"
   ]
  },
  {
   "cell_type": "code",
   "execution_count": 157,
   "metadata": {},
   "outputs": [],
   "source": [
    "from sklearn.metrics import confusion_matrix, accuracy_score, f1_score"
   ]
  },
  {
   "cell_type": "code",
   "execution_count": 158,
   "metadata": {},
   "outputs": [
    {
     "data": {
      "text/html": [
       "<style>#sk-container-id-7 {color: black;background-color: white;}#sk-container-id-7 pre{padding: 0;}#sk-container-id-7 div.sk-toggleable {background-color: white;}#sk-container-id-7 label.sk-toggleable__label {cursor: pointer;display: block;width: 100%;margin-bottom: 0;padding: 0.3em;box-sizing: border-box;text-align: center;}#sk-container-id-7 label.sk-toggleable__label-arrow:before {content: \"▸\";float: left;margin-right: 0.25em;color: #696969;}#sk-container-id-7 label.sk-toggleable__label-arrow:hover:before {color: black;}#sk-container-id-7 div.sk-estimator:hover label.sk-toggleable__label-arrow:before {color: black;}#sk-container-id-7 div.sk-toggleable__content {max-height: 0;max-width: 0;overflow: hidden;text-align: left;background-color: #f0f8ff;}#sk-container-id-7 div.sk-toggleable__content pre {margin: 0.2em;color: black;border-radius: 0.25em;background-color: #f0f8ff;}#sk-container-id-7 input.sk-toggleable__control:checked~div.sk-toggleable__content {max-height: 200px;max-width: 100%;overflow: auto;}#sk-container-id-7 input.sk-toggleable__control:checked~label.sk-toggleable__label-arrow:before {content: \"▾\";}#sk-container-id-7 div.sk-estimator input.sk-toggleable__control:checked~label.sk-toggleable__label {background-color: #d4ebff;}#sk-container-id-7 div.sk-label input.sk-toggleable__control:checked~label.sk-toggleable__label {background-color: #d4ebff;}#sk-container-id-7 input.sk-hidden--visually {border: 0;clip: rect(1px 1px 1px 1px);clip: rect(1px, 1px, 1px, 1px);height: 1px;margin: -1px;overflow: hidden;padding: 0;position: absolute;width: 1px;}#sk-container-id-7 div.sk-estimator {font-family: monospace;background-color: #f0f8ff;border: 1px dotted black;border-radius: 0.25em;box-sizing: border-box;margin-bottom: 0.5em;}#sk-container-id-7 div.sk-estimator:hover {background-color: #d4ebff;}#sk-container-id-7 div.sk-parallel-item::after {content: \"\";width: 100%;border-bottom: 1px solid gray;flex-grow: 1;}#sk-container-id-7 div.sk-label:hover label.sk-toggleable__label {background-color: #d4ebff;}#sk-container-id-7 div.sk-serial::before {content: \"\";position: absolute;border-left: 1px solid gray;box-sizing: border-box;top: 0;bottom: 0;left: 50%;z-index: 0;}#sk-container-id-7 div.sk-serial {display: flex;flex-direction: column;align-items: center;background-color: white;padding-right: 0.2em;padding-left: 0.2em;position: relative;}#sk-container-id-7 div.sk-item {position: relative;z-index: 1;}#sk-container-id-7 div.sk-parallel {display: flex;align-items: stretch;justify-content: center;background-color: white;position: relative;}#sk-container-id-7 div.sk-item::before, #sk-container-id-7 div.sk-parallel-item::before {content: \"\";position: absolute;border-left: 1px solid gray;box-sizing: border-box;top: 0;bottom: 0;left: 50%;z-index: -1;}#sk-container-id-7 div.sk-parallel-item {display: flex;flex-direction: column;z-index: 1;position: relative;background-color: white;}#sk-container-id-7 div.sk-parallel-item:first-child::after {align-self: flex-end;width: 50%;}#sk-container-id-7 div.sk-parallel-item:last-child::after {align-self: flex-start;width: 50%;}#sk-container-id-7 div.sk-parallel-item:only-child::after {width: 0;}#sk-container-id-7 div.sk-dashed-wrapped {border: 1px dashed gray;margin: 0 0.4em 0.5em 0.4em;box-sizing: border-box;padding-bottom: 0.4em;background-color: white;}#sk-container-id-7 div.sk-label label {font-family: monospace;font-weight: bold;display: inline-block;line-height: 1.2em;}#sk-container-id-7 div.sk-label-container {text-align: center;}#sk-container-id-7 div.sk-container {/* jupyter's `normalize.less` sets `[hidden] { display: none; }` but bootstrap.min.css set `[hidden] { display: none !important; }` so we also need the `!important` here to be able to override the default hidden behavior on the sphinx rendered scikit-learn.org. See: https://github.com/scikit-learn/scikit-learn/issues/21755 */display: inline-block !important;position: relative;}#sk-container-id-7 div.sk-text-repr-fallback {display: none;}</style><div id=\"sk-container-id-7\" class=\"sk-top-container\"><div class=\"sk-text-repr-fallback\"><pre>RandomForestClassifier(class_weight=&#x27;balanced&#x27;, max_depth=20, n_estimators=50,\n",
       "                       random_state=123)</pre><b>In a Jupyter environment, please rerun this cell to show the HTML representation or trust the notebook. <br />On GitHub, the HTML representation is unable to render, please try loading this page with nbviewer.org.</b></div><div class=\"sk-container\" hidden><div class=\"sk-item\"><div class=\"sk-estimator sk-toggleable\"><input class=\"sk-toggleable__control sk-hidden--visually\" id=\"sk-estimator-id-7\" type=\"checkbox\" checked><label for=\"sk-estimator-id-7\" class=\"sk-toggleable__label sk-toggleable__label-arrow\">RandomForestClassifier</label><div class=\"sk-toggleable__content\"><pre>RandomForestClassifier(class_weight=&#x27;balanced&#x27;, max_depth=20, n_estimators=50,\n",
       "                       random_state=123)</pre></div></div></div></div></div>"
      ],
      "text/plain": [
       "RandomForestClassifier(class_weight='balanced', max_depth=20, n_estimators=50,\n",
       "                       random_state=123)"
      ]
     },
     "execution_count": 158,
     "metadata": {},
     "output_type": "execute_result"
    }
   ],
   "source": [
    "rf_e_2.fit(X_train_res, y_train_res)"
   ]
  },
  {
   "cell_type": "code",
   "execution_count": 159,
   "metadata": {},
   "outputs": [],
   "source": [
    "y_pred = rf_e_2.predict(X_test)"
   ]
  },
  {
   "cell_type": "code",
   "execution_count": 160,
   "metadata": {},
   "outputs": [
    {
     "data": {
      "image/png": "[encoded data removed]",
      "text/plain": [
       "<Figure size 400x400 with 1 Axes>"
      ]
     },
     "metadata": {},
     "output_type": "display_data"
    }
   ],
   "source": [
    "cm = confusion_matrix(y_test, y_pred)\n",
    "plt.figure(figsize=(4,4))\n",
    "ax = sns.heatmap(cm, annot=True, fmt='g', cmap=sns.cubehelix_palette(start=.7, rot=-.5, light=0.95, dark=0.2, as_cmap=True), cbar=False)\n",
    "ax.set_xlabel('Predicted'); ax.set_ylabel('True');\n",
    "ax.xaxis.set_ticklabels(['non-educational', 'educational']); ax.yaxis.set_ticklabels(['non-educational', 'educational']);"
   ]
  },
  {
   "cell_type": "code",
   "execution_count": 161,
   "metadata": {},
   "outputs": [
    {
     "name": "stdout",
     "output_type": "stream",
     "text": [
      "Accuracy: 0.6046511627906976\n",
      "F1: 0.32\n"
     ]
    }
   ],
   "source": [
    "print(\"Accuracy: \" + str(accuracy_score(y_test, y_pred)))\n",
    "print(\"F1: \" + str(f1_score(y_test, y_pred)))"
   ]
  },
  {
   "attachments": {},
   "cell_type": "markdown",
   "metadata": {},
   "source": [
    "## Violent"
   ]
  },
  {
   "attachments": {},
   "cell_type": "markdown",
   "metadata": {},
   "source": [
    "### Preprocessing"
   ]
  },
  {
   "cell_type": "code",
   "execution_count": 21,
   "metadata": {},
   "outputs": [],
   "source": [
    "play_violent = play_full.dropna(subset=['ratingsStd', 'ratingsSkew', 'releasedYear', 'releasedYears', 'Violent']).drop(columns=['app_fullname', 'app_title', 'title', 'Educational', 'Manipulative_3plus', 'Manipulative_2plus', 'releasedYear'])"
   ]
  },
  {
   "cell_type": "code",
   "execution_count": 22,
   "metadata": {},
   "outputs": [
    {
     "data": {
      "text/plain": [
       "(202, 24)"
      ]
     },
     "execution_count": 22,
     "metadata": {},
     "output_type": "execute_result"
    }
   ],
   "source": [
    "play_violent.shape"
   ]
  },
  {
   "cell_type": "code",
   "execution_count": 23,
   "metadata": {},
   "outputs": [],
   "source": [
    "X = play_violent.drop(columns=['Violent', 'appId', 'developerCountry'])\n",
    "y = play_violent['Violent']"
   ]
  },
  {
   "cell_type": "code",
   "execution_count": 24,
   "metadata": {},
   "outputs": [
    {
     "data": {
      "text/plain": [
       "0.0    125\n",
       "1.0     77\n",
       "Name: Violent, dtype: int64"
      ]
     },
     "execution_count": 24,
     "metadata": {},
     "output_type": "execute_result"
    }
   ],
   "source": [
    "y.value_counts()"
   ]
  },
  {
   "cell_type": "code",
   "execution_count": 25,
   "metadata": {},
   "outputs": [],
   "source": [
    "X_train, X_test, y_train, y_test = train_test_split(X, y, test_size=0.2, random_state=42)"
   ]
  },
  {
   "cell_type": "code",
   "execution_count": 26,
   "metadata": {},
   "outputs": [],
   "source": [
    "scaler = StandardScaler()\n",
    "X_train[num_columns] = scaler.fit_transform(X_train[num_columns])"
   ]
  },
  {
   "cell_type": "code",
   "execution_count": 27,
   "metadata": {},
   "outputs": [],
   "source": [
    "X_train = pd.get_dummies(X_train, drop_first=True)"
   ]
  },
  {
   "cell_type": "code",
   "execution_count": 28,
   "metadata": {},
   "outputs": [],
   "source": [
    "sm = SMOTE(random_state=42)\n",
    "X_train_res, y_train_res = sm.fit_resample(X_train, y_train)"
   ]
  },
  {
   "attachments": {},
   "cell_type": "markdown",
   "metadata": {},
   "source": [
    "### Modeling"
   ]
  },
  {
   "cell_type": "code",
   "execution_count": 30,
   "metadata": {},
   "outputs": [],
   "source": [
    "lr_v = LogisticRegression(class_weight=\"balanced\")\n",
    "dt_v = DecisionTreeClassifier(class_weight=\"balanced\")\n",
    "rf_v = RandomForestClassifier(class_weight=\"balanced\", random_state=123)\n",
    "xgb_v = XGBClassifier(scale_pos_weight=y.value_counts()[0]/y.value_counts()[1])\n",
    "svm_v = SVC(class_weight=\"balanced\")"
   ]
  },
  {
   "cell_type": "code",
   "execution_count": 34,
   "metadata": {},
   "outputs": [],
   "source": [
    "lr_v_score = cross_validate(lr_v, X_train_res, y_train_res, cv=skf, scoring=[\"accuracy\", \"recall\", \"precision\", \"f1\"], return_train_score=True, return_estimator=True)\n",
    "dt_v_score = cross_validate(dt_v, X_train_res, y_train_res, cv=skf, scoring=[\"accuracy\", \"recall\", \"precision\", \"f1\"], return_train_score=True, return_estimator=True)\n",
    "rf_v_score = cross_validate(rf_v, X_train_res, y_train_res, cv=skf, scoring=[\"accuracy\", \"recall\", \"precision\", \"f1\"], return_train_score=True, return_estimator=True)\n",
    "xgb_v_score = cross_validate(xgb_v, X_train_res, y_train_res, cv=skf, scoring=[\"accuracy\", \"recall\", \"precision\", \"f1\"], return_train_score=True, return_estimator=True)\n",
    "svm_v_score = cross_validate(svm_v, X_train_res, y_train_res, cv=skf, scoring=[\"accuracy\", \"recall\", \"precision\", \"f1\"], return_train_score=True, return_estimator=True)"
   ]
  },
  {
   "cell_type": "code",
   "execution_count": 35,
   "metadata": {},
   "outputs": [
    {
     "name": "stdout",
     "output_type": "stream",
     "text": [
      "Model Scores (train_behavior)\n"
     ]
    },
    {
     "data": {
      "text/html": [
       "<div>\n",
       "<style scoped>\n",
       "    .dataframe tbody tr th:only-of-type {\n",
       "        vertical-align: middle;\n",
       "    }\n",
       "\n",
       "    .dataframe tbody tr th {\n",
       "        vertical-align: top;\n",
       "    }\n",
       "\n",
       "    .dataframe thead th {\n",
       "        text-align: right;\n",
       "    }\n",
       "</style>\n",
       "<table border=\"1\" class=\"dataframe\">\n",
       "  <thead>\n",
       "    <tr style=\"text-align: right;\">\n",
       "      <th></th>\n",
       "      <th>Model</th>\n",
       "      <th>Accuracy</th>\n",
       "      <th>Recall</th>\n",
       "      <th>Precision</th>\n",
       "      <th>F1</th>\n",
       "    </tr>\n",
       "  </thead>\n",
       "  <tbody>\n",
       "    <tr>\n",
       "      <th>2</th>\n",
       "      <td>RF</td>\n",
       "      <td>0.821429</td>\n",
       "      <td>0.887917</td>\n",
       "      <td>0.783776</td>\n",
       "      <td>0.832168</td>\n",
       "    </tr>\n",
       "    <tr>\n",
       "      <th>0</th>\n",
       "      <td>LR</td>\n",
       "      <td>0.806122</td>\n",
       "      <td>0.805833</td>\n",
       "      <td>0.807199</td>\n",
       "      <td>0.805833</td>\n",
       "    </tr>\n",
       "    <tr>\n",
       "      <th>3</th>\n",
       "      <td>XGB</td>\n",
       "      <td>0.780612</td>\n",
       "      <td>0.827500</td>\n",
       "      <td>0.755549</td>\n",
       "      <td>0.789267</td>\n",
       "    </tr>\n",
       "    <tr>\n",
       "      <th>4</th>\n",
       "      <td>SVM</td>\n",
       "      <td>0.775510</td>\n",
       "      <td>0.765833</td>\n",
       "      <td>0.789551</td>\n",
       "      <td>0.772195</td>\n",
       "    </tr>\n",
       "    <tr>\n",
       "      <th>1</th>\n",
       "      <td>DT</td>\n",
       "      <td>0.714286</td>\n",
       "      <td>0.735417</td>\n",
       "      <td>0.711431</td>\n",
       "      <td>0.721395</td>\n",
       "    </tr>\n",
       "  </tbody>\n",
       "</table>\n",
       "</div>"
      ],
      "text/plain": [
       "  Model  Accuracy    Recall  Precision        F1\n",
       "2    RF  0.821429  0.887917   0.783776  0.832168\n",
       "0    LR  0.806122  0.805833   0.807199  0.805833\n",
       "3   XGB  0.780612  0.827500   0.755549  0.789267\n",
       "4   SVM  0.775510  0.765833   0.789551  0.772195\n",
       "1    DT  0.714286  0.735417   0.711431  0.721395"
      ]
     },
     "execution_count": 35,
     "metadata": {},
     "output_type": "execute_result"
    }
   ],
   "source": [
    "print('Model Scores (train_behavior)')\n",
    "pd.DataFrame({'Model': ['LR', 'DT', 'RF', 'XGB', 'SVM'], 'Accuracy': [lr_v_score['test_accuracy'].mean(), dt_v_score['test_accuracy'].mean(), rf_v_score['test_accuracy'].mean(), xgb_v_score['test_accuracy'].mean(), svm_v_score['test_accuracy'].mean()], 'Recall': [lr_v_score['test_recall'].mean(), dt_v_score['test_recall'].mean(), rf_v_score['test_recall'].mean(), xgb_v_score['test_recall'].mean(), svm_v_score['test_recall'].mean()], 'Precision': [lr_v_score['test_precision'].mean(), dt_v_score['test_precision'].mean(), rf_v_score['test_precision'].mean(), xgb_v_score['test_precision'].mean(), svm_v_score['test_precision'].mean()], 'F1': [lr_v_score['test_f1'].mean(), dt_v_score['test_f1'].mean(), rf_v_score['test_f1'].mean(), xgb_v_score['test_f1'].mean(), svm_v_score['test_f1'].mean(), ]}).sort_values('F1', ascending=False)"
   ]
  },
  {
   "cell_type": "code",
   "execution_count": null,
   "metadata": {},
   "outputs": [],
   "source": []
  }
 ],
 "metadata": {
  "kernelspec": {
   "display_name": "dash",
   "language": "python",
   "name": "python3"
  },
  "language_info": {
   "codemirror_mode": {
    "name": "ipython",
    "version": 3
   },
   "file_extension": ".py",
   "mimetype": "text/x-python",
   "name": "python",
   "nbconvert_exporter": "python",
   "pygments_lexer": "ipython3",
   "version": "3.10.8"
  },
  "orig_nbformat": 4,
  "vscode": {
   "interpreter": {
    "hash": "36416931e888e9406b519e825774851dd86cc51c84c6f44d17eb2a9e07c8509e"
   }
  }
 },
 "nbformat": 4,
 "nbformat_minor": 2
}
